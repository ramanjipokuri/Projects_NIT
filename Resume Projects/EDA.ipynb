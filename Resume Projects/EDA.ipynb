{
 "cells": [
  {
   "cell_type": "markdown",
   "id": "ccf70a7e-9cdf-4e1a-8cd0-8df987e5a708",
   "metadata": {},
   "source": [
    "#  Extracting and Cleaning Data (Exploratory Data Analysis)"
   ]
  },
  {
   "cell_type": "code",
   "execution_count": 3,
   "id": "5d7ec82f-d21b-427b-87cf-f61afce00428",
   "metadata": {},
   "outputs": [],
   "source": [
    "import pandas as pd"
   ]
  },
  {
   "cell_type": "code",
   "execution_count": 4,
   "id": "af0147aa-572f-4a7b-82b1-336a1216b890",
   "metadata": {},
   "outputs": [
    {
     "data": {
      "text/plain": [
       "'2.2.3'"
      ]
     },
     "execution_count": 4,
     "metadata": {},
     "output_type": "execute_result"
    }
   ],
   "source": [
    "pd.__version__"
   ]
  },
  {
   "cell_type": "code",
   "execution_count": 5,
   "id": "53956add-5f7e-4394-b690-57eebc110966",
   "metadata": {},
   "outputs": [],
   "source": [
    "emp=pd.read_excel(r'E:\\FSDS&AI\\Rawdata.xlsx')"
   ]
  },
  {
   "cell_type": "code",
   "execution_count": 6,
   "id": "fbf973dc-e14e-48ce-8b99-2a6f30ec7807",
   "metadata": {},
   "outputs": [
    {
     "data": {
      "text/html": [
       "<div>\n",
       "<style scoped>\n",
       "    .dataframe tbody tr th:only-of-type {\n",
       "        vertical-align: middle;\n",
       "    }\n",
       "\n",
       "    .dataframe tbody tr th {\n",
       "        vertical-align: top;\n",
       "    }\n",
       "\n",
       "    .dataframe thead th {\n",
       "        text-align: right;\n",
       "    }\n",
       "</style>\n",
       "<table border=\"1\" class=\"dataframe\">\n",
       "  <thead>\n",
       "    <tr style=\"text-align: right;\">\n",
       "      <th></th>\n",
       "      <th>Name</th>\n",
       "      <th>Domain</th>\n",
       "      <th>Age</th>\n",
       "      <th>Location</th>\n",
       "      <th>Salary</th>\n",
       "      <th>Exp</th>\n",
       "    </tr>\n",
       "  </thead>\n",
       "  <tbody>\n",
       "    <tr>\n",
       "      <th>0</th>\n",
       "      <td>Mike</td>\n",
       "      <td>Datascience#$</td>\n",
       "      <td>34 years</td>\n",
       "      <td>Mumbai</td>\n",
       "      <td>5^00#0</td>\n",
       "      <td>2+</td>\n",
       "    </tr>\n",
       "    <tr>\n",
       "      <th>1</th>\n",
       "      <td>Teddy^</td>\n",
       "      <td>Testing</td>\n",
       "      <td>45' yr</td>\n",
       "      <td>Bangalore</td>\n",
       "      <td>10%%000</td>\n",
       "      <td>&lt;3</td>\n",
       "    </tr>\n",
       "    <tr>\n",
       "      <th>2</th>\n",
       "      <td>Uma#r</td>\n",
       "      <td>Dataanalyst^^#</td>\n",
       "      <td>NaN</td>\n",
       "      <td>NaN</td>\n",
       "      <td>1$5%000</td>\n",
       "      <td>4&gt; yrs</td>\n",
       "    </tr>\n",
       "    <tr>\n",
       "      <th>3</th>\n",
       "      <td>Jane</td>\n",
       "      <td>Ana^^lytics</td>\n",
       "      <td>NaN</td>\n",
       "      <td>Hyderbad</td>\n",
       "      <td>2000^0</td>\n",
       "      <td>NaN</td>\n",
       "    </tr>\n",
       "    <tr>\n",
       "      <th>4</th>\n",
       "      <td>Uttam*</td>\n",
       "      <td>Statistics</td>\n",
       "      <td>67-yr</td>\n",
       "      <td>NaN</td>\n",
       "      <td>30000-</td>\n",
       "      <td>5+ year</td>\n",
       "    </tr>\n",
       "    <tr>\n",
       "      <th>5</th>\n",
       "      <td>Kim</td>\n",
       "      <td>NLP</td>\n",
       "      <td>55yr</td>\n",
       "      <td>Delhi</td>\n",
       "      <td>6000^$0</td>\n",
       "      <td>10+</td>\n",
       "    </tr>\n",
       "  </tbody>\n",
       "</table>\n",
       "</div>"
      ],
      "text/plain": [
       "     Name          Domain       Age   Location   Salary      Exp\n",
       "0    Mike   Datascience#$  34 years     Mumbai   5^00#0       2+\n",
       "1  Teddy^         Testing    45' yr  Bangalore  10%%000       <3\n",
       "2   Uma#r  Dataanalyst^^#       NaN        NaN  1$5%000   4> yrs\n",
       "3    Jane     Ana^^lytics       NaN   Hyderbad   2000^0      NaN\n",
       "4  Uttam*      Statistics     67-yr        NaN   30000-  5+ year\n",
       "5     Kim             NLP      55yr      Delhi  6000^$0      10+"
      ]
     },
     "execution_count": 6,
     "metadata": {},
     "output_type": "execute_result"
    }
   ],
   "source": [
    "emp"
   ]
  },
  {
   "cell_type": "code",
   "execution_count": 7,
   "id": "a2a6137b-cff7-43f1-845e-4d0ebe347131",
   "metadata": {},
   "outputs": [
    {
     "data": {
      "text/html": [
       "<div>\n",
       "<style scoped>\n",
       "    .dataframe tbody tr th:only-of-type {\n",
       "        vertical-align: middle;\n",
       "    }\n",
       "\n",
       "    .dataframe tbody tr th {\n",
       "        vertical-align: top;\n",
       "    }\n",
       "\n",
       "    .dataframe thead th {\n",
       "        text-align: right;\n",
       "    }\n",
       "</style>\n",
       "<table border=\"1\" class=\"dataframe\">\n",
       "  <thead>\n",
       "    <tr style=\"text-align: right;\">\n",
       "      <th></th>\n",
       "      <th>Name</th>\n",
       "      <th>Domain</th>\n",
       "      <th>Age</th>\n",
       "      <th>Location</th>\n",
       "      <th>Salary</th>\n",
       "      <th>Exp</th>\n",
       "    </tr>\n",
       "  </thead>\n",
       "  <tbody>\n",
       "    <tr>\n",
       "      <th>0</th>\n",
       "      <td>Mike</td>\n",
       "      <td>Datascience#$</td>\n",
       "      <td>34 years</td>\n",
       "      <td>Mumbai</td>\n",
       "      <td>5^00#0</td>\n",
       "      <td>2+</td>\n",
       "    </tr>\n",
       "    <tr>\n",
       "      <th>1</th>\n",
       "      <td>Teddy^</td>\n",
       "      <td>Testing</td>\n",
       "      <td>45' yr</td>\n",
       "      <td>Bangalore</td>\n",
       "      <td>10%%000</td>\n",
       "      <td>&lt;3</td>\n",
       "    </tr>\n",
       "    <tr>\n",
       "      <th>2</th>\n",
       "      <td>Uma#r</td>\n",
       "      <td>Dataanalyst^^#</td>\n",
       "      <td>NaN</td>\n",
       "      <td>NaN</td>\n",
       "      <td>1$5%000</td>\n",
       "      <td>4&gt; yrs</td>\n",
       "    </tr>\n",
       "    <tr>\n",
       "      <th>3</th>\n",
       "      <td>Jane</td>\n",
       "      <td>Ana^^lytics</td>\n",
       "      <td>NaN</td>\n",
       "      <td>Hyderbad</td>\n",
       "      <td>2000^0</td>\n",
       "      <td>NaN</td>\n",
       "    </tr>\n",
       "    <tr>\n",
       "      <th>4</th>\n",
       "      <td>Uttam*</td>\n",
       "      <td>Statistics</td>\n",
       "      <td>67-yr</td>\n",
       "      <td>NaN</td>\n",
       "      <td>30000-</td>\n",
       "      <td>5+ year</td>\n",
       "    </tr>\n",
       "  </tbody>\n",
       "</table>\n",
       "</div>"
      ],
      "text/plain": [
       "     Name          Domain       Age   Location   Salary      Exp\n",
       "0    Mike   Datascience#$  34 years     Mumbai   5^00#0       2+\n",
       "1  Teddy^         Testing    45' yr  Bangalore  10%%000       <3\n",
       "2   Uma#r  Dataanalyst^^#       NaN        NaN  1$5%000   4> yrs\n",
       "3    Jane     Ana^^lytics       NaN   Hyderbad   2000^0      NaN\n",
       "4  Uttam*      Statistics     67-yr        NaN   30000-  5+ year"
      ]
     },
     "execution_count": 7,
     "metadata": {},
     "output_type": "execute_result"
    }
   ],
   "source": [
    "emp.head()"
   ]
  },
  {
   "cell_type": "code",
   "execution_count": 8,
   "id": "bc37fcd3-151f-4f9f-a534-01bedf2e581e",
   "metadata": {},
   "outputs": [
    {
     "data": {
      "text/html": [
       "<div>\n",
       "<style scoped>\n",
       "    .dataframe tbody tr th:only-of-type {\n",
       "        vertical-align: middle;\n",
       "    }\n",
       "\n",
       "    .dataframe tbody tr th {\n",
       "        vertical-align: top;\n",
       "    }\n",
       "\n",
       "    .dataframe thead th {\n",
       "        text-align: right;\n",
       "    }\n",
       "</style>\n",
       "<table border=\"1\" class=\"dataframe\">\n",
       "  <thead>\n",
       "    <tr style=\"text-align: right;\">\n",
       "      <th></th>\n",
       "      <th>Name</th>\n",
       "      <th>Domain</th>\n",
       "      <th>Age</th>\n",
       "      <th>Location</th>\n",
       "      <th>Salary</th>\n",
       "      <th>Exp</th>\n",
       "    </tr>\n",
       "  </thead>\n",
       "  <tbody>\n",
       "    <tr>\n",
       "      <th>1</th>\n",
       "      <td>Teddy^</td>\n",
       "      <td>Testing</td>\n",
       "      <td>45' yr</td>\n",
       "      <td>Bangalore</td>\n",
       "      <td>10%%000</td>\n",
       "      <td>&lt;3</td>\n",
       "    </tr>\n",
       "    <tr>\n",
       "      <th>2</th>\n",
       "      <td>Uma#r</td>\n",
       "      <td>Dataanalyst^^#</td>\n",
       "      <td>NaN</td>\n",
       "      <td>NaN</td>\n",
       "      <td>1$5%000</td>\n",
       "      <td>4&gt; yrs</td>\n",
       "    </tr>\n",
       "    <tr>\n",
       "      <th>3</th>\n",
       "      <td>Jane</td>\n",
       "      <td>Ana^^lytics</td>\n",
       "      <td>NaN</td>\n",
       "      <td>Hyderbad</td>\n",
       "      <td>2000^0</td>\n",
       "      <td>NaN</td>\n",
       "    </tr>\n",
       "    <tr>\n",
       "      <th>4</th>\n",
       "      <td>Uttam*</td>\n",
       "      <td>Statistics</td>\n",
       "      <td>67-yr</td>\n",
       "      <td>NaN</td>\n",
       "      <td>30000-</td>\n",
       "      <td>5+ year</td>\n",
       "    </tr>\n",
       "    <tr>\n",
       "      <th>5</th>\n",
       "      <td>Kim</td>\n",
       "      <td>NLP</td>\n",
       "      <td>55yr</td>\n",
       "      <td>Delhi</td>\n",
       "      <td>6000^$0</td>\n",
       "      <td>10+</td>\n",
       "    </tr>\n",
       "  </tbody>\n",
       "</table>\n",
       "</div>"
      ],
      "text/plain": [
       "     Name          Domain     Age   Location   Salary      Exp\n",
       "1  Teddy^         Testing  45' yr  Bangalore  10%%000       <3\n",
       "2   Uma#r  Dataanalyst^^#     NaN        NaN  1$5%000   4> yrs\n",
       "3    Jane     Ana^^lytics     NaN   Hyderbad   2000^0      NaN\n",
       "4  Uttam*      Statistics   67-yr        NaN   30000-  5+ year\n",
       "5     Kim             NLP    55yr      Delhi  6000^$0      10+"
      ]
     },
     "execution_count": 8,
     "metadata": {},
     "output_type": "execute_result"
    }
   ],
   "source": [
    "emp.tail()"
   ]
  },
  {
   "cell_type": "code",
   "execution_count": 9,
   "id": "07dc1247-1f68-4d8d-95be-261ca6808799",
   "metadata": {},
   "outputs": [
    {
     "data": {
      "text/plain": [
       "<bound method NDFrame.describe of      Name          Domain       Age   Location   Salary      Exp\n",
       "0    Mike   Datascience#$  34 years     Mumbai   5^00#0       2+\n",
       "1  Teddy^         Testing    45' yr  Bangalore  10%%000       <3\n",
       "2   Uma#r  Dataanalyst^^#       NaN        NaN  1$5%000   4> yrs\n",
       "3    Jane     Ana^^lytics       NaN   Hyderbad   2000^0      NaN\n",
       "4  Uttam*      Statistics     67-yr        NaN   30000-  5+ year\n",
       "5     Kim             NLP      55yr      Delhi  6000^$0      10+>"
      ]
     },
     "execution_count": 9,
     "metadata": {},
     "output_type": "execute_result"
    }
   ],
   "source": [
    "emp.describe"
   ]
  },
  {
   "cell_type": "code",
   "execution_count": 10,
   "id": "eebfa5f5-8972-426b-b023-6c62e687bd00",
   "metadata": {},
   "outputs": [
    {
     "data": {
      "text/html": [
       "<div>\n",
       "<style scoped>\n",
       "    .dataframe tbody tr th:only-of-type {\n",
       "        vertical-align: middle;\n",
       "    }\n",
       "\n",
       "    .dataframe tbody tr th {\n",
       "        vertical-align: top;\n",
       "    }\n",
       "\n",
       "    .dataframe thead th {\n",
       "        text-align: right;\n",
       "    }\n",
       "</style>\n",
       "<table border=\"1\" class=\"dataframe\">\n",
       "  <thead>\n",
       "    <tr style=\"text-align: right;\">\n",
       "      <th></th>\n",
       "      <th>Name</th>\n",
       "      <th>Domain</th>\n",
       "      <th>Age</th>\n",
       "      <th>Location</th>\n",
       "      <th>Salary</th>\n",
       "      <th>Exp</th>\n",
       "    </tr>\n",
       "  </thead>\n",
       "  <tbody>\n",
       "    <tr>\n",
       "      <th>count</th>\n",
       "      <td>6</td>\n",
       "      <td>6</td>\n",
       "      <td>4</td>\n",
       "      <td>4</td>\n",
       "      <td>6</td>\n",
       "      <td>5</td>\n",
       "    </tr>\n",
       "    <tr>\n",
       "      <th>unique</th>\n",
       "      <td>6</td>\n",
       "      <td>6</td>\n",
       "      <td>4</td>\n",
       "      <td>4</td>\n",
       "      <td>6</td>\n",
       "      <td>5</td>\n",
       "    </tr>\n",
       "    <tr>\n",
       "      <th>top</th>\n",
       "      <td>Mike</td>\n",
       "      <td>Datascience#$</td>\n",
       "      <td>34 years</td>\n",
       "      <td>Mumbai</td>\n",
       "      <td>5^00#0</td>\n",
       "      <td>2+</td>\n",
       "    </tr>\n",
       "    <tr>\n",
       "      <th>freq</th>\n",
       "      <td>1</td>\n",
       "      <td>1</td>\n",
       "      <td>1</td>\n",
       "      <td>1</td>\n",
       "      <td>1</td>\n",
       "      <td>1</td>\n",
       "    </tr>\n",
       "  </tbody>\n",
       "</table>\n",
       "</div>"
      ],
      "text/plain": [
       "        Name         Domain       Age Location  Salary Exp\n",
       "count      6              6         4        4       6   5\n",
       "unique     6              6         4        4       6   5\n",
       "top     Mike  Datascience#$  34 years   Mumbai  5^00#0  2+\n",
       "freq       1              1         1        1       1   1"
      ]
     },
     "execution_count": 10,
     "metadata": {},
     "output_type": "execute_result"
    }
   ],
   "source": [
    "emp.describe()"
   ]
  },
  {
   "cell_type": "code",
   "execution_count": 11,
   "id": "068b0244-1368-429b-87c1-78fc47af526e",
   "metadata": {},
   "outputs": [
    {
     "data": {
      "text/plain": [
       "1869724772288"
      ]
     },
     "execution_count": 11,
     "metadata": {},
     "output_type": "execute_result"
    }
   ],
   "source": [
    "id(emp)"
   ]
  },
  {
   "cell_type": "code",
   "execution_count": 12,
   "id": "fa6da52c-4b5d-4a45-a504-bfa934ec92e5",
   "metadata": {},
   "outputs": [
    {
     "data": {
      "text/plain": [
       "(6, 6)"
      ]
     },
     "execution_count": 12,
     "metadata": {},
     "output_type": "execute_result"
    }
   ],
   "source": [
    "emp.shape"
   ]
  },
  {
   "cell_type": "code",
   "execution_count": 13,
   "id": "2fe7988c-a749-4bf5-8ae8-9d429c555fcd",
   "metadata": {},
   "outputs": [
    {
     "data": {
      "text/plain": [
       "<bound method DataFrame.info of      Name          Domain       Age   Location   Salary      Exp\n",
       "0    Mike   Datascience#$  34 years     Mumbai   5^00#0       2+\n",
       "1  Teddy^         Testing    45' yr  Bangalore  10%%000       <3\n",
       "2   Uma#r  Dataanalyst^^#       NaN        NaN  1$5%000   4> yrs\n",
       "3    Jane     Ana^^lytics       NaN   Hyderbad   2000^0      NaN\n",
       "4  Uttam*      Statistics     67-yr        NaN   30000-  5+ year\n",
       "5     Kim             NLP      55yr      Delhi  6000^$0      10+>"
      ]
     },
     "execution_count": 13,
     "metadata": {},
     "output_type": "execute_result"
    }
   ],
   "source": [
    "emp.info"
   ]
  },
  {
   "cell_type": "code",
   "execution_count": 14,
   "id": "61082284-a450-4df6-8144-ab5895e0285a",
   "metadata": {},
   "outputs": [
    {
     "name": "stdout",
     "output_type": "stream",
     "text": [
      "<class 'pandas.core.frame.DataFrame'>\n",
      "RangeIndex: 6 entries, 0 to 5\n",
      "Data columns (total 6 columns):\n",
      " #   Column    Non-Null Count  Dtype \n",
      "---  ------    --------------  ----- \n",
      " 0   Name      6 non-null      object\n",
      " 1   Domain    6 non-null      object\n",
      " 2   Age       4 non-null      object\n",
      " 3   Location  4 non-null      object\n",
      " 4   Salary    6 non-null      object\n",
      " 5   Exp       5 non-null      object\n",
      "dtypes: object(6)\n",
      "memory usage: 416.0+ bytes\n"
     ]
    }
   ],
   "source": [
    "emp.info()"
   ]
  },
  {
   "cell_type": "code",
   "execution_count": 15,
   "id": "13656d21-b75b-42e8-84b8-b6e52a8a5772",
   "metadata": {},
   "outputs": [
    {
     "data": {
      "text/html": [
       "<div>\n",
       "<style scoped>\n",
       "    .dataframe tbody tr th:only-of-type {\n",
       "        vertical-align: middle;\n",
       "    }\n",
       "\n",
       "    .dataframe tbody tr th {\n",
       "        vertical-align: top;\n",
       "    }\n",
       "\n",
       "    .dataframe thead th {\n",
       "        text-align: right;\n",
       "    }\n",
       "</style>\n",
       "<table border=\"1\" class=\"dataframe\">\n",
       "  <thead>\n",
       "    <tr style=\"text-align: right;\">\n",
       "      <th></th>\n",
       "      <th>Name</th>\n",
       "      <th>Domain</th>\n",
       "      <th>Age</th>\n",
       "      <th>Location</th>\n",
       "      <th>Salary</th>\n",
       "      <th>Exp</th>\n",
       "    </tr>\n",
       "  </thead>\n",
       "  <tbody>\n",
       "    <tr>\n",
       "      <th>0</th>\n",
       "      <td>False</td>\n",
       "      <td>False</td>\n",
       "      <td>False</td>\n",
       "      <td>False</td>\n",
       "      <td>False</td>\n",
       "      <td>False</td>\n",
       "    </tr>\n",
       "    <tr>\n",
       "      <th>1</th>\n",
       "      <td>False</td>\n",
       "      <td>False</td>\n",
       "      <td>False</td>\n",
       "      <td>False</td>\n",
       "      <td>False</td>\n",
       "      <td>False</td>\n",
       "    </tr>\n",
       "    <tr>\n",
       "      <th>2</th>\n",
       "      <td>False</td>\n",
       "      <td>False</td>\n",
       "      <td>True</td>\n",
       "      <td>True</td>\n",
       "      <td>False</td>\n",
       "      <td>False</td>\n",
       "    </tr>\n",
       "    <tr>\n",
       "      <th>3</th>\n",
       "      <td>False</td>\n",
       "      <td>False</td>\n",
       "      <td>True</td>\n",
       "      <td>False</td>\n",
       "      <td>False</td>\n",
       "      <td>True</td>\n",
       "    </tr>\n",
       "    <tr>\n",
       "      <th>4</th>\n",
       "      <td>False</td>\n",
       "      <td>False</td>\n",
       "      <td>False</td>\n",
       "      <td>True</td>\n",
       "      <td>False</td>\n",
       "      <td>False</td>\n",
       "    </tr>\n",
       "    <tr>\n",
       "      <th>5</th>\n",
       "      <td>False</td>\n",
       "      <td>False</td>\n",
       "      <td>False</td>\n",
       "      <td>False</td>\n",
       "      <td>False</td>\n",
       "      <td>False</td>\n",
       "    </tr>\n",
       "  </tbody>\n",
       "</table>\n",
       "</div>"
      ],
      "text/plain": [
       "    Name  Domain    Age  Location  Salary    Exp\n",
       "0  False   False  False     False   False  False\n",
       "1  False   False  False     False   False  False\n",
       "2  False   False   True      True   False  False\n",
       "3  False   False   True     False   False   True\n",
       "4  False   False  False      True   False  False\n",
       "5  False   False  False     False   False  False"
      ]
     },
     "execution_count": 15,
     "metadata": {},
     "output_type": "execute_result"
    }
   ],
   "source": [
    "emp.isnull()"
   ]
  },
  {
   "cell_type": "code",
   "execution_count": 16,
   "id": "272c2cd0-7747-42a1-8833-324281a70f65",
   "metadata": {},
   "outputs": [
    {
     "data": {
      "text/plain": [
       "Name        0\n",
       "Domain      0\n",
       "Age         2\n",
       "Location    2\n",
       "Salary      0\n",
       "Exp         1\n",
       "dtype: int64"
      ]
     },
     "execution_count": 16,
     "metadata": {},
     "output_type": "execute_result"
    }
   ],
   "source": [
    "emp.isnull().sum()"
   ]
  },
  {
   "cell_type": "code",
   "execution_count": 17,
   "id": "15078c37-8384-4c2c-9054-3f155b19df21",
   "metadata": {},
   "outputs": [
    {
     "data": {
      "text/plain": [
       "Index(['Name', 'Domain', 'Age', 'Location', 'Salary', 'Exp'], dtype='object')"
      ]
     },
     "execution_count": 17,
     "metadata": {},
     "output_type": "execute_result"
    }
   ],
   "source": [
    "emp.columns"
   ]
  },
  {
   "cell_type": "code",
   "execution_count": 18,
   "id": "771859e8-9a1f-4b23-a56b-cdb414c61dc0",
   "metadata": {},
   "outputs": [
    {
     "data": {
      "text/html": [
       "<div>\n",
       "<style scoped>\n",
       "    .dataframe tbody tr th:only-of-type {\n",
       "        vertical-align: middle;\n",
       "    }\n",
       "\n",
       "    .dataframe tbody tr th {\n",
       "        vertical-align: top;\n",
       "    }\n",
       "\n",
       "    .dataframe thead th {\n",
       "        text-align: right;\n",
       "    }\n",
       "</style>\n",
       "<table border=\"1\" class=\"dataframe\">\n",
       "  <thead>\n",
       "    <tr style=\"text-align: right;\">\n",
       "      <th></th>\n",
       "      <th>Name</th>\n",
       "      <th>Domain</th>\n",
       "      <th>Age</th>\n",
       "      <th>Location</th>\n",
       "      <th>Salary</th>\n",
       "      <th>Exp</th>\n",
       "    </tr>\n",
       "  </thead>\n",
       "  <tbody>\n",
       "    <tr>\n",
       "      <th>0</th>\n",
       "      <td>Mike</td>\n",
       "      <td>Datascience#$</td>\n",
       "      <td>34 years</td>\n",
       "      <td>Mumbai</td>\n",
       "      <td>5^00#0</td>\n",
       "      <td>2+</td>\n",
       "    </tr>\n",
       "    <tr>\n",
       "      <th>1</th>\n",
       "      <td>Teddy^</td>\n",
       "      <td>Testing</td>\n",
       "      <td>45' yr</td>\n",
       "      <td>Bangalore</td>\n",
       "      <td>10%%000</td>\n",
       "      <td>&lt;3</td>\n",
       "    </tr>\n",
       "    <tr>\n",
       "      <th>2</th>\n",
       "      <td>Uma#r</td>\n",
       "      <td>Dataanalyst^^#</td>\n",
       "      <td>NaN</td>\n",
       "      <td>NaN</td>\n",
       "      <td>1$5%000</td>\n",
       "      <td>4&gt; yrs</td>\n",
       "    </tr>\n",
       "    <tr>\n",
       "      <th>3</th>\n",
       "      <td>Jane</td>\n",
       "      <td>Ana^^lytics</td>\n",
       "      <td>NaN</td>\n",
       "      <td>Hyderbad</td>\n",
       "      <td>2000^0</td>\n",
       "      <td>NaN</td>\n",
       "    </tr>\n",
       "    <tr>\n",
       "      <th>4</th>\n",
       "      <td>Uttam*</td>\n",
       "      <td>Statistics</td>\n",
       "      <td>67-yr</td>\n",
       "      <td>NaN</td>\n",
       "      <td>30000-</td>\n",
       "      <td>5+ year</td>\n",
       "    </tr>\n",
       "    <tr>\n",
       "      <th>5</th>\n",
       "      <td>Kim</td>\n",
       "      <td>NLP</td>\n",
       "      <td>55yr</td>\n",
       "      <td>Delhi</td>\n",
       "      <td>6000^$0</td>\n",
       "      <td>10+</td>\n",
       "    </tr>\n",
       "  </tbody>\n",
       "</table>\n",
       "</div>"
      ],
      "text/plain": [
       "     Name          Domain       Age   Location   Salary      Exp\n",
       "0    Mike   Datascience#$  34 years     Mumbai   5^00#0       2+\n",
       "1  Teddy^         Testing    45' yr  Bangalore  10%%000       <3\n",
       "2   Uma#r  Dataanalyst^^#       NaN        NaN  1$5%000   4> yrs\n",
       "3    Jane     Ana^^lytics       NaN   Hyderbad   2000^0      NaN\n",
       "4  Uttam*      Statistics     67-yr        NaN   30000-  5+ year\n",
       "5     Kim             NLP      55yr      Delhi  6000^$0      10+"
      ]
     },
     "execution_count": 18,
     "metadata": {},
     "output_type": "execute_result"
    }
   ],
   "source": [
    "emp"
   ]
  },
  {
   "cell_type": "markdown",
   "id": "25bd6c0b-be22-423c-b5e1-fb6577ff0665",
   "metadata": {},
   "source": [
    "# Data Cleaning and Filling null values"
   ]
  },
  {
   "cell_type": "code",
   "execution_count": 20,
   "id": "ce49a6ee-66f4-4899-b174-41f2447c8716",
   "metadata": {},
   "outputs": [
    {
     "data": {
      "text/plain": [
       "0      Mike\n",
       "1    Teddy^\n",
       "2     Uma#r\n",
       "3      Jane\n",
       "4    Uttam*\n",
       "5       Kim\n",
       "Name: Name, dtype: object"
      ]
     },
     "execution_count": 20,
     "metadata": {},
     "output_type": "execute_result"
    }
   ],
   "source": [
    "emp['Name']"
   ]
  },
  {
   "cell_type": "code",
   "execution_count": 21,
   "id": "d85831db-772d-4b16-a5c7-511b522ea88c",
   "metadata": {},
   "outputs": [],
   "source": [
    "emp['Name']=emp['Name'].str.replace(r'\\W','',regex=True)"
   ]
  },
  {
   "cell_type": "code",
   "execution_count": 22,
   "id": "cc3a94e3-66a4-48b7-96cb-67b12c06d19b",
   "metadata": {},
   "outputs": [
    {
     "data": {
      "text/plain": [
       "0     Mike\n",
       "1    Teddy\n",
       "2     Umar\n",
       "3     Jane\n",
       "4    Uttam\n",
       "5      Kim\n",
       "Name: Name, dtype: object"
      ]
     },
     "execution_count": 22,
     "metadata": {},
     "output_type": "execute_result"
    }
   ],
   "source": [
    "emp['Name']"
   ]
  },
  {
   "cell_type": "code",
   "execution_count": 23,
   "id": "c17f3412-beb1-4fda-b002-cdc1718ecf8b",
   "metadata": {},
   "outputs": [
    {
     "data": {
      "text/plain": [
       "0     Datascience#$\n",
       "1           Testing\n",
       "2    Dataanalyst^^#\n",
       "3       Ana^^lytics\n",
       "4        Statistics\n",
       "5               NLP\n",
       "Name: Domain, dtype: object"
      ]
     },
     "execution_count": 23,
     "metadata": {},
     "output_type": "execute_result"
    }
   ],
   "source": [
    "emp['Domain'] "
   ]
  },
  {
   "cell_type": "code",
   "execution_count": 24,
   "id": "14432161-3ba5-4ecd-803b-4a6c48adb95e",
   "metadata": {},
   "outputs": [],
   "source": [
    "emp['Domain']=emp['Domain'].str.replace(r'\\W','',regex=True)"
   ]
  },
  {
   "cell_type": "code",
   "execution_count": 25,
   "id": "5205509b-35ef-4312-b494-ef48a24470e1",
   "metadata": {},
   "outputs": [
    {
     "data": {
      "text/plain": [
       "0    Datascience\n",
       "1        Testing\n",
       "2    Dataanalyst\n",
       "3      Analytics\n",
       "4     Statistics\n",
       "5            NLP\n",
       "Name: Domain, dtype: object"
      ]
     },
     "execution_count": 25,
     "metadata": {},
     "output_type": "execute_result"
    }
   ],
   "source": [
    "emp['Domain']"
   ]
  },
  {
   "cell_type": "code",
   "execution_count": 26,
   "id": "d18df909-b955-481c-be19-83c58bdcb6eb",
   "metadata": {},
   "outputs": [
    {
     "data": {
      "text/plain": [
       "0    34 years\n",
       "1      45' yr\n",
       "2         NaN\n",
       "3         NaN\n",
       "4       67-yr\n",
       "5        55yr\n",
       "Name: Age, dtype: object"
      ]
     },
     "execution_count": 26,
     "metadata": {},
     "output_type": "execute_result"
    }
   ],
   "source": [
    "emp['Age']"
   ]
  },
  {
   "cell_type": "code",
   "execution_count": 27,
   "id": "b4467ff4-059b-4ecc-9fa1-cac4bbeddfc8",
   "metadata": {},
   "outputs": [],
   "source": [
    "emp['Age'] = emp['Age'].str.replace(r'\\W','',regex=True)"
   ]
  },
  {
   "cell_type": "code",
   "execution_count": 28,
   "id": "9f0da2ae-23fd-4895-a9ad-2b8b3c2cfe8d",
   "metadata": {},
   "outputs": [
    {
     "data": {
      "text/plain": [
       "0    34years\n",
       "1       45yr\n",
       "2        NaN\n",
       "3        NaN\n",
       "4       67yr\n",
       "5       55yr\n",
       "Name: Age, dtype: object"
      ]
     },
     "execution_count": 28,
     "metadata": {},
     "output_type": "execute_result"
    }
   ],
   "source": [
    "emp['Age']"
   ]
  },
  {
   "cell_type": "code",
   "execution_count": 29,
   "id": "f6d10571-ae70-43f6-adc7-05f617538dbf",
   "metadata": {},
   "outputs": [],
   "source": [
    "emp['Age'] = emp['Age'].str.extract(r'(\\d+)').astype(float)"
   ]
  },
  {
   "cell_type": "code",
   "execution_count": 30,
   "id": "8434f588-c562-43b4-a20b-9786765ae1ab",
   "metadata": {},
   "outputs": [
    {
     "data": {
      "text/plain": [
       "0    34.0\n",
       "1    45.0\n",
       "2     NaN\n",
       "3     NaN\n",
       "4    67.0\n",
       "5    55.0\n",
       "Name: Age, dtype: float64"
      ]
     },
     "execution_count": 30,
     "metadata": {},
     "output_type": "execute_result"
    }
   ],
   "source": [
    "emp['Age']"
   ]
  },
  {
   "cell_type": "code",
   "execution_count": 31,
   "id": "deb43832-7ad0-4b50-8717-5ad0c25794e8",
   "metadata": {},
   "outputs": [
    {
     "data": {
      "text/plain": [
       "0       Mumbai\n",
       "1    Bangalore\n",
       "2          NaN\n",
       "3     Hyderbad\n",
       "4          NaN\n",
       "5        Delhi\n",
       "Name: Location, dtype: object"
      ]
     },
     "execution_count": 31,
     "metadata": {},
     "output_type": "execute_result"
    }
   ],
   "source": [
    "emp['Location']"
   ]
  },
  {
   "cell_type": "code",
   "execution_count": 32,
   "id": "110fe15e-0b09-4dc6-bc78-745bf6aaba04",
   "metadata": {},
   "outputs": [],
   "source": [
    "emp['Location'] = emp['Location'].str.replace(r'\\W','',regex=True)"
   ]
  },
  {
   "cell_type": "code",
   "execution_count": 33,
   "id": "4801454a-bdf9-4f3a-ad39-451441fb702c",
   "metadata": {},
   "outputs": [
    {
     "data": {
      "text/plain": [
       "0       Mumbai\n",
       "1    Bangalore\n",
       "2          NaN\n",
       "3     Hyderbad\n",
       "4          NaN\n",
       "5        Delhi\n",
       "Name: Location, dtype: object"
      ]
     },
     "execution_count": 33,
     "metadata": {},
     "output_type": "execute_result"
    }
   ],
   "source": [
    "emp['Location']"
   ]
  },
  {
   "cell_type": "code",
   "execution_count": 34,
   "id": "35c1dcb1-a4ac-4a2f-8884-2691a254b667",
   "metadata": {},
   "outputs": [
    {
     "data": {
      "text/plain": [
       "0     5^00#0\n",
       "1    10%%000\n",
       "2    1$5%000\n",
       "3     2000^0\n",
       "4     30000-\n",
       "5    6000^$0\n",
       "Name: Salary, dtype: object"
      ]
     },
     "execution_count": 34,
     "metadata": {},
     "output_type": "execute_result"
    }
   ],
   "source": [
    "emp['Salary']"
   ]
  },
  {
   "cell_type": "code",
   "execution_count": 35,
   "id": "d20277c9-2b0c-4f13-a35a-35b88f3c0dfd",
   "metadata": {},
   "outputs": [],
   "source": [
    "emp['Salary'] = emp['Salary'].str.replace(r'\\W','',regex=True)\n"
   ]
  },
  {
   "cell_type": "code",
   "execution_count": 36,
   "id": "ffd2f9e9-d052-4ffd-ad6a-99da69e5f8d2",
   "metadata": {},
   "outputs": [
    {
     "data": {
      "text/plain": [
       "0     5000\n",
       "1    10000\n",
       "2    15000\n",
       "3    20000\n",
       "4    30000\n",
       "5    60000\n",
       "Name: Salary, dtype: object"
      ]
     },
     "execution_count": 36,
     "metadata": {},
     "output_type": "execute_result"
    }
   ],
   "source": [
    "emp['Salary']"
   ]
  },
  {
   "cell_type": "code",
   "execution_count": 37,
   "id": "ad7d5a12-06a5-49bf-a34b-b2f758fb96ed",
   "metadata": {},
   "outputs": [
    {
     "data": {
      "text/html": [
       "<div>\n",
       "<style scoped>\n",
       "    .dataframe tbody tr th:only-of-type {\n",
       "        vertical-align: middle;\n",
       "    }\n",
       "\n",
       "    .dataframe tbody tr th {\n",
       "        vertical-align: top;\n",
       "    }\n",
       "\n",
       "    .dataframe thead th {\n",
       "        text-align: right;\n",
       "    }\n",
       "</style>\n",
       "<table border=\"1\" class=\"dataframe\">\n",
       "  <thead>\n",
       "    <tr style=\"text-align: right;\">\n",
       "      <th></th>\n",
       "      <th>Name</th>\n",
       "      <th>Domain</th>\n",
       "      <th>Age</th>\n",
       "      <th>Location</th>\n",
       "      <th>Salary</th>\n",
       "      <th>Exp</th>\n",
       "    </tr>\n",
       "  </thead>\n",
       "  <tbody>\n",
       "    <tr>\n",
       "      <th>0</th>\n",
       "      <td>Mike</td>\n",
       "      <td>Datascience</td>\n",
       "      <td>34.0</td>\n",
       "      <td>Mumbai</td>\n",
       "      <td>5000</td>\n",
       "      <td>2+</td>\n",
       "    </tr>\n",
       "    <tr>\n",
       "      <th>1</th>\n",
       "      <td>Teddy</td>\n",
       "      <td>Testing</td>\n",
       "      <td>45.0</td>\n",
       "      <td>Bangalore</td>\n",
       "      <td>10000</td>\n",
       "      <td>&lt;3</td>\n",
       "    </tr>\n",
       "    <tr>\n",
       "      <th>2</th>\n",
       "      <td>Umar</td>\n",
       "      <td>Dataanalyst</td>\n",
       "      <td>NaN</td>\n",
       "      <td>NaN</td>\n",
       "      <td>15000</td>\n",
       "      <td>4&gt; yrs</td>\n",
       "    </tr>\n",
       "    <tr>\n",
       "      <th>3</th>\n",
       "      <td>Jane</td>\n",
       "      <td>Analytics</td>\n",
       "      <td>NaN</td>\n",
       "      <td>Hyderbad</td>\n",
       "      <td>20000</td>\n",
       "      <td>NaN</td>\n",
       "    </tr>\n",
       "    <tr>\n",
       "      <th>4</th>\n",
       "      <td>Uttam</td>\n",
       "      <td>Statistics</td>\n",
       "      <td>67.0</td>\n",
       "      <td>NaN</td>\n",
       "      <td>30000</td>\n",
       "      <td>5+ year</td>\n",
       "    </tr>\n",
       "  </tbody>\n",
       "</table>\n",
       "</div>"
      ],
      "text/plain": [
       "    Name       Domain   Age   Location Salary      Exp\n",
       "0   Mike  Datascience  34.0     Mumbai   5000       2+\n",
       "1  Teddy      Testing  45.0  Bangalore  10000       <3\n",
       "2   Umar  Dataanalyst   NaN        NaN  15000   4> yrs\n",
       "3   Jane    Analytics   NaN   Hyderbad  20000      NaN\n",
       "4  Uttam   Statistics  67.0        NaN  30000  5+ year"
      ]
     },
     "execution_count": 37,
     "metadata": {},
     "output_type": "execute_result"
    }
   ],
   "source": [
    "emp.head()"
   ]
  },
  {
   "cell_type": "code",
   "execution_count": 38,
   "id": "19f50cfd-577e-4a6f-b63f-ccee9dd26e9c",
   "metadata": {},
   "outputs": [
    {
     "data": {
      "text/plain": [
       "0         2+\n",
       "1         <3\n",
       "2     4> yrs\n",
       "3        NaN\n",
       "4    5+ year\n",
       "5        10+\n",
       "Name: Exp, dtype: object"
      ]
     },
     "execution_count": 38,
     "metadata": {},
     "output_type": "execute_result"
    }
   ],
   "source": [
    "emp['Exp']"
   ]
  },
  {
   "cell_type": "code",
   "execution_count": 39,
   "id": "19dceea1-a1e0-4b6d-a5d9-8164142acf0a",
   "metadata": {},
   "outputs": [],
   "source": [
    "emp['Exp'] = emp['Exp'].str.extract(r'(\\d+)')"
   ]
  },
  {
   "cell_type": "code",
   "execution_count": 40,
   "id": "266e7103-15e8-49a4-9cbd-c0d9e647661f",
   "metadata": {},
   "outputs": [
    {
     "data": {
      "text/plain": [
       "0      2\n",
       "1      3\n",
       "2      4\n",
       "3    NaN\n",
       "4      5\n",
       "5     10\n",
       "Name: Exp, dtype: object"
      ]
     },
     "execution_count": 40,
     "metadata": {},
     "output_type": "execute_result"
    }
   ],
   "source": [
    "emp['Exp']"
   ]
  },
  {
   "cell_type": "code",
   "execution_count": 41,
   "id": "250ace0e-5058-41e2-a582-f9b3868f7e91",
   "metadata": {},
   "outputs": [
    {
     "data": {
      "text/html": [
       "<div>\n",
       "<style scoped>\n",
       "    .dataframe tbody tr th:only-of-type {\n",
       "        vertical-align: middle;\n",
       "    }\n",
       "\n",
       "    .dataframe tbody tr th {\n",
       "        vertical-align: top;\n",
       "    }\n",
       "\n",
       "    .dataframe thead th {\n",
       "        text-align: right;\n",
       "    }\n",
       "</style>\n",
       "<table border=\"1\" class=\"dataframe\">\n",
       "  <thead>\n",
       "    <tr style=\"text-align: right;\">\n",
       "      <th></th>\n",
       "      <th>Name</th>\n",
       "      <th>Domain</th>\n",
       "      <th>Age</th>\n",
       "      <th>Location</th>\n",
       "      <th>Salary</th>\n",
       "      <th>Exp</th>\n",
       "    </tr>\n",
       "  </thead>\n",
       "  <tbody>\n",
       "    <tr>\n",
       "      <th>0</th>\n",
       "      <td>Mike</td>\n",
       "      <td>Datascience</td>\n",
       "      <td>34.0</td>\n",
       "      <td>Mumbai</td>\n",
       "      <td>5000</td>\n",
       "      <td>2</td>\n",
       "    </tr>\n",
       "    <tr>\n",
       "      <th>1</th>\n",
       "      <td>Teddy</td>\n",
       "      <td>Testing</td>\n",
       "      <td>45.0</td>\n",
       "      <td>Bangalore</td>\n",
       "      <td>10000</td>\n",
       "      <td>3</td>\n",
       "    </tr>\n",
       "    <tr>\n",
       "      <th>2</th>\n",
       "      <td>Umar</td>\n",
       "      <td>Dataanalyst</td>\n",
       "      <td>NaN</td>\n",
       "      <td>NaN</td>\n",
       "      <td>15000</td>\n",
       "      <td>4</td>\n",
       "    </tr>\n",
       "    <tr>\n",
       "      <th>3</th>\n",
       "      <td>Jane</td>\n",
       "      <td>Analytics</td>\n",
       "      <td>NaN</td>\n",
       "      <td>Hyderbad</td>\n",
       "      <td>20000</td>\n",
       "      <td>NaN</td>\n",
       "    </tr>\n",
       "    <tr>\n",
       "      <th>4</th>\n",
       "      <td>Uttam</td>\n",
       "      <td>Statistics</td>\n",
       "      <td>67.0</td>\n",
       "      <td>NaN</td>\n",
       "      <td>30000</td>\n",
       "      <td>5</td>\n",
       "    </tr>\n",
       "  </tbody>\n",
       "</table>\n",
       "</div>"
      ],
      "text/plain": [
       "    Name       Domain   Age   Location Salary  Exp\n",
       "0   Mike  Datascience  34.0     Mumbai   5000    2\n",
       "1  Teddy      Testing  45.0  Bangalore  10000    3\n",
       "2   Umar  Dataanalyst   NaN        NaN  15000    4\n",
       "3   Jane    Analytics   NaN   Hyderbad  20000  NaN\n",
       "4  Uttam   Statistics  67.0        NaN  30000    5"
      ]
     },
     "execution_count": 41,
     "metadata": {},
     "output_type": "execute_result"
    }
   ],
   "source": [
    "emp.head()"
   ]
  },
  {
   "cell_type": "code",
   "execution_count": 42,
   "id": "47806bfd-8e17-445a-9f7c-0cee9e7c73b2",
   "metadata": {},
   "outputs": [],
   "source": [
    "clean_data=emp.copy()"
   ]
  },
  {
   "cell_type": "code",
   "execution_count": 43,
   "id": "adc52e29-19aa-4dd9-8bd2-c9485a749341",
   "metadata": {},
   "outputs": [
    {
     "data": {
      "text/html": [
       "<div>\n",
       "<style scoped>\n",
       "    .dataframe tbody tr th:only-of-type {\n",
       "        vertical-align: middle;\n",
       "    }\n",
       "\n",
       "    .dataframe tbody tr th {\n",
       "        vertical-align: top;\n",
       "    }\n",
       "\n",
       "    .dataframe thead th {\n",
       "        text-align: right;\n",
       "    }\n",
       "</style>\n",
       "<table border=\"1\" class=\"dataframe\">\n",
       "  <thead>\n",
       "    <tr style=\"text-align: right;\">\n",
       "      <th></th>\n",
       "      <th>Name</th>\n",
       "      <th>Domain</th>\n",
       "      <th>Age</th>\n",
       "      <th>Location</th>\n",
       "      <th>Salary</th>\n",
       "      <th>Exp</th>\n",
       "    </tr>\n",
       "  </thead>\n",
       "  <tbody>\n",
       "    <tr>\n",
       "      <th>0</th>\n",
       "      <td>Mike</td>\n",
       "      <td>Datascience</td>\n",
       "      <td>34.0</td>\n",
       "      <td>Mumbai</td>\n",
       "      <td>5000</td>\n",
       "      <td>2</td>\n",
       "    </tr>\n",
       "    <tr>\n",
       "      <th>1</th>\n",
       "      <td>Teddy</td>\n",
       "      <td>Testing</td>\n",
       "      <td>45.0</td>\n",
       "      <td>Bangalore</td>\n",
       "      <td>10000</td>\n",
       "      <td>3</td>\n",
       "    </tr>\n",
       "    <tr>\n",
       "      <th>2</th>\n",
       "      <td>Umar</td>\n",
       "      <td>Dataanalyst</td>\n",
       "      <td>NaN</td>\n",
       "      <td>NaN</td>\n",
       "      <td>15000</td>\n",
       "      <td>4</td>\n",
       "    </tr>\n",
       "    <tr>\n",
       "      <th>3</th>\n",
       "      <td>Jane</td>\n",
       "      <td>Analytics</td>\n",
       "      <td>NaN</td>\n",
       "      <td>Hyderbad</td>\n",
       "      <td>20000</td>\n",
       "      <td>NaN</td>\n",
       "    </tr>\n",
       "    <tr>\n",
       "      <th>4</th>\n",
       "      <td>Uttam</td>\n",
       "      <td>Statistics</td>\n",
       "      <td>67.0</td>\n",
       "      <td>NaN</td>\n",
       "      <td>30000</td>\n",
       "      <td>5</td>\n",
       "    </tr>\n",
       "    <tr>\n",
       "      <th>5</th>\n",
       "      <td>Kim</td>\n",
       "      <td>NLP</td>\n",
       "      <td>55.0</td>\n",
       "      <td>Delhi</td>\n",
       "      <td>60000</td>\n",
       "      <td>10</td>\n",
       "    </tr>\n",
       "  </tbody>\n",
       "</table>\n",
       "</div>"
      ],
      "text/plain": [
       "    Name       Domain   Age   Location Salary  Exp\n",
       "0   Mike  Datascience  34.0     Mumbai   5000    2\n",
       "1  Teddy      Testing  45.0  Bangalore  10000    3\n",
       "2   Umar  Dataanalyst   NaN        NaN  15000    4\n",
       "3   Jane    Analytics   NaN   Hyderbad  20000  NaN\n",
       "4  Uttam   Statistics  67.0        NaN  30000    5\n",
       "5    Kim          NLP  55.0      Delhi  60000   10"
      ]
     },
     "execution_count": 43,
     "metadata": {},
     "output_type": "execute_result"
    }
   ],
   "source": [
    "clean_data"
   ]
  },
  {
   "cell_type": "code",
   "execution_count": 44,
   "id": "65fc1337-3590-436e-b21b-d11d9489acd1",
   "metadata": {},
   "outputs": [
    {
     "data": {
      "text/html": [
       "<div>\n",
       "<style scoped>\n",
       "    .dataframe tbody tr th:only-of-type {\n",
       "        vertical-align: middle;\n",
       "    }\n",
       "\n",
       "    .dataframe tbody tr th {\n",
       "        vertical-align: top;\n",
       "    }\n",
       "\n",
       "    .dataframe thead th {\n",
       "        text-align: right;\n",
       "    }\n",
       "</style>\n",
       "<table border=\"1\" class=\"dataframe\">\n",
       "  <thead>\n",
       "    <tr style=\"text-align: right;\">\n",
       "      <th></th>\n",
       "      <th>Name</th>\n",
       "      <th>Domain</th>\n",
       "      <th>Age</th>\n",
       "      <th>Location</th>\n",
       "      <th>Salary</th>\n",
       "      <th>Exp</th>\n",
       "    </tr>\n",
       "  </thead>\n",
       "  <tbody>\n",
       "    <tr>\n",
       "      <th>0</th>\n",
       "      <td>False</td>\n",
       "      <td>False</td>\n",
       "      <td>False</td>\n",
       "      <td>False</td>\n",
       "      <td>False</td>\n",
       "      <td>False</td>\n",
       "    </tr>\n",
       "    <tr>\n",
       "      <th>1</th>\n",
       "      <td>False</td>\n",
       "      <td>False</td>\n",
       "      <td>False</td>\n",
       "      <td>False</td>\n",
       "      <td>False</td>\n",
       "      <td>False</td>\n",
       "    </tr>\n",
       "    <tr>\n",
       "      <th>2</th>\n",
       "      <td>False</td>\n",
       "      <td>False</td>\n",
       "      <td>True</td>\n",
       "      <td>True</td>\n",
       "      <td>False</td>\n",
       "      <td>False</td>\n",
       "    </tr>\n",
       "    <tr>\n",
       "      <th>3</th>\n",
       "      <td>False</td>\n",
       "      <td>False</td>\n",
       "      <td>True</td>\n",
       "      <td>False</td>\n",
       "      <td>False</td>\n",
       "      <td>True</td>\n",
       "    </tr>\n",
       "    <tr>\n",
       "      <th>4</th>\n",
       "      <td>False</td>\n",
       "      <td>False</td>\n",
       "      <td>False</td>\n",
       "      <td>True</td>\n",
       "      <td>False</td>\n",
       "      <td>False</td>\n",
       "    </tr>\n",
       "    <tr>\n",
       "      <th>5</th>\n",
       "      <td>False</td>\n",
       "      <td>False</td>\n",
       "      <td>False</td>\n",
       "      <td>False</td>\n",
       "      <td>False</td>\n",
       "      <td>False</td>\n",
       "    </tr>\n",
       "  </tbody>\n",
       "</table>\n",
       "</div>"
      ],
      "text/plain": [
       "    Name  Domain    Age  Location  Salary    Exp\n",
       "0  False   False  False     False   False  False\n",
       "1  False   False  False     False   False  False\n",
       "2  False   False   True      True   False  False\n",
       "3  False   False   True     False   False   True\n",
       "4  False   False  False      True   False  False\n",
       "5  False   False  False     False   False  False"
      ]
     },
     "execution_count": 44,
     "metadata": {},
     "output_type": "execute_result"
    }
   ],
   "source": [
    "clean_data.isnull()"
   ]
  },
  {
   "cell_type": "code",
   "execution_count": 45,
   "id": "3ce0b5d4-3ec8-412f-95c0-1f6942947f88",
   "metadata": {},
   "outputs": [
    {
     "data": {
      "text/plain": [
       "Name        0\n",
       "Domain      0\n",
       "Age         2\n",
       "Location    2\n",
       "Salary      0\n",
       "Exp         1\n",
       "dtype: int64"
      ]
     },
     "execution_count": 45,
     "metadata": {},
     "output_type": "execute_result"
    }
   ],
   "source": [
    "clean_data.isnull().sum()"
   ]
  },
  {
   "cell_type": "code",
   "execution_count": 46,
   "id": "7eba3232-94e6-4569-ace2-e145ea4cf285",
   "metadata": {},
   "outputs": [
    {
     "data": {
      "text/plain": [
       "0    34.0\n",
       "1    45.0\n",
       "2     NaN\n",
       "3     NaN\n",
       "4    67.0\n",
       "5    55.0\n",
       "Name: Age, dtype: float64"
      ]
     },
     "execution_count": 46,
     "metadata": {},
     "output_type": "execute_result"
    }
   ],
   "source": [
    "clean_data['Age']"
   ]
  },
  {
   "cell_type": "code",
   "execution_count": 47,
   "id": "9f5f2ab9-f445-4104-af70-cb257246bd43",
   "metadata": {},
   "outputs": [],
   "source": [
    "import numpy as np"
   ]
  },
  {
   "cell_type": "code",
   "execution_count": 48,
   "id": "10e5009c-01e5-430c-b1e1-6385c5df7912",
   "metadata": {},
   "outputs": [],
   "source": [
    "clean_data['Age']=clean_data['Age'].fillna(np.mean(pd.to_numeric(clean_data['Age'])))"
   ]
  },
  {
   "cell_type": "code",
   "execution_count": 49,
   "id": "bf480335-929b-4aec-a5be-4d95f537a914",
   "metadata": {},
   "outputs": [
    {
     "data": {
      "text/plain": [
       "0    34.00\n",
       "1    45.00\n",
       "2    50.25\n",
       "3    50.25\n",
       "4    67.00\n",
       "5    55.00\n",
       "Name: Age, dtype: float64"
      ]
     },
     "execution_count": 49,
     "metadata": {},
     "output_type": "execute_result"
    }
   ],
   "source": [
    "clean_data['Age']"
   ]
  },
  {
   "cell_type": "code",
   "execution_count": 50,
   "id": "48540d8e-f5ba-4423-82af-1601b2d7d5d0",
   "metadata": {},
   "outputs": [
    {
     "data": {
      "text/plain": [
       "0      2\n",
       "1      3\n",
       "2      4\n",
       "3    NaN\n",
       "4      5\n",
       "5     10\n",
       "Name: Exp, dtype: object"
      ]
     },
     "execution_count": 50,
     "metadata": {},
     "output_type": "execute_result"
    }
   ],
   "source": [
    "clean_data['Exp']"
   ]
  },
  {
   "cell_type": "code",
   "execution_count": 51,
   "id": "b4ce4eb7-01ec-4297-bba2-ab9b8f760a01",
   "metadata": {},
   "outputs": [],
   "source": [
    "clean_data['Exp'] = clean_data['Exp'].fillna(np.mean(pd.to_numeric(clean_data['Exp'])))"
   ]
  },
  {
   "cell_type": "code",
   "execution_count": 52,
   "id": "3fc30df6-a9a2-4dd4-a62f-5f6b033f2599",
   "metadata": {},
   "outputs": [
    {
     "data": {
      "text/plain": [
       "0      2\n",
       "1      3\n",
       "2      4\n",
       "3    4.8\n",
       "4      5\n",
       "5     10\n",
       "Name: Exp, dtype: object"
      ]
     },
     "execution_count": 52,
     "metadata": {},
     "output_type": "execute_result"
    }
   ],
   "source": [
    "clean_data['Exp']"
   ]
  },
  {
   "cell_type": "code",
   "execution_count": 53,
   "id": "7809c9b6-c49e-493c-a317-0f2f1578882c",
   "metadata": {},
   "outputs": [
    {
     "data": {
      "text/html": [
       "<div>\n",
       "<style scoped>\n",
       "    .dataframe tbody tr th:only-of-type {\n",
       "        vertical-align: middle;\n",
       "    }\n",
       "\n",
       "    .dataframe tbody tr th {\n",
       "        vertical-align: top;\n",
       "    }\n",
       "\n",
       "    .dataframe thead th {\n",
       "        text-align: right;\n",
       "    }\n",
       "</style>\n",
       "<table border=\"1\" class=\"dataframe\">\n",
       "  <thead>\n",
       "    <tr style=\"text-align: right;\">\n",
       "      <th></th>\n",
       "      <th>Name</th>\n",
       "      <th>Domain</th>\n",
       "      <th>Age</th>\n",
       "      <th>Location</th>\n",
       "      <th>Salary</th>\n",
       "      <th>Exp</th>\n",
       "    </tr>\n",
       "  </thead>\n",
       "  <tbody>\n",
       "    <tr>\n",
       "      <th>0</th>\n",
       "      <td>Mike</td>\n",
       "      <td>Datascience</td>\n",
       "      <td>34.00</td>\n",
       "      <td>Mumbai</td>\n",
       "      <td>5000</td>\n",
       "      <td>2</td>\n",
       "    </tr>\n",
       "    <tr>\n",
       "      <th>1</th>\n",
       "      <td>Teddy</td>\n",
       "      <td>Testing</td>\n",
       "      <td>45.00</td>\n",
       "      <td>Bangalore</td>\n",
       "      <td>10000</td>\n",
       "      <td>3</td>\n",
       "    </tr>\n",
       "    <tr>\n",
       "      <th>2</th>\n",
       "      <td>Umar</td>\n",
       "      <td>Dataanalyst</td>\n",
       "      <td>50.25</td>\n",
       "      <td>NaN</td>\n",
       "      <td>15000</td>\n",
       "      <td>4</td>\n",
       "    </tr>\n",
       "    <tr>\n",
       "      <th>3</th>\n",
       "      <td>Jane</td>\n",
       "      <td>Analytics</td>\n",
       "      <td>50.25</td>\n",
       "      <td>Hyderbad</td>\n",
       "      <td>20000</td>\n",
       "      <td>4.8</td>\n",
       "    </tr>\n",
       "    <tr>\n",
       "      <th>4</th>\n",
       "      <td>Uttam</td>\n",
       "      <td>Statistics</td>\n",
       "      <td>67.00</td>\n",
       "      <td>NaN</td>\n",
       "      <td>30000</td>\n",
       "      <td>5</td>\n",
       "    </tr>\n",
       "    <tr>\n",
       "      <th>5</th>\n",
       "      <td>Kim</td>\n",
       "      <td>NLP</td>\n",
       "      <td>55.00</td>\n",
       "      <td>Delhi</td>\n",
       "      <td>60000</td>\n",
       "      <td>10</td>\n",
       "    </tr>\n",
       "  </tbody>\n",
       "</table>\n",
       "</div>"
      ],
      "text/plain": [
       "    Name       Domain    Age   Location Salary  Exp\n",
       "0   Mike  Datascience  34.00     Mumbai   5000    2\n",
       "1  Teddy      Testing  45.00  Bangalore  10000    3\n",
       "2   Umar  Dataanalyst  50.25        NaN  15000    4\n",
       "3   Jane    Analytics  50.25   Hyderbad  20000  4.8\n",
       "4  Uttam   Statistics  67.00        NaN  30000    5\n",
       "5    Kim          NLP  55.00      Delhi  60000   10"
      ]
     },
     "execution_count": 53,
     "metadata": {},
     "output_type": "execute_result"
    }
   ],
   "source": [
    "clean_data"
   ]
  },
  {
   "cell_type": "code",
   "execution_count": 54,
   "id": "4bed1a4f-3761-414a-b4c0-ee9696626d28",
   "metadata": {},
   "outputs": [
    {
     "data": {
      "text/plain": [
       "2"
      ]
     },
     "execution_count": 54,
     "metadata": {},
     "output_type": "execute_result"
    }
   ],
   "source": [
    "clean_data['Location'].isnull().sum()"
   ]
  },
  {
   "cell_type": "code",
   "execution_count": 55,
   "id": "4f15986f-111c-4c94-b2fb-6f9c77446d4c",
   "metadata": {},
   "outputs": [
    {
     "data": {
      "text/plain": [
       "0       Mumbai\n",
       "1    Bangalore\n",
       "2          NaN\n",
       "3     Hyderbad\n",
       "4          NaN\n",
       "5        Delhi\n",
       "Name: Location, dtype: object"
      ]
     },
     "execution_count": 55,
     "metadata": {},
     "output_type": "execute_result"
    }
   ],
   "source": [
    "clean_data['Location']"
   ]
  },
  {
   "cell_type": "code",
   "execution_count": 56,
   "id": "13792b5c-ed9b-4577-a80a-4d27d3ef3d07",
   "metadata": {},
   "outputs": [
    {
     "data": {
      "text/html": [
       "<div>\n",
       "<style scoped>\n",
       "    .dataframe tbody tr th:only-of-type {\n",
       "        vertical-align: middle;\n",
       "    }\n",
       "\n",
       "    .dataframe tbody tr th {\n",
       "        vertical-align: top;\n",
       "    }\n",
       "\n",
       "    .dataframe thead th {\n",
       "        text-align: right;\n",
       "    }\n",
       "</style>\n",
       "<table border=\"1\" class=\"dataframe\">\n",
       "  <thead>\n",
       "    <tr style=\"text-align: right;\">\n",
       "      <th></th>\n",
       "      <th>Name</th>\n",
       "      <th>Domain</th>\n",
       "      <th>Age</th>\n",
       "      <th>Location</th>\n",
       "      <th>Salary</th>\n",
       "      <th>Exp</th>\n",
       "    </tr>\n",
       "  </thead>\n",
       "  <tbody>\n",
       "    <tr>\n",
       "      <th>0</th>\n",
       "      <td>Mike</td>\n",
       "      <td>Datascience</td>\n",
       "      <td>34.00</td>\n",
       "      <td>Mumbai</td>\n",
       "      <td>5000</td>\n",
       "      <td>2</td>\n",
       "    </tr>\n",
       "    <tr>\n",
       "      <th>1</th>\n",
       "      <td>Teddy</td>\n",
       "      <td>Testing</td>\n",
       "      <td>45.00</td>\n",
       "      <td>Bangalore</td>\n",
       "      <td>10000</td>\n",
       "      <td>3</td>\n",
       "    </tr>\n",
       "    <tr>\n",
       "      <th>2</th>\n",
       "      <td>Umar</td>\n",
       "      <td>Dataanalyst</td>\n",
       "      <td>50.25</td>\n",
       "      <td>NaN</td>\n",
       "      <td>15000</td>\n",
       "      <td>4</td>\n",
       "    </tr>\n",
       "    <tr>\n",
       "      <th>3</th>\n",
       "      <td>Jane</td>\n",
       "      <td>Analytics</td>\n",
       "      <td>50.25</td>\n",
       "      <td>Hyderbad</td>\n",
       "      <td>20000</td>\n",
       "      <td>4.8</td>\n",
       "    </tr>\n",
       "    <tr>\n",
       "      <th>4</th>\n",
       "      <td>Uttam</td>\n",
       "      <td>Statistics</td>\n",
       "      <td>67.00</td>\n",
       "      <td>NaN</td>\n",
       "      <td>30000</td>\n",
       "      <td>5</td>\n",
       "    </tr>\n",
       "    <tr>\n",
       "      <th>5</th>\n",
       "      <td>Kim</td>\n",
       "      <td>NLP</td>\n",
       "      <td>55.00</td>\n",
       "      <td>Delhi</td>\n",
       "      <td>60000</td>\n",
       "      <td>10</td>\n",
       "    </tr>\n",
       "  </tbody>\n",
       "</table>\n",
       "</div>"
      ],
      "text/plain": [
       "    Name       Domain    Age   Location Salary  Exp\n",
       "0   Mike  Datascience  34.00     Mumbai   5000    2\n",
       "1  Teddy      Testing  45.00  Bangalore  10000    3\n",
       "2   Umar  Dataanalyst  50.25        NaN  15000    4\n",
       "3   Jane    Analytics  50.25   Hyderbad  20000  4.8\n",
       "4  Uttam   Statistics  67.00        NaN  30000    5\n",
       "5    Kim          NLP  55.00      Delhi  60000   10"
      ]
     },
     "execution_count": 56,
     "metadata": {},
     "output_type": "execute_result"
    }
   ],
   "source": [
    "clean_data"
   ]
  },
  {
   "cell_type": "code",
   "execution_count": 57,
   "id": "dc616eb7-a72c-41e2-85ed-c95b3a203304",
   "metadata": {},
   "outputs": [],
   "source": [
    "clean_data['Location'] = clean_data['Location'].fillna(clean_data['Location'].mode()[0])"
   ]
  },
  {
   "cell_type": "code",
   "execution_count": 58,
   "id": "cfa5f77d-28c1-4a8f-8855-490b6443b5bf",
   "metadata": {},
   "outputs": [
    {
     "data": {
      "text/plain": [
       "0       Mumbai\n",
       "1    Bangalore\n",
       "2    Bangalore\n",
       "3     Hyderbad\n",
       "4    Bangalore\n",
       "5        Delhi\n",
       "Name: Location, dtype: object"
      ]
     },
     "execution_count": 58,
     "metadata": {},
     "output_type": "execute_result"
    }
   ],
   "source": [
    "clean_data['Location']"
   ]
  },
  {
   "cell_type": "code",
   "execution_count": 59,
   "id": "484bfbcd-2c40-483e-aab4-d6bd726fded1",
   "metadata": {},
   "outputs": [
    {
     "data": {
      "text/html": [
       "<div>\n",
       "<style scoped>\n",
       "    .dataframe tbody tr th:only-of-type {\n",
       "        vertical-align: middle;\n",
       "    }\n",
       "\n",
       "    .dataframe tbody tr th {\n",
       "        vertical-align: top;\n",
       "    }\n",
       "\n",
       "    .dataframe thead th {\n",
       "        text-align: right;\n",
       "    }\n",
       "</style>\n",
       "<table border=\"1\" class=\"dataframe\">\n",
       "  <thead>\n",
       "    <tr style=\"text-align: right;\">\n",
       "      <th></th>\n",
       "      <th>Name</th>\n",
       "      <th>Domain</th>\n",
       "      <th>Age</th>\n",
       "      <th>Location</th>\n",
       "      <th>Salary</th>\n",
       "      <th>Exp</th>\n",
       "    </tr>\n",
       "  </thead>\n",
       "  <tbody>\n",
       "    <tr>\n",
       "      <th>0</th>\n",
       "      <td>Mike</td>\n",
       "      <td>Datascience</td>\n",
       "      <td>34.00</td>\n",
       "      <td>Mumbai</td>\n",
       "      <td>5000</td>\n",
       "      <td>2</td>\n",
       "    </tr>\n",
       "    <tr>\n",
       "      <th>1</th>\n",
       "      <td>Teddy</td>\n",
       "      <td>Testing</td>\n",
       "      <td>45.00</td>\n",
       "      <td>Bangalore</td>\n",
       "      <td>10000</td>\n",
       "      <td>3</td>\n",
       "    </tr>\n",
       "    <tr>\n",
       "      <th>2</th>\n",
       "      <td>Umar</td>\n",
       "      <td>Dataanalyst</td>\n",
       "      <td>50.25</td>\n",
       "      <td>Bangalore</td>\n",
       "      <td>15000</td>\n",
       "      <td>4</td>\n",
       "    </tr>\n",
       "    <tr>\n",
       "      <th>3</th>\n",
       "      <td>Jane</td>\n",
       "      <td>Analytics</td>\n",
       "      <td>50.25</td>\n",
       "      <td>Hyderbad</td>\n",
       "      <td>20000</td>\n",
       "      <td>4.8</td>\n",
       "    </tr>\n",
       "    <tr>\n",
       "      <th>4</th>\n",
       "      <td>Uttam</td>\n",
       "      <td>Statistics</td>\n",
       "      <td>67.00</td>\n",
       "      <td>Bangalore</td>\n",
       "      <td>30000</td>\n",
       "      <td>5</td>\n",
       "    </tr>\n",
       "    <tr>\n",
       "      <th>5</th>\n",
       "      <td>Kim</td>\n",
       "      <td>NLP</td>\n",
       "      <td>55.00</td>\n",
       "      <td>Delhi</td>\n",
       "      <td>60000</td>\n",
       "      <td>10</td>\n",
       "    </tr>\n",
       "  </tbody>\n",
       "</table>\n",
       "</div>"
      ],
      "text/plain": [
       "    Name       Domain    Age   Location Salary  Exp\n",
       "0   Mike  Datascience  34.00     Mumbai   5000    2\n",
       "1  Teddy      Testing  45.00  Bangalore  10000    3\n",
       "2   Umar  Dataanalyst  50.25  Bangalore  15000    4\n",
       "3   Jane    Analytics  50.25   Hyderbad  20000  4.8\n",
       "4  Uttam   Statistics  67.00  Bangalore  30000    5\n",
       "5    Kim          NLP  55.00      Delhi  60000   10"
      ]
     },
     "execution_count": 59,
     "metadata": {},
     "output_type": "execute_result"
    }
   ],
   "source": [
    "clean_data"
   ]
  },
  {
   "cell_type": "code",
   "execution_count": 60,
   "id": "c9e7be6e-8c76-4572-bbd8-7c07d9febd1d",
   "metadata": {},
   "outputs": [
    {
     "data": {
      "text/plain": [
       "<bound method DataFrame.info of     Name       Domain   Age   Location Salary  Exp\n",
       "0   Mike  Datascience  34.0     Mumbai   5000    2\n",
       "1  Teddy      Testing  45.0  Bangalore  10000    3\n",
       "2   Umar  Dataanalyst   NaN        NaN  15000    4\n",
       "3   Jane    Analytics   NaN   Hyderbad  20000  NaN\n",
       "4  Uttam   Statistics  67.0        NaN  30000    5\n",
       "5    Kim          NLP  55.0      Delhi  60000   10>"
      ]
     },
     "execution_count": 60,
     "metadata": {},
     "output_type": "execute_result"
    }
   ],
   "source": [
    "emp.info"
   ]
  },
  {
   "cell_type": "code",
   "execution_count": 61,
   "id": "9383d4a5-0839-4270-a93f-1ad79979741c",
   "metadata": {},
   "outputs": [
    {
     "name": "stdout",
     "output_type": "stream",
     "text": [
      "<class 'pandas.core.frame.DataFrame'>\n",
      "RangeIndex: 6 entries, 0 to 5\n",
      "Data columns (total 6 columns):\n",
      " #   Column    Non-Null Count  Dtype  \n",
      "---  ------    --------------  -----  \n",
      " 0   Name      6 non-null      object \n",
      " 1   Domain    6 non-null      object \n",
      " 2   Age       4 non-null      float64\n",
      " 3   Location  4 non-null      object \n",
      " 4   Salary    6 non-null      object \n",
      " 5   Exp       5 non-null      object \n",
      "dtypes: float64(1), object(5)\n",
      "memory usage: 416.0+ bytes\n"
     ]
    }
   ],
   "source": [
    "emp.info()"
   ]
  },
  {
   "cell_type": "code",
   "execution_count": 62,
   "id": "7b00ef2d-fec4-4c95-9406-5c0d4e7b1509",
   "metadata": {},
   "outputs": [],
   "source": [
    "clean_data['Age']=clean_data['Age'].astype(int)"
   ]
  },
  {
   "cell_type": "code",
   "execution_count": 63,
   "id": "a7dfb63e-0f6c-42e1-9670-94f39c391b77",
   "metadata": {},
   "outputs": [
    {
     "data": {
      "text/plain": [
       "0    34\n",
       "1    45\n",
       "2    50\n",
       "3    50\n",
       "4    67\n",
       "5    55\n",
       "Name: Age, dtype: int32"
      ]
     },
     "execution_count": 63,
     "metadata": {},
     "output_type": "execute_result"
    }
   ],
   "source": [
    "clean_data['Age']"
   ]
  },
  {
   "cell_type": "code",
   "execution_count": 64,
   "id": "ce179cb7-d6a0-443c-8c80-7fc3fe03fc8f",
   "metadata": {},
   "outputs": [
    {
     "data": {
      "text/plain": [
       "0     5000\n",
       "1    10000\n",
       "2    15000\n",
       "3    20000\n",
       "4    30000\n",
       "5    60000\n",
       "Name: Salary, dtype: int32"
      ]
     },
     "execution_count": 64,
     "metadata": {},
     "output_type": "execute_result"
    }
   ],
   "source": [
    "clean_data['Salary'] = clean_data['Salary'].astype(int)\n",
    "clean_data['Salary']"
   ]
  },
  {
   "cell_type": "code",
   "execution_count": 65,
   "id": "51a65254-1ca8-4ee2-82a9-7046ab7de020",
   "metadata": {},
   "outputs": [],
   "source": [
    "clean_data['Exp'] = clean_data['Exp'].astype(int)"
   ]
  },
  {
   "cell_type": "code",
   "execution_count": 66,
   "id": "e10771b1-6f0e-4682-9790-8ed9c360da0e",
   "metadata": {},
   "outputs": [
    {
     "data": {
      "text/plain": [
       "0     2\n",
       "1     3\n",
       "2     4\n",
       "3     4\n",
       "4     5\n",
       "5    10\n",
       "Name: Exp, dtype: int32"
      ]
     },
     "execution_count": 66,
     "metadata": {},
     "output_type": "execute_result"
    }
   ],
   "source": [
    "clean_data['Exp']"
   ]
  },
  {
   "cell_type": "code",
   "execution_count": 67,
   "id": "c5bac8b7-4228-4c57-844a-6d7aa3aec125",
   "metadata": {},
   "outputs": [
    {
     "data": {
      "text/html": [
       "<div>\n",
       "<style scoped>\n",
       "    .dataframe tbody tr th:only-of-type {\n",
       "        vertical-align: middle;\n",
       "    }\n",
       "\n",
       "    .dataframe tbody tr th {\n",
       "        vertical-align: top;\n",
       "    }\n",
       "\n",
       "    .dataframe thead th {\n",
       "        text-align: right;\n",
       "    }\n",
       "</style>\n",
       "<table border=\"1\" class=\"dataframe\">\n",
       "  <thead>\n",
       "    <tr style=\"text-align: right;\">\n",
       "      <th></th>\n",
       "      <th>Name</th>\n",
       "      <th>Domain</th>\n",
       "      <th>Age</th>\n",
       "      <th>Location</th>\n",
       "      <th>Salary</th>\n",
       "      <th>Exp</th>\n",
       "    </tr>\n",
       "  </thead>\n",
       "  <tbody>\n",
       "    <tr>\n",
       "      <th>0</th>\n",
       "      <td>Mike</td>\n",
       "      <td>Datascience</td>\n",
       "      <td>34</td>\n",
       "      <td>Mumbai</td>\n",
       "      <td>5000</td>\n",
       "      <td>2</td>\n",
       "    </tr>\n",
       "    <tr>\n",
       "      <th>1</th>\n",
       "      <td>Teddy</td>\n",
       "      <td>Testing</td>\n",
       "      <td>45</td>\n",
       "      <td>Bangalore</td>\n",
       "      <td>10000</td>\n",
       "      <td>3</td>\n",
       "    </tr>\n",
       "    <tr>\n",
       "      <th>2</th>\n",
       "      <td>Umar</td>\n",
       "      <td>Dataanalyst</td>\n",
       "      <td>50</td>\n",
       "      <td>Bangalore</td>\n",
       "      <td>15000</td>\n",
       "      <td>4</td>\n",
       "    </tr>\n",
       "    <tr>\n",
       "      <th>3</th>\n",
       "      <td>Jane</td>\n",
       "      <td>Analytics</td>\n",
       "      <td>50</td>\n",
       "      <td>Hyderbad</td>\n",
       "      <td>20000</td>\n",
       "      <td>4</td>\n",
       "    </tr>\n",
       "    <tr>\n",
       "      <th>4</th>\n",
       "      <td>Uttam</td>\n",
       "      <td>Statistics</td>\n",
       "      <td>67</td>\n",
       "      <td>Bangalore</td>\n",
       "      <td>30000</td>\n",
       "      <td>5</td>\n",
       "    </tr>\n",
       "    <tr>\n",
       "      <th>5</th>\n",
       "      <td>Kim</td>\n",
       "      <td>NLP</td>\n",
       "      <td>55</td>\n",
       "      <td>Delhi</td>\n",
       "      <td>60000</td>\n",
       "      <td>10</td>\n",
       "    </tr>\n",
       "  </tbody>\n",
       "</table>\n",
       "</div>"
      ],
      "text/plain": [
       "    Name       Domain  Age   Location  Salary  Exp\n",
       "0   Mike  Datascience   34     Mumbai    5000    2\n",
       "1  Teddy      Testing   45  Bangalore   10000    3\n",
       "2   Umar  Dataanalyst   50  Bangalore   15000    4\n",
       "3   Jane    Analytics   50   Hyderbad   20000    4\n",
       "4  Uttam   Statistics   67  Bangalore   30000    5\n",
       "5    Kim          NLP   55      Delhi   60000   10"
      ]
     },
     "execution_count": 67,
     "metadata": {},
     "output_type": "execute_result"
    }
   ],
   "source": [
    "clean_data"
   ]
  },
  {
   "cell_type": "code",
   "execution_count": 68,
   "id": "e9b14321-6e6b-4195-ab83-dc05a64465de",
   "metadata": {},
   "outputs": [
    {
     "name": "stdout",
     "output_type": "stream",
     "text": [
      "<class 'pandas.core.frame.DataFrame'>\n",
      "RangeIndex: 6 entries, 0 to 5\n",
      "Data columns (total 6 columns):\n",
      " #   Column    Non-Null Count  Dtype \n",
      "---  ------    --------------  ----- \n",
      " 0   Name      6 non-null      object\n",
      " 1   Domain    6 non-null      object\n",
      " 2   Age       6 non-null      int32 \n",
      " 3   Location  6 non-null      object\n",
      " 4   Salary    6 non-null      int32 \n",
      " 5   Exp       6 non-null      int32 \n",
      "dtypes: int32(3), object(3)\n",
      "memory usage: 344.0+ bytes\n"
     ]
    }
   ],
   "source": [
    "clean_data.info()"
   ]
  },
  {
   "cell_type": "code",
   "execution_count": 69,
   "id": "adffa22b-3c16-41c7-87ef-118077050366",
   "metadata": {},
   "outputs": [],
   "source": [
    "clean_data['Location'] = clean_data['Location'].astype('category')"
   ]
  },
  {
   "cell_type": "code",
   "execution_count": 70,
   "id": "9eaec52c-a0e8-46b9-98ab-44988d3d7e40",
   "metadata": {},
   "outputs": [
    {
     "data": {
      "text/plain": [
       "0       Mumbai\n",
       "1    Bangalore\n",
       "2    Bangalore\n",
       "3     Hyderbad\n",
       "4    Bangalore\n",
       "5        Delhi\n",
       "Name: Location, dtype: category\n",
       "Categories (4, object): ['Bangalore', 'Delhi', 'Hyderbad', 'Mumbai']"
      ]
     },
     "execution_count": 70,
     "metadata": {},
     "output_type": "execute_result"
    }
   ],
   "source": [
    "clean_data['Location']"
   ]
  },
  {
   "cell_type": "code",
   "execution_count": 71,
   "id": "00ce35d6-f8fe-4303-9c0f-8517235f6c4c",
   "metadata": {},
   "outputs": [
    {
     "name": "stdout",
     "output_type": "stream",
     "text": [
      "<class 'pandas.core.frame.DataFrame'>\n",
      "RangeIndex: 6 entries, 0 to 5\n",
      "Data columns (total 6 columns):\n",
      " #   Column    Non-Null Count  Dtype   \n",
      "---  ------    --------------  -----   \n",
      " 0   Name      6 non-null      object  \n",
      " 1   Domain    6 non-null      object  \n",
      " 2   Age       6 non-null      int32   \n",
      " 3   Location  6 non-null      category\n",
      " 4   Salary    6 non-null      int32   \n",
      " 5   Exp       6 non-null      int32   \n",
      "dtypes: category(1), int32(3), object(2)\n",
      "memory usage: 506.0+ bytes\n"
     ]
    }
   ],
   "source": [
    "clean_data.info()"
   ]
  },
  {
   "cell_type": "markdown",
   "id": "c4157b57-68da-45c1-918e-adea21646851",
   "metadata": {},
   "source": [
    "# Checking path location"
   ]
  },
  {
   "cell_type": "code",
   "execution_count": 73,
   "id": "c2e2abee-c017-471a-879a-7b3de06ed17c",
   "metadata": {},
   "outputs": [],
   "source": [
    "clean_data.to_csv('clean_data.csv')"
   ]
  },
  {
   "cell_type": "code",
   "execution_count": 74,
   "id": "33bd332a-4d08-4be5-a278-88709a68e742",
   "metadata": {},
   "outputs": [
    {
     "data": {
      "text/plain": [
       "'C:\\\\Users\\\\raman\\\\Naresh iT FSDS'"
      ]
     },
     "execution_count": 74,
     "metadata": {},
     "output_type": "execute_result"
    }
   ],
   "source": [
    "import os \n",
    "os.getcwd()"
   ]
  },
  {
   "cell_type": "code",
   "execution_count": 75,
   "id": "69dfe84f-d0f3-4b65-8509-093bbf432059",
   "metadata": {},
   "outputs": [
    {
     "data": {
      "text/html": [
       "<div>\n",
       "<style scoped>\n",
       "    .dataframe tbody tr th:only-of-type {\n",
       "        vertical-align: middle;\n",
       "    }\n",
       "\n",
       "    .dataframe tbody tr th {\n",
       "        vertical-align: top;\n",
       "    }\n",
       "\n",
       "    .dataframe thead th {\n",
       "        text-align: right;\n",
       "    }\n",
       "</style>\n",
       "<table border=\"1\" class=\"dataframe\">\n",
       "  <thead>\n",
       "    <tr style=\"text-align: right;\">\n",
       "      <th></th>\n",
       "      <th>Name</th>\n",
       "      <th>Domain</th>\n",
       "      <th>Age</th>\n",
       "      <th>Location</th>\n",
       "      <th>Salary</th>\n",
       "      <th>Exp</th>\n",
       "    </tr>\n",
       "  </thead>\n",
       "  <tbody>\n",
       "    <tr>\n",
       "      <th>0</th>\n",
       "      <td>Mike</td>\n",
       "      <td>Datascience</td>\n",
       "      <td>34</td>\n",
       "      <td>Mumbai</td>\n",
       "      <td>5000</td>\n",
       "      <td>2</td>\n",
       "    </tr>\n",
       "    <tr>\n",
       "      <th>1</th>\n",
       "      <td>Teddy</td>\n",
       "      <td>Testing</td>\n",
       "      <td>45</td>\n",
       "      <td>Bangalore</td>\n",
       "      <td>10000</td>\n",
       "      <td>3</td>\n",
       "    </tr>\n",
       "    <tr>\n",
       "      <th>2</th>\n",
       "      <td>Umar</td>\n",
       "      <td>Dataanalyst</td>\n",
       "      <td>50</td>\n",
       "      <td>Bangalore</td>\n",
       "      <td>15000</td>\n",
       "      <td>4</td>\n",
       "    </tr>\n",
       "    <tr>\n",
       "      <th>3</th>\n",
       "      <td>Jane</td>\n",
       "      <td>Analytics</td>\n",
       "      <td>50</td>\n",
       "      <td>Hyderbad</td>\n",
       "      <td>20000</td>\n",
       "      <td>4</td>\n",
       "    </tr>\n",
       "    <tr>\n",
       "      <th>4</th>\n",
       "      <td>Uttam</td>\n",
       "      <td>Statistics</td>\n",
       "      <td>67</td>\n",
       "      <td>Bangalore</td>\n",
       "      <td>30000</td>\n",
       "      <td>5</td>\n",
       "    </tr>\n",
       "    <tr>\n",
       "      <th>5</th>\n",
       "      <td>Kim</td>\n",
       "      <td>NLP</td>\n",
       "      <td>55</td>\n",
       "      <td>Delhi</td>\n",
       "      <td>60000</td>\n",
       "      <td>10</td>\n",
       "    </tr>\n",
       "  </tbody>\n",
       "</table>\n",
       "</div>"
      ],
      "text/plain": [
       "    Name       Domain  Age   Location  Salary  Exp\n",
       "0   Mike  Datascience   34     Mumbai    5000    2\n",
       "1  Teddy      Testing   45  Bangalore   10000    3\n",
       "2   Umar  Dataanalyst   50  Bangalore   15000    4\n",
       "3   Jane    Analytics   50   Hyderbad   20000    4\n",
       "4  Uttam   Statistics   67  Bangalore   30000    5\n",
       "5    Kim          NLP   55      Delhi   60000   10"
      ]
     },
     "execution_count": 75,
     "metadata": {},
     "output_type": "execute_result"
    }
   ],
   "source": [
    "clean_data"
   ]
  },
  {
   "cell_type": "markdown",
   "id": "0b606e9f-c9aa-41a5-bc45-27cc36f00164",
   "metadata": {},
   "source": [
    "# Graphical representation between Experience and Salary"
   ]
  },
  {
   "cell_type": "code",
   "execution_count": 77,
   "id": "f455e647-d2c0-4123-a4bf-9a09629f8acb",
   "metadata": {},
   "outputs": [],
   "source": [
    "import matplotlib.pyplot as plt"
   ]
  },
  {
   "cell_type": "code",
   "execution_count": 78,
   "id": "e57d5ff3-5d65-43ee-ae6e-c493a5e28661",
   "metadata": {},
   "outputs": [],
   "source": [
    "import seaborn as sns"
   ]
  },
  {
   "cell_type": "code",
   "execution_count": 79,
   "id": "4b44df50-3dba-4187-9665-8e6b45a2e8f5",
   "metadata": {},
   "outputs": [],
   "source": [
    "import warnings\n",
    "warnings.filterwarnings('ignore')"
   ]
  },
  {
   "cell_type": "code",
   "execution_count": 80,
   "id": "a669a8be-fa02-4590-a070-b54792a7d1fd",
   "metadata": {},
   "outputs": [
    {
     "data": {
      "text/plain": [
       "0     5000\n",
       "1    10000\n",
       "2    15000\n",
       "3    20000\n",
       "4    30000\n",
       "5    60000\n",
       "Name: Salary, dtype: int32"
      ]
     },
     "execution_count": 80,
     "metadata": {},
     "output_type": "execute_result"
    }
   ],
   "source": [
    "clean_data['Salary']"
   ]
  },
  {
   "cell_type": "code",
   "execution_count": 81,
   "id": "4d672487-20ef-4dbe-86ea-145e4e34d6c4",
   "metadata": {},
   "outputs": [
    {
     "data": {
      "image/png": "[encoded data removed]",
      "text/plain": [
       "<Figure size 640x480 with 1 Axes>"
      ]
     },
     "metadata": {},
     "output_type": "display_data"
    }
   ],
   "source": [
    "vis1 = sns.distplot(clean_data['Salary'])"
   ]
  },
  {
   "cell_type": "code",
   "execution_count": 82,
   "id": "288d0718-9488-4a9c-a6fc-defb9587722c",
   "metadata": {},
   "outputs": [
    {
     "data": {
      "image/png": "[encoded data removed]",
      "text/plain": [
       "<Figure size 640x480 with 1 Axes>"
      ]
     },
     "metadata": {},
     "output_type": "display_data"
    }
   ],
   "source": [
    "vis2 = sns.histplot(clean_data['Salary'])"
   ]
  },
  {
   "cell_type": "code",
   "execution_count": 83,
   "id": "fee8ff60-63e6-4e36-822b-b73096d92f3c",
   "metadata": {},
   "outputs": [
    {
     "data": {
      "image/png": "[encoded data removed]",
      "text/plain": [
       "<Figure size 500x500 with 1 Axes>"
      ]
     },
     "metadata": {},
     "output_type": "display_data"
    }
   ],
   "source": [
    "vis3 = sns.lmplot(data=clean_data,x = 'Exp', y='Salary')"
   ]
  },
  {
   "cell_type": "code",
   "execution_count": 84,
   "id": "577f5fd0-db46-43b8-82e5-cac1b3a0dd15",
   "metadata": {},
   "outputs": [
    {
     "data": {
      "image/png": "[encoded data removed]",
      "text/plain": [
       "<Figure size 500x500 with 1 Axes>"
      ]
     },
     "metadata": {},
     "output_type": "display_data"
    }
   ],
   "source": [
    "vis6=sns.lmplot(data=clean_data,x='Salary',y='Age')"
   ]
  },
  {
   "cell_type": "code",
   "execution_count": 85,
   "id": "ba2471a7-785b-44c4-924e-27a7360d0953",
   "metadata": {},
   "outputs": [
    {
     "data": {
      "text/plain": [
       "Name          object\n",
       "Domain        object\n",
       "Age            int32\n",
       "Location    category\n",
       "Salary         int32\n",
       "Exp            int32\n",
       "dtype: object"
      ]
     },
     "execution_count": 85,
     "metadata": {},
     "output_type": "execute_result"
    }
   ],
   "source": [
    "clean_data.dtypes"
   ]
  },
  {
   "cell_type": "code",
   "execution_count": 86,
   "id": "03aef01d-a7b9-4679-a6e2-40b913be4b13",
   "metadata": {},
   "outputs": [
    {
     "data": {
      "image/png": "[encoded data removed]",
      "text/plain": [
       "<Figure size 500x500 with 1 Axes>"
      ]
     },
     "metadata": {},
     "output_type": "display_data"
    }
   ],
   "source": [
    "vis4 = sns.lmplot(data=clean_data,x='Exp',y='Salary',fit_reg=False)"
   ]
  },
  {
   "cell_type": "code",
   "execution_count": 87,
   "id": "85ddb259-0d42-43fe-b17a-bd8ab366f760",
   "metadata": {},
   "outputs": [
    {
     "data": {
      "image/png": "[encoded data removed]",
      "text/plain": [
       "<Figure size 500x500 with 1 Axes>"
      ]
     },
     "metadata": {},
     "output_type": "display_data"
    }
   ],
   "source": [
    "vis5=sns.lmplot(data=clean_data,x='Salary',y='Exp',fit_reg=False)"
   ]
  },
  {
   "cell_type": "markdown",
   "id": "10426910-00ff-4dd0-8f30-39a84bb3caa5",
   "metadata": {},
   "source": [
    "# Slicing the cleaned data"
   ]
  },
  {
   "cell_type": "code",
   "execution_count": 89,
   "id": "dee68667-116f-4d4c-a4af-550ecd365e23",
   "metadata": {},
   "outputs": [
    {
     "data": {
      "text/html": [
       "<div>\n",
       "<style scoped>\n",
       "    .dataframe tbody tr th:only-of-type {\n",
       "        vertical-align: middle;\n",
       "    }\n",
       "\n",
       "    .dataframe tbody tr th {\n",
       "        vertical-align: top;\n",
       "    }\n",
       "\n",
       "    .dataframe thead th {\n",
       "        text-align: right;\n",
       "    }\n",
       "</style>\n",
       "<table border=\"1\" class=\"dataframe\">\n",
       "  <thead>\n",
       "    <tr style=\"text-align: right;\">\n",
       "      <th></th>\n",
       "      <th>Name</th>\n",
       "      <th>Domain</th>\n",
       "      <th>Age</th>\n",
       "      <th>Location</th>\n",
       "      <th>Salary</th>\n",
       "      <th>Exp</th>\n",
       "    </tr>\n",
       "  </thead>\n",
       "  <tbody>\n",
       "    <tr>\n",
       "      <th>0</th>\n",
       "      <td>Mike</td>\n",
       "      <td>Datascience</td>\n",
       "      <td>34</td>\n",
       "      <td>Mumbai</td>\n",
       "      <td>5000</td>\n",
       "      <td>2</td>\n",
       "    </tr>\n",
       "    <tr>\n",
       "      <th>1</th>\n",
       "      <td>Teddy</td>\n",
       "      <td>Testing</td>\n",
       "      <td>45</td>\n",
       "      <td>Bangalore</td>\n",
       "      <td>10000</td>\n",
       "      <td>3</td>\n",
       "    </tr>\n",
       "    <tr>\n",
       "      <th>2</th>\n",
       "      <td>Umar</td>\n",
       "      <td>Dataanalyst</td>\n",
       "      <td>50</td>\n",
       "      <td>Bangalore</td>\n",
       "      <td>15000</td>\n",
       "      <td>4</td>\n",
       "    </tr>\n",
       "    <tr>\n",
       "      <th>3</th>\n",
       "      <td>Jane</td>\n",
       "      <td>Analytics</td>\n",
       "      <td>50</td>\n",
       "      <td>Hyderbad</td>\n",
       "      <td>20000</td>\n",
       "      <td>4</td>\n",
       "    </tr>\n",
       "    <tr>\n",
       "      <th>4</th>\n",
       "      <td>Uttam</td>\n",
       "      <td>Statistics</td>\n",
       "      <td>67</td>\n",
       "      <td>Bangalore</td>\n",
       "      <td>30000</td>\n",
       "      <td>5</td>\n",
       "    </tr>\n",
       "    <tr>\n",
       "      <th>5</th>\n",
       "      <td>Kim</td>\n",
       "      <td>NLP</td>\n",
       "      <td>55</td>\n",
       "      <td>Delhi</td>\n",
       "      <td>60000</td>\n",
       "      <td>10</td>\n",
       "    </tr>\n",
       "  </tbody>\n",
       "</table>\n",
       "</div>"
      ],
      "text/plain": [
       "    Name       Domain  Age   Location  Salary  Exp\n",
       "0   Mike  Datascience   34     Mumbai    5000    2\n",
       "1  Teddy      Testing   45  Bangalore   10000    3\n",
       "2   Umar  Dataanalyst   50  Bangalore   15000    4\n",
       "3   Jane    Analytics   50   Hyderbad   20000    4\n",
       "4  Uttam   Statistics   67  Bangalore   30000    5\n",
       "5    Kim          NLP   55      Delhi   60000   10"
      ]
     },
     "execution_count": 89,
     "metadata": {},
     "output_type": "execute_result"
    }
   ],
   "source": [
    "clean_data[:]"
   ]
  },
  {
   "cell_type": "code",
   "execution_count": 90,
   "id": "fb8715a6-0669-4604-adf8-522ef6c297cf",
   "metadata": {},
   "outputs": [
    {
     "data": {
      "text/html": [
       "<div>\n",
       "<style scoped>\n",
       "    .dataframe tbody tr th:only-of-type {\n",
       "        vertical-align: middle;\n",
       "    }\n",
       "\n",
       "    .dataframe tbody tr th {\n",
       "        vertical-align: top;\n",
       "    }\n",
       "\n",
       "    .dataframe thead th {\n",
       "        text-align: right;\n",
       "    }\n",
       "</style>\n",
       "<table border=\"1\" class=\"dataframe\">\n",
       "  <thead>\n",
       "    <tr style=\"text-align: right;\">\n",
       "      <th></th>\n",
       "      <th>Name</th>\n",
       "      <th>Domain</th>\n",
       "      <th>Age</th>\n",
       "      <th>Location</th>\n",
       "      <th>Salary</th>\n",
       "      <th>Exp</th>\n",
       "    </tr>\n",
       "  </thead>\n",
       "  <tbody>\n",
       "    <tr>\n",
       "      <th>0</th>\n",
       "      <td>Mike</td>\n",
       "      <td>Datascience</td>\n",
       "      <td>34</td>\n",
       "      <td>Mumbai</td>\n",
       "      <td>5000</td>\n",
       "      <td>2</td>\n",
       "    </tr>\n",
       "    <tr>\n",
       "      <th>2</th>\n",
       "      <td>Umar</td>\n",
       "      <td>Dataanalyst</td>\n",
       "      <td>50</td>\n",
       "      <td>Bangalore</td>\n",
       "      <td>15000</td>\n",
       "      <td>4</td>\n",
       "    </tr>\n",
       "    <tr>\n",
       "      <th>4</th>\n",
       "      <td>Uttam</td>\n",
       "      <td>Statistics</td>\n",
       "      <td>67</td>\n",
       "      <td>Bangalore</td>\n",
       "      <td>30000</td>\n",
       "      <td>5</td>\n",
       "    </tr>\n",
       "  </tbody>\n",
       "</table>\n",
       "</div>"
      ],
      "text/plain": [
       "    Name       Domain  Age   Location  Salary  Exp\n",
       "0   Mike  Datascience   34     Mumbai    5000    2\n",
       "2   Umar  Dataanalyst   50  Bangalore   15000    4\n",
       "4  Uttam   Statistics   67  Bangalore   30000    5"
      ]
     },
     "execution_count": 90,
     "metadata": {},
     "output_type": "execute_result"
    }
   ],
   "source": [
    "clean_data[0:6:2]"
   ]
  },
  {
   "cell_type": "code",
   "execution_count": 91,
   "id": "a376dd83-a834-402f-bdcb-e894dac011de",
   "metadata": {},
   "outputs": [
    {
     "data": {
      "text/html": [
       "<div>\n",
       "<style scoped>\n",
       "    .dataframe tbody tr th:only-of-type {\n",
       "        vertical-align: middle;\n",
       "    }\n",
       "\n",
       "    .dataframe tbody tr th {\n",
       "        vertical-align: top;\n",
       "    }\n",
       "\n",
       "    .dataframe thead th {\n",
       "        text-align: right;\n",
       "    }\n",
       "</style>\n",
       "<table border=\"1\" class=\"dataframe\">\n",
       "  <thead>\n",
       "    <tr style=\"text-align: right;\">\n",
       "      <th></th>\n",
       "      <th>Name</th>\n",
       "      <th>Domain</th>\n",
       "      <th>Age</th>\n",
       "      <th>Location</th>\n",
       "      <th>Salary</th>\n",
       "      <th>Exp</th>\n",
       "    </tr>\n",
       "  </thead>\n",
       "  <tbody>\n",
       "    <tr>\n",
       "      <th>5</th>\n",
       "      <td>Kim</td>\n",
       "      <td>NLP</td>\n",
       "      <td>55</td>\n",
       "      <td>Delhi</td>\n",
       "      <td>60000</td>\n",
       "      <td>10</td>\n",
       "    </tr>\n",
       "    <tr>\n",
       "      <th>4</th>\n",
       "      <td>Uttam</td>\n",
       "      <td>Statistics</td>\n",
       "      <td>67</td>\n",
       "      <td>Bangalore</td>\n",
       "      <td>30000</td>\n",
       "      <td>5</td>\n",
       "    </tr>\n",
       "    <tr>\n",
       "      <th>3</th>\n",
       "      <td>Jane</td>\n",
       "      <td>Analytics</td>\n",
       "      <td>50</td>\n",
       "      <td>Hyderbad</td>\n",
       "      <td>20000</td>\n",
       "      <td>4</td>\n",
       "    </tr>\n",
       "    <tr>\n",
       "      <th>2</th>\n",
       "      <td>Umar</td>\n",
       "      <td>Dataanalyst</td>\n",
       "      <td>50</td>\n",
       "      <td>Bangalore</td>\n",
       "      <td>15000</td>\n",
       "      <td>4</td>\n",
       "    </tr>\n",
       "    <tr>\n",
       "      <th>1</th>\n",
       "      <td>Teddy</td>\n",
       "      <td>Testing</td>\n",
       "      <td>45</td>\n",
       "      <td>Bangalore</td>\n",
       "      <td>10000</td>\n",
       "      <td>3</td>\n",
       "    </tr>\n",
       "    <tr>\n",
       "      <th>0</th>\n",
       "      <td>Mike</td>\n",
       "      <td>Datascience</td>\n",
       "      <td>34</td>\n",
       "      <td>Mumbai</td>\n",
       "      <td>5000</td>\n",
       "      <td>2</td>\n",
       "    </tr>\n",
       "  </tbody>\n",
       "</table>\n",
       "</div>"
      ],
      "text/plain": [
       "    Name       Domain  Age   Location  Salary  Exp\n",
       "5    Kim          NLP   55      Delhi   60000   10\n",
       "4  Uttam   Statistics   67  Bangalore   30000    5\n",
       "3   Jane    Analytics   50   Hyderbad   20000    4\n",
       "2   Umar  Dataanalyst   50  Bangalore   15000    4\n",
       "1  Teddy      Testing   45  Bangalore   10000    3\n",
       "0   Mike  Datascience   34     Mumbai    5000    2"
      ]
     },
     "execution_count": 91,
     "metadata": {},
     "output_type": "execute_result"
    }
   ],
   "source": [
    "clean_data[::-1]"
   ]
  },
  {
   "cell_type": "markdown",
   "id": "7c8975ca-7f01-468b-8bb7-4ae0ce53fc61",
   "metadata": {},
   "source": [
    "# Dividing independent and dependent variables"
   ]
  },
  {
   "cell_type": "code",
   "execution_count": 93,
   "id": "3b4deacc-d320-4f35-95d9-07313f2433b6",
   "metadata": {},
   "outputs": [
    {
     "data": {
      "text/plain": [
       "Index(['Name', 'Domain', 'Age', 'Location', 'Salary', 'Exp'], dtype='object')"
      ]
     },
     "execution_count": 93,
     "metadata": {},
     "output_type": "execute_result"
    }
   ],
   "source": [
    "clean_data.columns"
   ]
  },
  {
   "cell_type": "code",
   "execution_count": 94,
   "id": "2e15a730-ca2a-454f-a1cc-5621ecfc6eea",
   "metadata": {},
   "outputs": [],
   "source": [
    "x_ind_var=clean_data[['Name','Domain','Age','Location','Exp']]"
   ]
  },
  {
   "cell_type": "code",
   "execution_count": 95,
   "id": "3521f838-ceaf-4fc7-a199-ab69d62a422a",
   "metadata": {},
   "outputs": [
    {
     "data": {
      "text/html": [
       "<div>\n",
       "<style scoped>\n",
       "    .dataframe tbody tr th:only-of-type {\n",
       "        vertical-align: middle;\n",
       "    }\n",
       "\n",
       "    .dataframe tbody tr th {\n",
       "        vertical-align: top;\n",
       "    }\n",
       "\n",
       "    .dataframe thead th {\n",
       "        text-align: right;\n",
       "    }\n",
       "</style>\n",
       "<table border=\"1\" class=\"dataframe\">\n",
       "  <thead>\n",
       "    <tr style=\"text-align: right;\">\n",
       "      <th></th>\n",
       "      <th>Name</th>\n",
       "      <th>Domain</th>\n",
       "      <th>Age</th>\n",
       "      <th>Location</th>\n",
       "      <th>Exp</th>\n",
       "    </tr>\n",
       "  </thead>\n",
       "  <tbody>\n",
       "    <tr>\n",
       "      <th>0</th>\n",
       "      <td>Mike</td>\n",
       "      <td>Datascience</td>\n",
       "      <td>34</td>\n",
       "      <td>Mumbai</td>\n",
       "      <td>2</td>\n",
       "    </tr>\n",
       "    <tr>\n",
       "      <th>1</th>\n",
       "      <td>Teddy</td>\n",
       "      <td>Testing</td>\n",
       "      <td>45</td>\n",
       "      <td>Bangalore</td>\n",
       "      <td>3</td>\n",
       "    </tr>\n",
       "    <tr>\n",
       "      <th>2</th>\n",
       "      <td>Umar</td>\n",
       "      <td>Dataanalyst</td>\n",
       "      <td>50</td>\n",
       "      <td>Bangalore</td>\n",
       "      <td>4</td>\n",
       "    </tr>\n",
       "    <tr>\n",
       "      <th>3</th>\n",
       "      <td>Jane</td>\n",
       "      <td>Analytics</td>\n",
       "      <td>50</td>\n",
       "      <td>Hyderbad</td>\n",
       "      <td>4</td>\n",
       "    </tr>\n",
       "    <tr>\n",
       "      <th>4</th>\n",
       "      <td>Uttam</td>\n",
       "      <td>Statistics</td>\n",
       "      <td>67</td>\n",
       "      <td>Bangalore</td>\n",
       "      <td>5</td>\n",
       "    </tr>\n",
       "    <tr>\n",
       "      <th>5</th>\n",
       "      <td>Kim</td>\n",
       "      <td>NLP</td>\n",
       "      <td>55</td>\n",
       "      <td>Delhi</td>\n",
       "      <td>10</td>\n",
       "    </tr>\n",
       "  </tbody>\n",
       "</table>\n",
       "</div>"
      ],
      "text/plain": [
       "    Name       Domain  Age   Location  Exp\n",
       "0   Mike  Datascience   34     Mumbai    2\n",
       "1  Teddy      Testing   45  Bangalore    3\n",
       "2   Umar  Dataanalyst   50  Bangalore    4\n",
       "3   Jane    Analytics   50   Hyderbad    4\n",
       "4  Uttam   Statistics   67  Bangalore    5\n",
       "5    Kim          NLP   55      Delhi   10"
      ]
     },
     "execution_count": 95,
     "metadata": {},
     "output_type": "execute_result"
    }
   ],
   "source": [
    "x_ind_var"
   ]
  },
  {
   "cell_type": "code",
   "execution_count": 96,
   "id": "6f805cda-87be-4d99-a79c-9189315dd789",
   "metadata": {},
   "outputs": [],
   "source": [
    "y_dep_var=clean_data[['Salary']]"
   ]
  },
  {
   "cell_type": "code",
   "execution_count": 97,
   "id": "c8178d3e-9462-4859-9180-b7e341b6ed8d",
   "metadata": {},
   "outputs": [
    {
     "data": {
      "text/html": [
       "<div>\n",
       "<style scoped>\n",
       "    .dataframe tbody tr th:only-of-type {\n",
       "        vertical-align: middle;\n",
       "    }\n",
       "\n",
       "    .dataframe tbody tr th {\n",
       "        vertical-align: top;\n",
       "    }\n",
       "\n",
       "    .dataframe thead th {\n",
       "        text-align: right;\n",
       "    }\n",
       "</style>\n",
       "<table border=\"1\" class=\"dataframe\">\n",
       "  <thead>\n",
       "    <tr style=\"text-align: right;\">\n",
       "      <th></th>\n",
       "      <th>Salary</th>\n",
       "    </tr>\n",
       "  </thead>\n",
       "  <tbody>\n",
       "    <tr>\n",
       "      <th>0</th>\n",
       "      <td>5000</td>\n",
       "    </tr>\n",
       "    <tr>\n",
       "      <th>1</th>\n",
       "      <td>10000</td>\n",
       "    </tr>\n",
       "    <tr>\n",
       "      <th>2</th>\n",
       "      <td>15000</td>\n",
       "    </tr>\n",
       "    <tr>\n",
       "      <th>3</th>\n",
       "      <td>20000</td>\n",
       "    </tr>\n",
       "    <tr>\n",
       "      <th>4</th>\n",
       "      <td>30000</td>\n",
       "    </tr>\n",
       "    <tr>\n",
       "      <th>5</th>\n",
       "      <td>60000</td>\n",
       "    </tr>\n",
       "  </tbody>\n",
       "</table>\n",
       "</div>"
      ],
      "text/plain": [
       "   Salary\n",
       "0    5000\n",
       "1   10000\n",
       "2   15000\n",
       "3   20000\n",
       "4   30000\n",
       "5   60000"
      ]
     },
     "execution_count": 97,
     "metadata": {},
     "output_type": "execute_result"
    }
   ],
   "source": [
    "y_dep_var"
   ]
  },
  {
   "cell_type": "code",
   "execution_count": 98,
   "id": "db839cc2-a467-43f9-849e-87c8404de50d",
   "metadata": {},
   "outputs": [
    {
     "data": {
      "text/html": [
       "<div>\n",
       "<style scoped>\n",
       "    .dataframe tbody tr th:only-of-type {\n",
       "        vertical-align: middle;\n",
       "    }\n",
       "\n",
       "    .dataframe tbody tr th {\n",
       "        vertical-align: top;\n",
       "    }\n",
       "\n",
       "    .dataframe thead th {\n",
       "        text-align: right;\n",
       "    }\n",
       "</style>\n",
       "<table border=\"1\" class=\"dataframe\">\n",
       "  <thead>\n",
       "    <tr style=\"text-align: right;\">\n",
       "      <th></th>\n",
       "      <th>Name</th>\n",
       "      <th>Domain</th>\n",
       "      <th>Age</th>\n",
       "      <th>Location</th>\n",
       "      <th>Salary</th>\n",
       "      <th>Exp</th>\n",
       "    </tr>\n",
       "  </thead>\n",
       "  <tbody>\n",
       "    <tr>\n",
       "      <th>0</th>\n",
       "      <td>Mike</td>\n",
       "      <td>Datascience</td>\n",
       "      <td>34.0</td>\n",
       "      <td>Mumbai</td>\n",
       "      <td>5000</td>\n",
       "      <td>2</td>\n",
       "    </tr>\n",
       "    <tr>\n",
       "      <th>1</th>\n",
       "      <td>Teddy</td>\n",
       "      <td>Testing</td>\n",
       "      <td>45.0</td>\n",
       "      <td>Bangalore</td>\n",
       "      <td>10000</td>\n",
       "      <td>3</td>\n",
       "    </tr>\n",
       "    <tr>\n",
       "      <th>2</th>\n",
       "      <td>Umar</td>\n",
       "      <td>Dataanalyst</td>\n",
       "      <td>NaN</td>\n",
       "      <td>NaN</td>\n",
       "      <td>15000</td>\n",
       "      <td>4</td>\n",
       "    </tr>\n",
       "    <tr>\n",
       "      <th>3</th>\n",
       "      <td>Jane</td>\n",
       "      <td>Analytics</td>\n",
       "      <td>NaN</td>\n",
       "      <td>Hyderbad</td>\n",
       "      <td>20000</td>\n",
       "      <td>NaN</td>\n",
       "    </tr>\n",
       "    <tr>\n",
       "      <th>4</th>\n",
       "      <td>Uttam</td>\n",
       "      <td>Statistics</td>\n",
       "      <td>67.0</td>\n",
       "      <td>NaN</td>\n",
       "      <td>30000</td>\n",
       "      <td>5</td>\n",
       "    </tr>\n",
       "    <tr>\n",
       "      <th>5</th>\n",
       "      <td>Kim</td>\n",
       "      <td>NLP</td>\n",
       "      <td>55.0</td>\n",
       "      <td>Delhi</td>\n",
       "      <td>60000</td>\n",
       "      <td>10</td>\n",
       "    </tr>\n",
       "  </tbody>\n",
       "</table>\n",
       "</div>"
      ],
      "text/plain": [
       "    Name       Domain   Age   Location Salary  Exp\n",
       "0   Mike  Datascience  34.0     Mumbai   5000    2\n",
       "1  Teddy      Testing  45.0  Bangalore  10000    3\n",
       "2   Umar  Dataanalyst   NaN        NaN  15000    4\n",
       "3   Jane    Analytics   NaN   Hyderbad  20000  NaN\n",
       "4  Uttam   Statistics  67.0        NaN  30000    5\n",
       "5    Kim          NLP  55.0      Delhi  60000   10"
      ]
     },
     "execution_count": 98,
     "metadata": {},
     "output_type": "execute_result"
    }
   ],
   "source": [
    "emp"
   ]
  },
  {
   "cell_type": "code",
   "execution_count": 99,
   "id": "fafb0186-83ee-4730-80b3-5b4b67926969",
   "metadata": {},
   "outputs": [
    {
     "data": {
      "text/html": [
       "<div>\n",
       "<style scoped>\n",
       "    .dataframe tbody tr th:only-of-type {\n",
       "        vertical-align: middle;\n",
       "    }\n",
       "\n",
       "    .dataframe tbody tr th {\n",
       "        vertical-align: top;\n",
       "    }\n",
       "\n",
       "    .dataframe thead th {\n",
       "        text-align: right;\n",
       "    }\n",
       "</style>\n",
       "<table border=\"1\" class=\"dataframe\">\n",
       "  <thead>\n",
       "    <tr style=\"text-align: right;\">\n",
       "      <th></th>\n",
       "      <th>Name</th>\n",
       "      <th>Domain</th>\n",
       "      <th>Age</th>\n",
       "      <th>Location</th>\n",
       "      <th>Salary</th>\n",
       "      <th>Exp</th>\n",
       "    </tr>\n",
       "  </thead>\n",
       "  <tbody>\n",
       "    <tr>\n",
       "      <th>0</th>\n",
       "      <td>Mike</td>\n",
       "      <td>Datascience</td>\n",
       "      <td>34</td>\n",
       "      <td>Mumbai</td>\n",
       "      <td>5000</td>\n",
       "      <td>2</td>\n",
       "    </tr>\n",
       "    <tr>\n",
       "      <th>1</th>\n",
       "      <td>Teddy</td>\n",
       "      <td>Testing</td>\n",
       "      <td>45</td>\n",
       "      <td>Bangalore</td>\n",
       "      <td>10000</td>\n",
       "      <td>3</td>\n",
       "    </tr>\n",
       "    <tr>\n",
       "      <th>2</th>\n",
       "      <td>Umar</td>\n",
       "      <td>Dataanalyst</td>\n",
       "      <td>50</td>\n",
       "      <td>Bangalore</td>\n",
       "      <td>15000</td>\n",
       "      <td>4</td>\n",
       "    </tr>\n",
       "    <tr>\n",
       "      <th>3</th>\n",
       "      <td>Jane</td>\n",
       "      <td>Analytics</td>\n",
       "      <td>50</td>\n",
       "      <td>Hyderbad</td>\n",
       "      <td>20000</td>\n",
       "      <td>4</td>\n",
       "    </tr>\n",
       "    <tr>\n",
       "      <th>4</th>\n",
       "      <td>Uttam</td>\n",
       "      <td>Statistics</td>\n",
       "      <td>67</td>\n",
       "      <td>Bangalore</td>\n",
       "      <td>30000</td>\n",
       "      <td>5</td>\n",
       "    </tr>\n",
       "    <tr>\n",
       "      <th>5</th>\n",
       "      <td>Kim</td>\n",
       "      <td>NLP</td>\n",
       "      <td>55</td>\n",
       "      <td>Delhi</td>\n",
       "      <td>60000</td>\n",
       "      <td>10</td>\n",
       "    </tr>\n",
       "  </tbody>\n",
       "</table>\n",
       "</div>"
      ],
      "text/plain": [
       "    Name       Domain  Age   Location  Salary  Exp\n",
       "0   Mike  Datascience   34     Mumbai    5000    2\n",
       "1  Teddy      Testing   45  Bangalore   10000    3\n",
       "2   Umar  Dataanalyst   50  Bangalore   15000    4\n",
       "3   Jane    Analytics   50   Hyderbad   20000    4\n",
       "4  Uttam   Statistics   67  Bangalore   30000    5\n",
       "5    Kim          NLP   55      Delhi   60000   10"
      ]
     },
     "execution_count": 99,
     "metadata": {},
     "output_type": "execute_result"
    }
   ],
   "source": [
    "clean_data"
   ]
  },
  {
   "cell_type": "code",
   "execution_count": 100,
   "id": "021d0948-5583-4724-91bf-ddb78fc78e05",
   "metadata": {},
   "outputs": [
    {
     "data": {
      "text/html": [
       "<div>\n",
       "<style scoped>\n",
       "    .dataframe tbody tr th:only-of-type {\n",
       "        vertical-align: middle;\n",
       "    }\n",
       "\n",
       "    .dataframe tbody tr th {\n",
       "        vertical-align: top;\n",
       "    }\n",
       "\n",
       "    .dataframe thead th {\n",
       "        text-align: right;\n",
       "    }\n",
       "</style>\n",
       "<table border=\"1\" class=\"dataframe\">\n",
       "  <thead>\n",
       "    <tr style=\"text-align: right;\">\n",
       "      <th></th>\n",
       "      <th>Name</th>\n",
       "      <th>Domain</th>\n",
       "      <th>Age</th>\n",
       "      <th>Location</th>\n",
       "      <th>Exp</th>\n",
       "    </tr>\n",
       "  </thead>\n",
       "  <tbody>\n",
       "    <tr>\n",
       "      <th>0</th>\n",
       "      <td>Mike</td>\n",
       "      <td>Datascience</td>\n",
       "      <td>34</td>\n",
       "      <td>Mumbai</td>\n",
       "      <td>2</td>\n",
       "    </tr>\n",
       "    <tr>\n",
       "      <th>1</th>\n",
       "      <td>Teddy</td>\n",
       "      <td>Testing</td>\n",
       "      <td>45</td>\n",
       "      <td>Bangalore</td>\n",
       "      <td>3</td>\n",
       "    </tr>\n",
       "    <tr>\n",
       "      <th>2</th>\n",
       "      <td>Umar</td>\n",
       "      <td>Dataanalyst</td>\n",
       "      <td>50</td>\n",
       "      <td>Bangalore</td>\n",
       "      <td>4</td>\n",
       "    </tr>\n",
       "    <tr>\n",
       "      <th>3</th>\n",
       "      <td>Jane</td>\n",
       "      <td>Analytics</td>\n",
       "      <td>50</td>\n",
       "      <td>Hyderbad</td>\n",
       "      <td>4</td>\n",
       "    </tr>\n",
       "    <tr>\n",
       "      <th>4</th>\n",
       "      <td>Uttam</td>\n",
       "      <td>Statistics</td>\n",
       "      <td>67</td>\n",
       "      <td>Bangalore</td>\n",
       "      <td>5</td>\n",
       "    </tr>\n",
       "    <tr>\n",
       "      <th>5</th>\n",
       "      <td>Kim</td>\n",
       "      <td>NLP</td>\n",
       "      <td>55</td>\n",
       "      <td>Delhi</td>\n",
       "      <td>10</td>\n",
       "    </tr>\n",
       "  </tbody>\n",
       "</table>\n",
       "</div>"
      ],
      "text/plain": [
       "    Name       Domain  Age   Location  Exp\n",
       "0   Mike  Datascience   34     Mumbai    2\n",
       "1  Teddy      Testing   45  Bangalore    3\n",
       "2   Umar  Dataanalyst   50  Bangalore    4\n",
       "3   Jane    Analytics   50   Hyderbad    4\n",
       "4  Uttam   Statistics   67  Bangalore    5\n",
       "5    Kim          NLP   55      Delhi   10"
      ]
     },
     "execution_count": 100,
     "metadata": {},
     "output_type": "execute_result"
    }
   ],
   "source": [
    "x_ind_var"
   ]
  },
  {
   "cell_type": "code",
   "execution_count": 101,
   "id": "c90ffc13-0b66-4427-89b4-2762904566ea",
   "metadata": {},
   "outputs": [
    {
     "data": {
      "text/html": [
       "<div>\n",
       "<style scoped>\n",
       "    .dataframe tbody tr th:only-of-type {\n",
       "        vertical-align: middle;\n",
       "    }\n",
       "\n",
       "    .dataframe tbody tr th {\n",
       "        vertical-align: top;\n",
       "    }\n",
       "\n",
       "    .dataframe thead th {\n",
       "        text-align: right;\n",
       "    }\n",
       "</style>\n",
       "<table border=\"1\" class=\"dataframe\">\n",
       "  <thead>\n",
       "    <tr style=\"text-align: right;\">\n",
       "      <th></th>\n",
       "      <th>Salary</th>\n",
       "    </tr>\n",
       "  </thead>\n",
       "  <tbody>\n",
       "    <tr>\n",
       "      <th>0</th>\n",
       "      <td>5000</td>\n",
       "    </tr>\n",
       "    <tr>\n",
       "      <th>1</th>\n",
       "      <td>10000</td>\n",
       "    </tr>\n",
       "    <tr>\n",
       "      <th>2</th>\n",
       "      <td>15000</td>\n",
       "    </tr>\n",
       "    <tr>\n",
       "      <th>3</th>\n",
       "      <td>20000</td>\n",
       "    </tr>\n",
       "    <tr>\n",
       "      <th>4</th>\n",
       "      <td>30000</td>\n",
       "    </tr>\n",
       "    <tr>\n",
       "      <th>5</th>\n",
       "      <td>60000</td>\n",
       "    </tr>\n",
       "  </tbody>\n",
       "</table>\n",
       "</div>"
      ],
      "text/plain": [
       "   Salary\n",
       "0    5000\n",
       "1   10000\n",
       "2   15000\n",
       "3   20000\n",
       "4   30000\n",
       "5   60000"
      ]
     },
     "execution_count": 101,
     "metadata": {},
     "output_type": "execute_result"
    }
   ],
   "source": [
    "y_dep_var"
   ]
  },
  {
   "cell_type": "code",
   "execution_count": 102,
   "id": "67b1187d-ae9d-43e5-b23f-45fe2b811cac",
   "metadata": {},
   "outputs": [
    {
     "data": {
      "text/html": [
       "<div>\n",
       "<style scoped>\n",
       "    .dataframe tbody tr th:only-of-type {\n",
       "        vertical-align: middle;\n",
       "    }\n",
       "\n",
       "    .dataframe tbody tr th {\n",
       "        vertical-align: top;\n",
       "    }\n",
       "\n",
       "    .dataframe thead th {\n",
       "        text-align: right;\n",
       "    }\n",
       "</style>\n",
       "<table border=\"1\" class=\"dataframe\">\n",
       "  <thead>\n",
       "    <tr style=\"text-align: right;\">\n",
       "      <th></th>\n",
       "      <th>Name</th>\n",
       "      <th>Domain</th>\n",
       "      <th>Age</th>\n",
       "      <th>Location</th>\n",
       "      <th>Salary</th>\n",
       "      <th>Exp</th>\n",
       "    </tr>\n",
       "  </thead>\n",
       "  <tbody>\n",
       "    <tr>\n",
       "      <th>0</th>\n",
       "      <td>Mike</td>\n",
       "      <td>Datascience</td>\n",
       "      <td>34</td>\n",
       "      <td>Mumbai</td>\n",
       "      <td>5000</td>\n",
       "      <td>2</td>\n",
       "    </tr>\n",
       "    <tr>\n",
       "      <th>1</th>\n",
       "      <td>Teddy</td>\n",
       "      <td>Testing</td>\n",
       "      <td>45</td>\n",
       "      <td>Bangalore</td>\n",
       "      <td>10000</td>\n",
       "      <td>3</td>\n",
       "    </tr>\n",
       "    <tr>\n",
       "      <th>2</th>\n",
       "      <td>Umar</td>\n",
       "      <td>Dataanalyst</td>\n",
       "      <td>50</td>\n",
       "      <td>Bangalore</td>\n",
       "      <td>15000</td>\n",
       "      <td>4</td>\n",
       "    </tr>\n",
       "    <tr>\n",
       "      <th>3</th>\n",
       "      <td>Jane</td>\n",
       "      <td>Analytics</td>\n",
       "      <td>50</td>\n",
       "      <td>Hyderbad</td>\n",
       "      <td>20000</td>\n",
       "      <td>4</td>\n",
       "    </tr>\n",
       "    <tr>\n",
       "      <th>4</th>\n",
       "      <td>Uttam</td>\n",
       "      <td>Statistics</td>\n",
       "      <td>67</td>\n",
       "      <td>Bangalore</td>\n",
       "      <td>30000</td>\n",
       "      <td>5</td>\n",
       "    </tr>\n",
       "    <tr>\n",
       "      <th>5</th>\n",
       "      <td>Kim</td>\n",
       "      <td>NLP</td>\n",
       "      <td>55</td>\n",
       "      <td>Delhi</td>\n",
       "      <td>60000</td>\n",
       "      <td>10</td>\n",
       "    </tr>\n",
       "  </tbody>\n",
       "</table>\n",
       "</div>"
      ],
      "text/plain": [
       "    Name       Domain  Age   Location  Salary  Exp\n",
       "0   Mike  Datascience   34     Mumbai    5000    2\n",
       "1  Teddy      Testing   45  Bangalore   10000    3\n",
       "2   Umar  Dataanalyst   50  Bangalore   15000    4\n",
       "3   Jane    Analytics   50   Hyderbad   20000    4\n",
       "4  Uttam   Statistics   67  Bangalore   30000    5\n",
       "5    Kim          NLP   55      Delhi   60000   10"
      ]
     },
     "execution_count": 102,
     "metadata": {},
     "output_type": "execute_result"
    }
   ],
   "source": [
    "clean_data"
   ]
  },
  {
   "cell_type": "markdown",
   "id": "5efca0ac-44f6-492b-87f6-81cd5d6401ba",
   "metadata": {},
   "source": [
    "# Creating dummies"
   ]
  },
  {
   "cell_type": "code",
   "execution_count": 104,
   "id": "b542e0ac-2746-45b0-8bc0-1a88c2acd14a",
   "metadata": {},
   "outputs": [],
   "source": [
    "imputation = pd.get_dummies(clean_data)"
   ]
  },
  {
   "cell_type": "code",
   "execution_count": 105,
   "id": "dd3c51d9-0df1-4d90-929d-f1221187222c",
   "metadata": {},
   "outputs": [
    {
     "data": {
      "text/html": [
       "<div>\n",
       "<style scoped>\n",
       "    .dataframe tbody tr th:only-of-type {\n",
       "        vertical-align: middle;\n",
       "    }\n",
       "\n",
       "    .dataframe tbody tr th {\n",
       "        vertical-align: top;\n",
       "    }\n",
       "\n",
       "    .dataframe thead th {\n",
       "        text-align: right;\n",
       "    }\n",
       "</style>\n",
       "<table border=\"1\" class=\"dataframe\">\n",
       "  <thead>\n",
       "    <tr style=\"text-align: right;\">\n",
       "      <th></th>\n",
       "      <th>Age</th>\n",
       "      <th>Salary</th>\n",
       "      <th>Exp</th>\n",
       "      <th>Name_Jane</th>\n",
       "      <th>Name_Kim</th>\n",
       "      <th>Name_Mike</th>\n",
       "      <th>Name_Teddy</th>\n",
       "      <th>Name_Umar</th>\n",
       "      <th>Name_Uttam</th>\n",
       "      <th>Domain_Analytics</th>\n",
       "      <th>Domain_Dataanalyst</th>\n",
       "      <th>Domain_Datascience</th>\n",
       "      <th>Domain_NLP</th>\n",
       "      <th>Domain_Statistics</th>\n",
       "      <th>Domain_Testing</th>\n",
       "      <th>Location_Bangalore</th>\n",
       "      <th>Location_Delhi</th>\n",
       "      <th>Location_Hyderbad</th>\n",
       "      <th>Location_Mumbai</th>\n",
       "    </tr>\n",
       "  </thead>\n",
       "  <tbody>\n",
       "    <tr>\n",
       "      <th>0</th>\n",
       "      <td>34</td>\n",
       "      <td>5000</td>\n",
       "      <td>2</td>\n",
       "      <td>False</td>\n",
       "      <td>False</td>\n",
       "      <td>True</td>\n",
       "      <td>False</td>\n",
       "      <td>False</td>\n",
       "      <td>False</td>\n",
       "      <td>False</td>\n",
       "      <td>False</td>\n",
       "      <td>True</td>\n",
       "      <td>False</td>\n",
       "      <td>False</td>\n",
       "      <td>False</td>\n",
       "      <td>False</td>\n",
       "      <td>False</td>\n",
       "      <td>False</td>\n",
       "      <td>True</td>\n",
       "    </tr>\n",
       "    <tr>\n",
       "      <th>1</th>\n",
       "      <td>45</td>\n",
       "      <td>10000</td>\n",
       "      <td>3</td>\n",
       "      <td>False</td>\n",
       "      <td>False</td>\n",
       "      <td>False</td>\n",
       "      <td>True</td>\n",
       "      <td>False</td>\n",
       "      <td>False</td>\n",
       "      <td>False</td>\n",
       "      <td>False</td>\n",
       "      <td>False</td>\n",
       "      <td>False</td>\n",
       "      <td>False</td>\n",
       "      <td>True</td>\n",
       "      <td>True</td>\n",
       "      <td>False</td>\n",
       "      <td>False</td>\n",
       "      <td>False</td>\n",
       "    </tr>\n",
       "    <tr>\n",
       "      <th>2</th>\n",
       "      <td>50</td>\n",
       "      <td>15000</td>\n",
       "      <td>4</td>\n",
       "      <td>False</td>\n",
       "      <td>False</td>\n",
       "      <td>False</td>\n",
       "      <td>False</td>\n",
       "      <td>True</td>\n",
       "      <td>False</td>\n",
       "      <td>False</td>\n",
       "      <td>True</td>\n",
       "      <td>False</td>\n",
       "      <td>False</td>\n",
       "      <td>False</td>\n",
       "      <td>False</td>\n",
       "      <td>True</td>\n",
       "      <td>False</td>\n",
       "      <td>False</td>\n",
       "      <td>False</td>\n",
       "    </tr>\n",
       "    <tr>\n",
       "      <th>3</th>\n",
       "      <td>50</td>\n",
       "      <td>20000</td>\n",
       "      <td>4</td>\n",
       "      <td>True</td>\n",
       "      <td>False</td>\n",
       "      <td>False</td>\n",
       "      <td>False</td>\n",
       "      <td>False</td>\n",
       "      <td>False</td>\n",
       "      <td>True</td>\n",
       "      <td>False</td>\n",
       "      <td>False</td>\n",
       "      <td>False</td>\n",
       "      <td>False</td>\n",
       "      <td>False</td>\n",
       "      <td>False</td>\n",
       "      <td>False</td>\n",
       "      <td>True</td>\n",
       "      <td>False</td>\n",
       "    </tr>\n",
       "    <tr>\n",
       "      <th>4</th>\n",
       "      <td>67</td>\n",
       "      <td>30000</td>\n",
       "      <td>5</td>\n",
       "      <td>False</td>\n",
       "      <td>False</td>\n",
       "      <td>False</td>\n",
       "      <td>False</td>\n",
       "      <td>False</td>\n",
       "      <td>True</td>\n",
       "      <td>False</td>\n",
       "      <td>False</td>\n",
       "      <td>False</td>\n",
       "      <td>False</td>\n",
       "      <td>True</td>\n",
       "      <td>False</td>\n",
       "      <td>True</td>\n",
       "      <td>False</td>\n",
       "      <td>False</td>\n",
       "      <td>False</td>\n",
       "    </tr>\n",
       "    <tr>\n",
       "      <th>5</th>\n",
       "      <td>55</td>\n",
       "      <td>60000</td>\n",
       "      <td>10</td>\n",
       "      <td>False</td>\n",
       "      <td>True</td>\n",
       "      <td>False</td>\n",
       "      <td>False</td>\n",
       "      <td>False</td>\n",
       "      <td>False</td>\n",
       "      <td>False</td>\n",
       "      <td>False</td>\n",
       "      <td>False</td>\n",
       "      <td>True</td>\n",
       "      <td>False</td>\n",
       "      <td>False</td>\n",
       "      <td>False</td>\n",
       "      <td>True</td>\n",
       "      <td>False</td>\n",
       "      <td>False</td>\n",
       "    </tr>\n",
       "  </tbody>\n",
       "</table>\n",
       "</div>"
      ],
      "text/plain": [
       "   Age  Salary  Exp  Name_Jane  Name_Kim  Name_Mike  Name_Teddy  Name_Umar  \\\n",
       "0   34    5000    2      False     False       True       False      False   \n",
       "1   45   10000    3      False     False      False        True      False   \n",
       "2   50   15000    4      False     False      False       False       True   \n",
       "3   50   20000    4       True     False      False       False      False   \n",
       "4   67   30000    5      False     False      False       False      False   \n",
       "5   55   60000   10      False      True      False       False      False   \n",
       "\n",
       "   Name_Uttam  Domain_Analytics  Domain_Dataanalyst  Domain_Datascience  \\\n",
       "0       False             False               False                True   \n",
       "1       False             False               False               False   \n",
       "2       False             False                True               False   \n",
       "3       False              True               False               False   \n",
       "4        True             False               False               False   \n",
       "5       False             False               False               False   \n",
       "\n",
       "   Domain_NLP  Domain_Statistics  Domain_Testing  Location_Bangalore  \\\n",
       "0       False              False           False               False   \n",
       "1       False              False            True                True   \n",
       "2       False              False           False                True   \n",
       "3       False              False           False               False   \n",
       "4       False               True           False                True   \n",
       "5        True              False           False               False   \n",
       "\n",
       "   Location_Delhi  Location_Hyderbad  Location_Mumbai  \n",
       "0           False              False             True  \n",
       "1           False              False            False  \n",
       "2           False              False            False  \n",
       "3           False               True            False  \n",
       "4           False              False            False  \n",
       "5            True              False            False  "
      ]
     },
     "execution_count": 105,
     "metadata": {},
     "output_type": "execute_result"
    }
   ],
   "source": [
    "imputation"
   ]
  },
  {
   "cell_type": "code",
   "execution_count": 106,
   "id": "0a60f032-27ff-4e97-b615-021965e1efe8",
   "metadata": {},
   "outputs": [
    {
     "data": {
      "text/html": [
       "<div>\n",
       "<style scoped>\n",
       "    .dataframe tbody tr th:only-of-type {\n",
       "        vertical-align: middle;\n",
       "    }\n",
       "\n",
       "    .dataframe tbody tr th {\n",
       "        vertical-align: top;\n",
       "    }\n",
       "\n",
       "    .dataframe thead th {\n",
       "        text-align: right;\n",
       "    }\n",
       "</style>\n",
       "<table border=\"1\" class=\"dataframe\">\n",
       "  <thead>\n",
       "    <tr style=\"text-align: right;\">\n",
       "      <th></th>\n",
       "      <th>Name</th>\n",
       "      <th>Domain</th>\n",
       "      <th>Age</th>\n",
       "      <th>Location</th>\n",
       "      <th>Salary</th>\n",
       "      <th>Exp</th>\n",
       "    </tr>\n",
       "  </thead>\n",
       "  <tbody>\n",
       "    <tr>\n",
       "      <th>0</th>\n",
       "      <td>Mike</td>\n",
       "      <td>Datascience</td>\n",
       "      <td>34</td>\n",
       "      <td>Mumbai</td>\n",
       "      <td>5000</td>\n",
       "      <td>2</td>\n",
       "    </tr>\n",
       "    <tr>\n",
       "      <th>1</th>\n",
       "      <td>Teddy</td>\n",
       "      <td>Testing</td>\n",
       "      <td>45</td>\n",
       "      <td>Bangalore</td>\n",
       "      <td>10000</td>\n",
       "      <td>3</td>\n",
       "    </tr>\n",
       "    <tr>\n",
       "      <th>2</th>\n",
       "      <td>Umar</td>\n",
       "      <td>Dataanalyst</td>\n",
       "      <td>50</td>\n",
       "      <td>Bangalore</td>\n",
       "      <td>15000</td>\n",
       "      <td>4</td>\n",
       "    </tr>\n",
       "    <tr>\n",
       "      <th>3</th>\n",
       "      <td>Jane</td>\n",
       "      <td>Analytics</td>\n",
       "      <td>50</td>\n",
       "      <td>Hyderbad</td>\n",
       "      <td>20000</td>\n",
       "      <td>4</td>\n",
       "    </tr>\n",
       "    <tr>\n",
       "      <th>4</th>\n",
       "      <td>Uttam</td>\n",
       "      <td>Statistics</td>\n",
       "      <td>67</td>\n",
       "      <td>Bangalore</td>\n",
       "      <td>30000</td>\n",
       "      <td>5</td>\n",
       "    </tr>\n",
       "    <tr>\n",
       "      <th>5</th>\n",
       "      <td>Kim</td>\n",
       "      <td>NLP</td>\n",
       "      <td>55</td>\n",
       "      <td>Delhi</td>\n",
       "      <td>60000</td>\n",
       "      <td>10</td>\n",
       "    </tr>\n",
       "  </tbody>\n",
       "</table>\n",
       "</div>"
      ],
      "text/plain": [
       "    Name       Domain  Age   Location  Salary  Exp\n",
       "0   Mike  Datascience   34     Mumbai    5000    2\n",
       "1  Teddy      Testing   45  Bangalore   10000    3\n",
       "2   Umar  Dataanalyst   50  Bangalore   15000    4\n",
       "3   Jane    Analytics   50   Hyderbad   20000    4\n",
       "4  Uttam   Statistics   67  Bangalore   30000    5\n",
       "5    Kim          NLP   55      Delhi   60000   10"
      ]
     },
     "execution_count": 106,
     "metadata": {},
     "output_type": "execute_result"
    }
   ],
   "source": [
    "clean_data"
   ]
  },
  {
   "cell_type": "code",
   "execution_count": 107,
   "id": "e3f543f2-1048-4cc4-9ffe-35f1b61d47cf",
   "metadata": {},
   "outputs": [
    {
     "data": {
      "text/html": [
       "<div>\n",
       "<style scoped>\n",
       "    .dataframe tbody tr th:only-of-type {\n",
       "        vertical-align: middle;\n",
       "    }\n",
       "\n",
       "    .dataframe tbody tr th {\n",
       "        vertical-align: top;\n",
       "    }\n",
       "\n",
       "    .dataframe thead th {\n",
       "        text-align: right;\n",
       "    }\n",
       "</style>\n",
       "<table border=\"1\" class=\"dataframe\">\n",
       "  <thead>\n",
       "    <tr style=\"text-align: right;\">\n",
       "      <th></th>\n",
       "      <th>Age</th>\n",
       "      <th>Salary</th>\n",
       "      <th>Exp</th>\n",
       "      <th>Name_Jane</th>\n",
       "      <th>Name_Kim</th>\n",
       "      <th>Name_Mike</th>\n",
       "      <th>Name_Teddy</th>\n",
       "      <th>Name_Umar</th>\n",
       "      <th>Name_Uttam</th>\n",
       "      <th>Domain_Analytics</th>\n",
       "      <th>Domain_Dataanalyst</th>\n",
       "      <th>Domain_Datascience</th>\n",
       "      <th>Domain_NLP</th>\n",
       "      <th>Domain_Statistics</th>\n",
       "      <th>Domain_Testing</th>\n",
       "      <th>Location_Bangalore</th>\n",
       "      <th>Location_Delhi</th>\n",
       "      <th>Location_Hyderbad</th>\n",
       "      <th>Location_Mumbai</th>\n",
       "    </tr>\n",
       "  </thead>\n",
       "  <tbody>\n",
       "    <tr>\n",
       "      <th>0</th>\n",
       "      <td>34</td>\n",
       "      <td>5000</td>\n",
       "      <td>2</td>\n",
       "      <td>False</td>\n",
       "      <td>False</td>\n",
       "      <td>True</td>\n",
       "      <td>False</td>\n",
       "      <td>False</td>\n",
       "      <td>False</td>\n",
       "      <td>False</td>\n",
       "      <td>False</td>\n",
       "      <td>True</td>\n",
       "      <td>False</td>\n",
       "      <td>False</td>\n",
       "      <td>False</td>\n",
       "      <td>False</td>\n",
       "      <td>False</td>\n",
       "      <td>False</td>\n",
       "      <td>True</td>\n",
       "    </tr>\n",
       "    <tr>\n",
       "      <th>1</th>\n",
       "      <td>45</td>\n",
       "      <td>10000</td>\n",
       "      <td>3</td>\n",
       "      <td>False</td>\n",
       "      <td>False</td>\n",
       "      <td>False</td>\n",
       "      <td>True</td>\n",
       "      <td>False</td>\n",
       "      <td>False</td>\n",
       "      <td>False</td>\n",
       "      <td>False</td>\n",
       "      <td>False</td>\n",
       "      <td>False</td>\n",
       "      <td>False</td>\n",
       "      <td>True</td>\n",
       "      <td>True</td>\n",
       "      <td>False</td>\n",
       "      <td>False</td>\n",
       "      <td>False</td>\n",
       "    </tr>\n",
       "    <tr>\n",
       "      <th>2</th>\n",
       "      <td>50</td>\n",
       "      <td>15000</td>\n",
       "      <td>4</td>\n",
       "      <td>False</td>\n",
       "      <td>False</td>\n",
       "      <td>False</td>\n",
       "      <td>False</td>\n",
       "      <td>True</td>\n",
       "      <td>False</td>\n",
       "      <td>False</td>\n",
       "      <td>True</td>\n",
       "      <td>False</td>\n",
       "      <td>False</td>\n",
       "      <td>False</td>\n",
       "      <td>False</td>\n",
       "      <td>True</td>\n",
       "      <td>False</td>\n",
       "      <td>False</td>\n",
       "      <td>False</td>\n",
       "    </tr>\n",
       "    <tr>\n",
       "      <th>3</th>\n",
       "      <td>50</td>\n",
       "      <td>20000</td>\n",
       "      <td>4</td>\n",
       "      <td>True</td>\n",
       "      <td>False</td>\n",
       "      <td>False</td>\n",
       "      <td>False</td>\n",
       "      <td>False</td>\n",
       "      <td>False</td>\n",
       "      <td>True</td>\n",
       "      <td>False</td>\n",
       "      <td>False</td>\n",
       "      <td>False</td>\n",
       "      <td>False</td>\n",
       "      <td>False</td>\n",
       "      <td>False</td>\n",
       "      <td>False</td>\n",
       "      <td>True</td>\n",
       "      <td>False</td>\n",
       "    </tr>\n",
       "    <tr>\n",
       "      <th>4</th>\n",
       "      <td>67</td>\n",
       "      <td>30000</td>\n",
       "      <td>5</td>\n",
       "      <td>False</td>\n",
       "      <td>False</td>\n",
       "      <td>False</td>\n",
       "      <td>False</td>\n",
       "      <td>False</td>\n",
       "      <td>True</td>\n",
       "      <td>False</td>\n",
       "      <td>False</td>\n",
       "      <td>False</td>\n",
       "      <td>False</td>\n",
       "      <td>True</td>\n",
       "      <td>False</td>\n",
       "      <td>True</td>\n",
       "      <td>False</td>\n",
       "      <td>False</td>\n",
       "      <td>False</td>\n",
       "    </tr>\n",
       "    <tr>\n",
       "      <th>5</th>\n",
       "      <td>55</td>\n",
       "      <td>60000</td>\n",
       "      <td>10</td>\n",
       "      <td>False</td>\n",
       "      <td>True</td>\n",
       "      <td>False</td>\n",
       "      <td>False</td>\n",
       "      <td>False</td>\n",
       "      <td>False</td>\n",
       "      <td>False</td>\n",
       "      <td>False</td>\n",
       "      <td>False</td>\n",
       "      <td>True</td>\n",
       "      <td>False</td>\n",
       "      <td>False</td>\n",
       "      <td>False</td>\n",
       "      <td>True</td>\n",
       "      <td>False</td>\n",
       "      <td>False</td>\n",
       "    </tr>\n",
       "  </tbody>\n",
       "</table>\n",
       "</div>"
      ],
      "text/plain": [
       "   Age  Salary  Exp  Name_Jane  Name_Kim  Name_Mike  Name_Teddy  Name_Umar  \\\n",
       "0   34    5000    2      False     False       True       False      False   \n",
       "1   45   10000    3      False     False      False        True      False   \n",
       "2   50   15000    4      False     False      False       False       True   \n",
       "3   50   20000    4       True     False      False       False      False   \n",
       "4   67   30000    5      False     False      False       False      False   \n",
       "5   55   60000   10      False      True      False       False      False   \n",
       "\n",
       "   Name_Uttam  Domain_Analytics  Domain_Dataanalyst  Domain_Datascience  \\\n",
       "0       False             False               False                True   \n",
       "1       False             False               False               False   \n",
       "2       False             False                True               False   \n",
       "3       False              True               False               False   \n",
       "4        True             False               False               False   \n",
       "5       False             False               False               False   \n",
       "\n",
       "   Domain_NLP  Domain_Statistics  Domain_Testing  Location_Bangalore  \\\n",
       "0       False              False           False               False   \n",
       "1       False              False            True                True   \n",
       "2       False              False           False                True   \n",
       "3       False              False           False               False   \n",
       "4       False               True           False                True   \n",
       "5        True              False           False               False   \n",
       "\n",
       "   Location_Delhi  Location_Hyderbad  Location_Mumbai  \n",
       "0           False              False             True  \n",
       "1           False              False            False  \n",
       "2           False              False            False  \n",
       "3           False               True            False  \n",
       "4           False              False            False  \n",
       "5            True              False            False  "
      ]
     },
     "execution_count": 107,
     "metadata": {},
     "output_type": "execute_result"
    }
   ],
   "source": [
    "imputation"
   ]
  },
  {
   "cell_type": "code",
   "execution_count": 108,
   "id": "ca7c4e96-96f4-4ac1-a03b-3bd3c4438b02",
   "metadata": {},
   "outputs": [],
   "source": [
    "impu2=pd.get_dummies(emp)"
   ]
  },
  {
   "cell_type": "code",
   "execution_count": 109,
   "id": "43a6c148-ea2e-466b-85f9-c3bc3c25c6f5",
   "metadata": {},
   "outputs": [
    {
     "data": {
      "text/html": [
       "<div>\n",
       "<style scoped>\n",
       "    .dataframe tbody tr th:only-of-type {\n",
       "        vertical-align: middle;\n",
       "    }\n",
       "\n",
       "    .dataframe tbody tr th {\n",
       "        vertical-align: top;\n",
       "    }\n",
       "\n",
       "    .dataframe thead th {\n",
       "        text-align: right;\n",
       "    }\n",
       "</style>\n",
       "<table border=\"1\" class=\"dataframe\">\n",
       "  <thead>\n",
       "    <tr style=\"text-align: right;\">\n",
       "      <th></th>\n",
       "      <th>Age</th>\n",
       "      <th>Name_Jane</th>\n",
       "      <th>Name_Kim</th>\n",
       "      <th>Name_Mike</th>\n",
       "      <th>Name_Teddy</th>\n",
       "      <th>Name_Umar</th>\n",
       "      <th>Name_Uttam</th>\n",
       "      <th>Domain_Analytics</th>\n",
       "      <th>Domain_Dataanalyst</th>\n",
       "      <th>Domain_Datascience</th>\n",
       "      <th>...</th>\n",
       "      <th>Salary_15000</th>\n",
       "      <th>Salary_20000</th>\n",
       "      <th>Salary_30000</th>\n",
       "      <th>Salary_5000</th>\n",
       "      <th>Salary_60000</th>\n",
       "      <th>Exp_10</th>\n",
       "      <th>Exp_2</th>\n",
       "      <th>Exp_3</th>\n",
       "      <th>Exp_4</th>\n",
       "      <th>Exp_5</th>\n",
       "    </tr>\n",
       "  </thead>\n",
       "  <tbody>\n",
       "    <tr>\n",
       "      <th>0</th>\n",
       "      <td>34.0</td>\n",
       "      <td>False</td>\n",
       "      <td>False</td>\n",
       "      <td>True</td>\n",
       "      <td>False</td>\n",
       "      <td>False</td>\n",
       "      <td>False</td>\n",
       "      <td>False</td>\n",
       "      <td>False</td>\n",
       "      <td>True</td>\n",
       "      <td>...</td>\n",
       "      <td>False</td>\n",
       "      <td>False</td>\n",
       "      <td>False</td>\n",
       "      <td>True</td>\n",
       "      <td>False</td>\n",
       "      <td>False</td>\n",
       "      <td>True</td>\n",
       "      <td>False</td>\n",
       "      <td>False</td>\n",
       "      <td>False</td>\n",
       "    </tr>\n",
       "    <tr>\n",
       "      <th>1</th>\n",
       "      <td>45.0</td>\n",
       "      <td>False</td>\n",
       "      <td>False</td>\n",
       "      <td>False</td>\n",
       "      <td>True</td>\n",
       "      <td>False</td>\n",
       "      <td>False</td>\n",
       "      <td>False</td>\n",
       "      <td>False</td>\n",
       "      <td>False</td>\n",
       "      <td>...</td>\n",
       "      <td>False</td>\n",
       "      <td>False</td>\n",
       "      <td>False</td>\n",
       "      <td>False</td>\n",
       "      <td>False</td>\n",
       "      <td>False</td>\n",
       "      <td>False</td>\n",
       "      <td>True</td>\n",
       "      <td>False</td>\n",
       "      <td>False</td>\n",
       "    </tr>\n",
       "    <tr>\n",
       "      <th>2</th>\n",
       "      <td>NaN</td>\n",
       "      <td>False</td>\n",
       "      <td>False</td>\n",
       "      <td>False</td>\n",
       "      <td>False</td>\n",
       "      <td>True</td>\n",
       "      <td>False</td>\n",
       "      <td>False</td>\n",
       "      <td>True</td>\n",
       "      <td>False</td>\n",
       "      <td>...</td>\n",
       "      <td>True</td>\n",
       "      <td>False</td>\n",
       "      <td>False</td>\n",
       "      <td>False</td>\n",
       "      <td>False</td>\n",
       "      <td>False</td>\n",
       "      <td>False</td>\n",
       "      <td>False</td>\n",
       "      <td>True</td>\n",
       "      <td>False</td>\n",
       "    </tr>\n",
       "    <tr>\n",
       "      <th>3</th>\n",
       "      <td>NaN</td>\n",
       "      <td>True</td>\n",
       "      <td>False</td>\n",
       "      <td>False</td>\n",
       "      <td>False</td>\n",
       "      <td>False</td>\n",
       "      <td>False</td>\n",
       "      <td>True</td>\n",
       "      <td>False</td>\n",
       "      <td>False</td>\n",
       "      <td>...</td>\n",
       "      <td>False</td>\n",
       "      <td>True</td>\n",
       "      <td>False</td>\n",
       "      <td>False</td>\n",
       "      <td>False</td>\n",
       "      <td>False</td>\n",
       "      <td>False</td>\n",
       "      <td>False</td>\n",
       "      <td>False</td>\n",
       "      <td>False</td>\n",
       "    </tr>\n",
       "    <tr>\n",
       "      <th>4</th>\n",
       "      <td>67.0</td>\n",
       "      <td>False</td>\n",
       "      <td>False</td>\n",
       "      <td>False</td>\n",
       "      <td>False</td>\n",
       "      <td>False</td>\n",
       "      <td>True</td>\n",
       "      <td>False</td>\n",
       "      <td>False</td>\n",
       "      <td>False</td>\n",
       "      <td>...</td>\n",
       "      <td>False</td>\n",
       "      <td>False</td>\n",
       "      <td>True</td>\n",
       "      <td>False</td>\n",
       "      <td>False</td>\n",
       "      <td>False</td>\n",
       "      <td>False</td>\n",
       "      <td>False</td>\n",
       "      <td>False</td>\n",
       "      <td>True</td>\n",
       "    </tr>\n",
       "    <tr>\n",
       "      <th>5</th>\n",
       "      <td>55.0</td>\n",
       "      <td>False</td>\n",
       "      <td>True</td>\n",
       "      <td>False</td>\n",
       "      <td>False</td>\n",
       "      <td>False</td>\n",
       "      <td>False</td>\n",
       "      <td>False</td>\n",
       "      <td>False</td>\n",
       "      <td>False</td>\n",
       "      <td>...</td>\n",
       "      <td>False</td>\n",
       "      <td>False</td>\n",
       "      <td>False</td>\n",
       "      <td>False</td>\n",
       "      <td>True</td>\n",
       "      <td>True</td>\n",
       "      <td>False</td>\n",
       "      <td>False</td>\n",
       "      <td>False</td>\n",
       "      <td>False</td>\n",
       "    </tr>\n",
       "  </tbody>\n",
       "</table>\n",
       "<p>6 rows × 28 columns</p>\n",
       "</div>"
      ],
      "text/plain": [
       "    Age  Name_Jane  Name_Kim  Name_Mike  Name_Teddy  Name_Umar  Name_Uttam  \\\n",
       "0  34.0      False     False       True       False      False       False   \n",
       "1  45.0      False     False      False        True      False       False   \n",
       "2   NaN      False     False      False       False       True       False   \n",
       "3   NaN       True     False      False       False      False       False   \n",
       "4  67.0      False     False      False       False      False        True   \n",
       "5  55.0      False      True      False       False      False       False   \n",
       "\n",
       "   Domain_Analytics  Domain_Dataanalyst  Domain_Datascience  ...  \\\n",
       "0             False               False                True  ...   \n",
       "1             False               False               False  ...   \n",
       "2             False                True               False  ...   \n",
       "3              True               False               False  ...   \n",
       "4             False               False               False  ...   \n",
       "5             False               False               False  ...   \n",
       "\n",
       "   Salary_15000  Salary_20000  Salary_30000  Salary_5000  Salary_60000  \\\n",
       "0         False         False         False         True         False   \n",
       "1         False         False         False        False         False   \n",
       "2          True         False         False        False         False   \n",
       "3         False          True         False        False         False   \n",
       "4         False         False          True        False         False   \n",
       "5         False         False         False        False          True   \n",
       "\n",
       "   Exp_10  Exp_2  Exp_3  Exp_4  Exp_5  \n",
       "0   False   True  False  False  False  \n",
       "1   False  False   True  False  False  \n",
       "2   False  False  False   True  False  \n",
       "3   False  False  False  False  False  \n",
       "4   False  False  False  False   True  \n",
       "5    True  False  False  False  False  \n",
       "\n",
       "[6 rows x 28 columns]"
      ]
     },
     "execution_count": 109,
     "metadata": {},
     "output_type": "execute_result"
    }
   ],
   "source": [
    "impu2"
   ]
  }
 ],
 "metadata": {
  "kernelspec": {
   "display_name": "Python (myenv)",
   "language": "python",
   "name": "myenv"
  },
  "language_info": {
   "codemirror_mode": {
    "name": "ipython",
    "version": 3
   },
   "file_extension": ".py",
   "mimetype": "text/x-python",
   "name": "python",
   "nbconvert_exporter": "python",
   "pygments_lexer": "ipython3",
   "version": "3.9.21"
  }
 },
 "nbformat": 4,
 "nbformat_minor": 5
}
