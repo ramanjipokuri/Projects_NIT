{
 "cells": [
  {
   "cell_type": "markdown",
   "id": "7548eea8-d5ee-4fb8-a997-bd1c82afb8b6",
   "metadata": {},
   "source": [
    "# Task 17 & 18"
   ]
  },
  {
   "cell_type": "markdown",
   "id": "62b37a23-ac2f-4f54-960b-4b92a260dcfd",
   "metadata": {},
   "source": [
    " # Parsing and Extracting Address, Date, and Time in Python"
   ]
  },
  {
   "cell_type": "code",
   "execution_count": 4,
   "id": "73fb6e0a-a874-4fb1-8c7c-251062bac36f",
   "metadata": {},
   "outputs": [],
   "source": [
    "data = \"Flat No 101, RamRaj Colony , MG Road, Ongole, Andhra Pradesh, 500001 | 2025-03-25 | 14:30:00\""
   ]
  },
  {
   "cell_type": "code",
   "execution_count": 5,
   "id": "dd9b7bd0-6164-47ca-9923-6448fa254499",
   "metadata": {},
   "outputs": [],
   "source": [
    "parts = data.split('|')"
   ]
  },
  {
   "cell_type": "code",
   "execution_count": 6,
   "id": "ce2ce463-c42b-43af-8aef-21082ba9112b",
   "metadata": {},
   "outputs": [],
   "source": [
    "address = parts[0].strip()\n",
    "date_str = parts[1].strip()\n",
    "time_str = parts[2].strip()"
   ]
  },
  {
   "cell_type": "code",
   "execution_count": 7,
   "id": "3f41f04d-9103-4340-b28d-7433fcd17078",
   "metadata": {},
   "outputs": [],
   "source": [
    "address_parts = address.split(', ')"
   ]
  },
  {
   "cell_type": "code",
   "execution_count": 8,
   "id": "d81f7b01-a484-472a-b5d3-2bf7a56408a6",
   "metadata": {},
   "outputs": [],
   "source": [
    "house = address_parts[0]  \n",
    "street = address_parts[1]  \n",
    "area = address_parts[2]  \n",
    "city = address_parts[3] \n",
    "state = address_parts[4]  \n",
    "pincode = address_parts[5] "
   ]
  },
  {
   "cell_type": "code",
   "execution_count": 9,
   "id": "aff182a9-1de2-452f-9b8f-0a1b0b2a35ac",
   "metadata": {},
   "outputs": [
    {
     "name": "stdout",
     "output_type": "stream",
     "text": [
      "===== Address Details =====\n",
      "House/Flat: Flat No 101\n",
      "Street: RamRaj Colony \n",
      "Area: MG Road\n",
      "City: Ongole\n",
      "State: Andhra Pradesh\n",
      "PIN Code: 500001\n"
     ]
    }
   ],
   "source": [
    "print(\"===== Address Details =====\")\n",
    "print(f\"House/Flat: {house}\")\n",
    "print(f\"Street: {street}\")\n",
    "print(f\"Area: {area}\")\n",
    "print(f\"City: {city}\")\n",
    "print(f\"State: {state}\")\n",
    "print(f\"PIN Code: {pincode}\")"
   ]
  },
  {
   "cell_type": "code",
   "execution_count": 10,
   "id": "406763b8-4080-4813-866d-97c80e1b357f",
   "metadata": {},
   "outputs": [
    {
     "name": "stdout",
     "output_type": "stream",
     "text": [
      "\n",
      "===== Date and Time Details =====\n",
      "Date: 2025-03-25\n",
      "Time: 14:30:00\n"
     ]
    }
   ],
   "source": [
    "print(\"\\n===== Date and Time Details =====\")\n",
    "print(f\"Date: {date_str}\")\n",
    "print(f\"Time: {time_str}\")"
   ]
  },
  {
   "cell_type": "markdown",
   "id": "35bed7c3-9f25-46a5-afae-8d8abf59c346",
   "metadata": {},
   "source": [
    "# --------------OOOOOOOOO--------------"
   ]
  },
  {
   "cell_type": "markdown",
   "id": "ca892541-10b6-4559-8ab9-c5c59719e51b",
   "metadata": {},
   "source": [
    "# Data Splitting and Transformation using Pandas"
   ]
  },
  {
   "cell_type": "code",
   "execution_count": 13,
   "id": "b43f81b5-2a51-4a57-af91-a999d9c59bad",
   "metadata": {},
   "outputs": [],
   "source": [
    "import pandas as pd"
   ]
  },
  {
   "cell_type": "code",
   "execution_count": 14,
   "id": "82d905d9-9707-4268-a4a1-4684735328d2",
   "metadata": {},
   "outputs": [],
   "source": [
    "data = {\n",
    "    \"Address\": [\n",
    "        \"101, RamRaj Apartments, MG Road, Ongole, Andhra Pradesh, 500001\",\n",
    "        \"202, MB Towers, MB Street, Kondapi, Andhra, 500002\"\n",
    "    ],\n",
    "    \"Date\": [\"12/5/2023\", \"18/8/2022\"],\n",
    "    \"Name\": [\"Ram\", \"Anji\"],\n",
    "    \"Time\": [\"10:15:45\", \"14:45:30\"]\n",
    "}"
   ]
  },
  {
   "cell_type": "code",
   "execution_count": 15,
   "id": "8a534a8e-797c-4679-a46b-a57ad0004ba4",
   "metadata": {},
   "outputs": [],
   "source": [
    "df = pd.DataFrame(data)"
   ]
  },
  {
   "cell_type": "code",
   "execution_count": 16,
   "id": "bb382a79-fb34-4298-8b9b-f55e8fb21b30",
   "metadata": {},
   "outputs": [
    {
     "data": {
      "text/html": [
       "<div>\n",
       "<style scoped>\n",
       "    .dataframe tbody tr th:only-of-type {\n",
       "        vertical-align: middle;\n",
       "    }\n",
       "\n",
       "    .dataframe tbody tr th {\n",
       "        vertical-align: top;\n",
       "    }\n",
       "\n",
       "    .dataframe thead th {\n",
       "        text-align: right;\n",
       "    }\n",
       "</style>\n",
       "<table border=\"1\" class=\"dataframe\">\n",
       "  <thead>\n",
       "    <tr style=\"text-align: right;\">\n",
       "      <th></th>\n",
       "      <th>Address</th>\n",
       "      <th>Date</th>\n",
       "      <th>Name</th>\n",
       "      <th>Time</th>\n",
       "    </tr>\n",
       "  </thead>\n",
       "  <tbody>\n",
       "    <tr>\n",
       "      <th>0</th>\n",
       "      <td>101, RamRaj Apartments, MG Road, Ongole, Andhr...</td>\n",
       "      <td>12/5/2023</td>\n",
       "      <td>Ram</td>\n",
       "      <td>10:15:45</td>\n",
       "    </tr>\n",
       "    <tr>\n",
       "      <th>1</th>\n",
       "      <td>202, MB Towers, MB Street, Kondapi, Andhra, 50...</td>\n",
       "      <td>18/8/2022</td>\n",
       "      <td>Anji</td>\n",
       "      <td>14:45:30</td>\n",
       "    </tr>\n",
       "  </tbody>\n",
       "</table>\n",
       "</div>"
      ],
      "text/plain": [
       "                                             Address       Date  Name  \\\n",
       "0  101, RamRaj Apartments, MG Road, Ongole, Andhr...  12/5/2023   Ram   \n",
       "1  202, MB Towers, MB Street, Kondapi, Andhra, 50...  18/8/2022  Anji   \n",
       "\n",
       "       Time  \n",
       "0  10:15:45  \n",
       "1  14:45:30  "
      ]
     },
     "execution_count": 16,
     "metadata": {},
     "output_type": "execute_result"
    }
   ],
   "source": [
    "df"
   ]
  },
  {
   "cell_type": "code",
   "execution_count": 17,
   "id": "a6aad0f6-823f-4eb3-bf24-59dcddba3bf1",
   "metadata": {},
   "outputs": [],
   "source": [
    "df[[\"House No.\", \"Building\", \"Street\", \"City\", \"State\", \"Pincode\"]] = df[\"Address\"].str.split(',', expand=True)"
   ]
  },
  {
   "cell_type": "code",
   "execution_count": 18,
   "id": "058b0bda-4cef-41c4-9da2-0b3042887685",
   "metadata": {},
   "outputs": [
    {
     "data": {
      "text/html": [
       "<div>\n",
       "<style scoped>\n",
       "    .dataframe tbody tr th:only-of-type {\n",
       "        vertical-align: middle;\n",
       "    }\n",
       "\n",
       "    .dataframe tbody tr th {\n",
       "        vertical-align: top;\n",
       "    }\n",
       "\n",
       "    .dataframe thead th {\n",
       "        text-align: right;\n",
       "    }\n",
       "</style>\n",
       "<table border=\"1\" class=\"dataframe\">\n",
       "  <thead>\n",
       "    <tr style=\"text-align: right;\">\n",
       "      <th></th>\n",
       "      <th>Address</th>\n",
       "      <th>Date</th>\n",
       "      <th>Name</th>\n",
       "      <th>Time</th>\n",
       "      <th>House No.</th>\n",
       "      <th>Building</th>\n",
       "      <th>Street</th>\n",
       "      <th>City</th>\n",
       "      <th>State</th>\n",
       "      <th>Pincode</th>\n",
       "    </tr>\n",
       "  </thead>\n",
       "  <tbody>\n",
       "    <tr>\n",
       "      <th>0</th>\n",
       "      <td>101, RamRaj Apartments, MG Road, Ongole, Andhr...</td>\n",
       "      <td>12/5/2023</td>\n",
       "      <td>Ram</td>\n",
       "      <td>10:15:45</td>\n",
       "      <td>101</td>\n",
       "      <td>RamRaj Apartments</td>\n",
       "      <td>MG Road</td>\n",
       "      <td>Ongole</td>\n",
       "      <td>Andhra Pradesh</td>\n",
       "      <td>500001</td>\n",
       "    </tr>\n",
       "    <tr>\n",
       "      <th>1</th>\n",
       "      <td>202, MB Towers, MB Street, Kondapi, Andhra, 50...</td>\n",
       "      <td>18/8/2022</td>\n",
       "      <td>Anji</td>\n",
       "      <td>14:45:30</td>\n",
       "      <td>202</td>\n",
       "      <td>MB Towers</td>\n",
       "      <td>MB Street</td>\n",
       "      <td>Kondapi</td>\n",
       "      <td>Andhra</td>\n",
       "      <td>500002</td>\n",
       "    </tr>\n",
       "  </tbody>\n",
       "</table>\n",
       "</div>"
      ],
      "text/plain": [
       "                                             Address       Date  Name  \\\n",
       "0  101, RamRaj Apartments, MG Road, Ongole, Andhr...  12/5/2023   Ram   \n",
       "1  202, MB Towers, MB Street, Kondapi, Andhra, 50...  18/8/2022  Anji   \n",
       "\n",
       "       Time House No.            Building      Street      City  \\\n",
       "0  10:15:45       101   RamRaj Apartments     MG Road    Ongole   \n",
       "1  14:45:30       202           MB Towers   MB Street   Kondapi   \n",
       "\n",
       "             State  Pincode  \n",
       "0   Andhra Pradesh   500001  \n",
       "1           Andhra   500002  "
      ]
     },
     "execution_count": 18,
     "metadata": {},
     "output_type": "execute_result"
    }
   ],
   "source": [
    "df"
   ]
  },
  {
   "cell_type": "code",
   "execution_count": 19,
   "id": "c5bdc35a-3619-40cd-83ad-800e1f86b075",
   "metadata": {},
   "outputs": [],
   "source": [
    "df[[\"Day\", \"Month\", \"Year\"]] = df[\"Date\"].str.split('/', expand=True)"
   ]
  },
  {
   "cell_type": "code",
   "execution_count": 20,
   "id": "ff04b539-2a78-4d91-a5e1-ce4495078bdf",
   "metadata": {},
   "outputs": [
    {
     "data": {
      "text/html": [
       "<div>\n",
       "<style scoped>\n",
       "    .dataframe tbody tr th:only-of-type {\n",
       "        vertical-align: middle;\n",
       "    }\n",
       "\n",
       "    .dataframe tbody tr th {\n",
       "        vertical-align: top;\n",
       "    }\n",
       "\n",
       "    .dataframe thead th {\n",
       "        text-align: right;\n",
       "    }\n",
       "</style>\n",
       "<table border=\"1\" class=\"dataframe\">\n",
       "  <thead>\n",
       "    <tr style=\"text-align: right;\">\n",
       "      <th></th>\n",
       "      <th>Address</th>\n",
       "      <th>Date</th>\n",
       "      <th>Name</th>\n",
       "      <th>Time</th>\n",
       "      <th>House No.</th>\n",
       "      <th>Building</th>\n",
       "      <th>Street</th>\n",
       "      <th>City</th>\n",
       "      <th>State</th>\n",
       "      <th>Pincode</th>\n",
       "      <th>Day</th>\n",
       "      <th>Month</th>\n",
       "      <th>Year</th>\n",
       "    </tr>\n",
       "  </thead>\n",
       "  <tbody>\n",
       "    <tr>\n",
       "      <th>0</th>\n",
       "      <td>101, RamRaj Apartments, MG Road, Ongole, Andhr...</td>\n",
       "      <td>12/5/2023</td>\n",
       "      <td>Ram</td>\n",
       "      <td>10:15:45</td>\n",
       "      <td>101</td>\n",
       "      <td>RamRaj Apartments</td>\n",
       "      <td>MG Road</td>\n",
       "      <td>Ongole</td>\n",
       "      <td>Andhra Pradesh</td>\n",
       "      <td>500001</td>\n",
       "      <td>12</td>\n",
       "      <td>5</td>\n",
       "      <td>2023</td>\n",
       "    </tr>\n",
       "    <tr>\n",
       "      <th>1</th>\n",
       "      <td>202, MB Towers, MB Street, Kondapi, Andhra, 50...</td>\n",
       "      <td>18/8/2022</td>\n",
       "      <td>Anji</td>\n",
       "      <td>14:45:30</td>\n",
       "      <td>202</td>\n",
       "      <td>MB Towers</td>\n",
       "      <td>MB Street</td>\n",
       "      <td>Kondapi</td>\n",
       "      <td>Andhra</td>\n",
       "      <td>500002</td>\n",
       "      <td>18</td>\n",
       "      <td>8</td>\n",
       "      <td>2022</td>\n",
       "    </tr>\n",
       "  </tbody>\n",
       "</table>\n",
       "</div>"
      ],
      "text/plain": [
       "                                             Address       Date  Name  \\\n",
       "0  101, RamRaj Apartments, MG Road, Ongole, Andhr...  12/5/2023   Ram   \n",
       "1  202, MB Towers, MB Street, Kondapi, Andhra, 50...  18/8/2022  Anji   \n",
       "\n",
       "       Time House No.            Building      Street      City  \\\n",
       "0  10:15:45       101   RamRaj Apartments     MG Road    Ongole   \n",
       "1  14:45:30       202           MB Towers   MB Street   Kondapi   \n",
       "\n",
       "             State  Pincode Day Month  Year  \n",
       "0   Andhra Pradesh   500001  12     5  2023  \n",
       "1           Andhra   500002  18     8  2022  "
      ]
     },
     "execution_count": 20,
     "metadata": {},
     "output_type": "execute_result"
    }
   ],
   "source": [
    "df"
   ]
  },
  {
   "cell_type": "code",
   "execution_count": 21,
   "id": "7afd14c7-cee5-4d54-b18e-3c62ac00a089",
   "metadata": {},
   "outputs": [],
   "source": [
    "df[[\"Hr\", \"Min\", \"Sec\"]] = df[\"Time\"].str.split(':', expand=True)"
   ]
  },
  {
   "cell_type": "code",
   "execution_count": 22,
   "id": "70de89c9-a4a3-4741-829e-61fef19b31ac",
   "metadata": {},
   "outputs": [
    {
     "data": {
      "text/html": [
       "<div>\n",
       "<style scoped>\n",
       "    .dataframe tbody tr th:only-of-type {\n",
       "        vertical-align: middle;\n",
       "    }\n",
       "\n",
       "    .dataframe tbody tr th {\n",
       "        vertical-align: top;\n",
       "    }\n",
       "\n",
       "    .dataframe thead th {\n",
       "        text-align: right;\n",
       "    }\n",
       "</style>\n",
       "<table border=\"1\" class=\"dataframe\">\n",
       "  <thead>\n",
       "    <tr style=\"text-align: right;\">\n",
       "      <th></th>\n",
       "      <th>Address</th>\n",
       "      <th>Date</th>\n",
       "      <th>Name</th>\n",
       "      <th>Time</th>\n",
       "      <th>House No.</th>\n",
       "      <th>Building</th>\n",
       "      <th>Street</th>\n",
       "      <th>City</th>\n",
       "      <th>State</th>\n",
       "      <th>Pincode</th>\n",
       "      <th>Day</th>\n",
       "      <th>Month</th>\n",
       "      <th>Year</th>\n",
       "      <th>Hr</th>\n",
       "      <th>Min</th>\n",
       "      <th>Sec</th>\n",
       "    </tr>\n",
       "  </thead>\n",
       "  <tbody>\n",
       "    <tr>\n",
       "      <th>0</th>\n",
       "      <td>101, RamRaj Apartments, MG Road, Ongole, Andhr...</td>\n",
       "      <td>12/5/2023</td>\n",
       "      <td>Ram</td>\n",
       "      <td>10:15:45</td>\n",
       "      <td>101</td>\n",
       "      <td>RamRaj Apartments</td>\n",
       "      <td>MG Road</td>\n",
       "      <td>Ongole</td>\n",
       "      <td>Andhra Pradesh</td>\n",
       "      <td>500001</td>\n",
       "      <td>12</td>\n",
       "      <td>5</td>\n",
       "      <td>2023</td>\n",
       "      <td>10</td>\n",
       "      <td>15</td>\n",
       "      <td>45</td>\n",
       "    </tr>\n",
       "    <tr>\n",
       "      <th>1</th>\n",
       "      <td>202, MB Towers, MB Street, Kondapi, Andhra, 50...</td>\n",
       "      <td>18/8/2022</td>\n",
       "      <td>Anji</td>\n",
       "      <td>14:45:30</td>\n",
       "      <td>202</td>\n",
       "      <td>MB Towers</td>\n",
       "      <td>MB Street</td>\n",
       "      <td>Kondapi</td>\n",
       "      <td>Andhra</td>\n",
       "      <td>500002</td>\n",
       "      <td>18</td>\n",
       "      <td>8</td>\n",
       "      <td>2022</td>\n",
       "      <td>14</td>\n",
       "      <td>45</td>\n",
       "      <td>30</td>\n",
       "    </tr>\n",
       "  </tbody>\n",
       "</table>\n",
       "</div>"
      ],
      "text/plain": [
       "                                             Address       Date  Name  \\\n",
       "0  101, RamRaj Apartments, MG Road, Ongole, Andhr...  12/5/2023   Ram   \n",
       "1  202, MB Towers, MB Street, Kondapi, Andhra, 50...  18/8/2022  Anji   \n",
       "\n",
       "       Time House No.            Building      Street      City  \\\n",
       "0  10:15:45       101   RamRaj Apartments     MG Road    Ongole   \n",
       "1  14:45:30       202           MB Towers   MB Street   Kondapi   \n",
       "\n",
       "             State  Pincode Day Month  Year  Hr Min Sec  \n",
       "0   Andhra Pradesh   500001  12     5  2023  10  15  45  \n",
       "1           Andhra   500002  18     8  2022  14  45  30  "
      ]
     },
     "execution_count": 22,
     "metadata": {},
     "output_type": "execute_result"
    }
   ],
   "source": [
    "df"
   ]
  },
  {
   "cell_type": "code",
   "execution_count": 23,
   "id": "2e4c6eb5-a8c3-4204-8140-7995c0a098af",
   "metadata": {},
   "outputs": [],
   "source": [
    "df.drop(columns=[\"Address\", \"Date\", \"Time\"], inplace=True)"
   ]
  },
  {
   "cell_type": "code",
   "execution_count": 24,
   "id": "ec12eaec-ad34-4cb8-944a-9cf10bf7bb28",
   "metadata": {},
   "outputs": [
    {
     "data": {
      "text/html": [
       "<div>\n",
       "<style scoped>\n",
       "    .dataframe tbody tr th:only-of-type {\n",
       "        vertical-align: middle;\n",
       "    }\n",
       "\n",
       "    .dataframe tbody tr th {\n",
       "        vertical-align: top;\n",
       "    }\n",
       "\n",
       "    .dataframe thead th {\n",
       "        text-align: right;\n",
       "    }\n",
       "</style>\n",
       "<table border=\"1\" class=\"dataframe\">\n",
       "  <thead>\n",
       "    <tr style=\"text-align: right;\">\n",
       "      <th></th>\n",
       "      <th>Name</th>\n",
       "      <th>House No.</th>\n",
       "      <th>Building</th>\n",
       "      <th>Street</th>\n",
       "      <th>City</th>\n",
       "      <th>State</th>\n",
       "      <th>Pincode</th>\n",
       "      <th>Day</th>\n",
       "      <th>Month</th>\n",
       "      <th>Year</th>\n",
       "      <th>Hr</th>\n",
       "      <th>Min</th>\n",
       "      <th>Sec</th>\n",
       "    </tr>\n",
       "  </thead>\n",
       "  <tbody>\n",
       "    <tr>\n",
       "      <th>0</th>\n",
       "      <td>Ram</td>\n",
       "      <td>101</td>\n",
       "      <td>RamRaj Apartments</td>\n",
       "      <td>MG Road</td>\n",
       "      <td>Ongole</td>\n",
       "      <td>Andhra Pradesh</td>\n",
       "      <td>500001</td>\n",
       "      <td>12</td>\n",
       "      <td>5</td>\n",
       "      <td>2023</td>\n",
       "      <td>10</td>\n",
       "      <td>15</td>\n",
       "      <td>45</td>\n",
       "    </tr>\n",
       "    <tr>\n",
       "      <th>1</th>\n",
       "      <td>Anji</td>\n",
       "      <td>202</td>\n",
       "      <td>MB Towers</td>\n",
       "      <td>MB Street</td>\n",
       "      <td>Kondapi</td>\n",
       "      <td>Andhra</td>\n",
       "      <td>500002</td>\n",
       "      <td>18</td>\n",
       "      <td>8</td>\n",
       "      <td>2022</td>\n",
       "      <td>14</td>\n",
       "      <td>45</td>\n",
       "      <td>30</td>\n",
       "    </tr>\n",
       "  </tbody>\n",
       "</table>\n",
       "</div>"
      ],
      "text/plain": [
       "   Name House No.            Building      Street      City            State  \\\n",
       "0   Ram       101   RamRaj Apartments     MG Road    Ongole   Andhra Pradesh   \n",
       "1  Anji       202           MB Towers   MB Street   Kondapi           Andhra   \n",
       "\n",
       "   Pincode Day Month  Year  Hr Min Sec  \n",
       "0   500001  12     5  2023  10  15  45  \n",
       "1   500002  18     8  2022  14  45  30  "
      ]
     },
     "execution_count": 24,
     "metadata": {},
     "output_type": "execute_result"
    }
   ],
   "source": [
    "df"
   ]
  },
  {
   "cell_type": "code",
   "execution_count": 25,
   "id": "0103361d-c71d-45ad-af75-951b92d5fc3f",
   "metadata": {},
   "outputs": [],
   "source": [
    "df_final = pd.DataFrame(df)"
   ]
  },
  {
   "cell_type": "code",
   "execution_count": 26,
   "id": "798880a2-8275-45f1-ae2a-203d14117393",
   "metadata": {},
   "outputs": [
    {
     "data": {
      "text/html": [
       "<div>\n",
       "<style scoped>\n",
       "    .dataframe tbody tr th:only-of-type {\n",
       "        vertical-align: middle;\n",
       "    }\n",
       "\n",
       "    .dataframe tbody tr th {\n",
       "        vertical-align: top;\n",
       "    }\n",
       "\n",
       "    .dataframe thead th {\n",
       "        text-align: right;\n",
       "    }\n",
       "</style>\n",
       "<table border=\"1\" class=\"dataframe\">\n",
       "  <thead>\n",
       "    <tr style=\"text-align: right;\">\n",
       "      <th></th>\n",
       "      <th>Name</th>\n",
       "      <th>House No.</th>\n",
       "      <th>Building</th>\n",
       "      <th>Street</th>\n",
       "      <th>City</th>\n",
       "      <th>State</th>\n",
       "      <th>Pincode</th>\n",
       "      <th>Day</th>\n",
       "      <th>Month</th>\n",
       "      <th>Year</th>\n",
       "      <th>Hr</th>\n",
       "      <th>Min</th>\n",
       "      <th>Sec</th>\n",
       "    </tr>\n",
       "  </thead>\n",
       "  <tbody>\n",
       "    <tr>\n",
       "      <th>0</th>\n",
       "      <td>Ram</td>\n",
       "      <td>101</td>\n",
       "      <td>RamRaj Apartments</td>\n",
       "      <td>MG Road</td>\n",
       "      <td>Ongole</td>\n",
       "      <td>Andhra Pradesh</td>\n",
       "      <td>500001</td>\n",
       "      <td>12</td>\n",
       "      <td>5</td>\n",
       "      <td>2023</td>\n",
       "      <td>10</td>\n",
       "      <td>15</td>\n",
       "      <td>45</td>\n",
       "    </tr>\n",
       "    <tr>\n",
       "      <th>1</th>\n",
       "      <td>Anji</td>\n",
       "      <td>202</td>\n",
       "      <td>MB Towers</td>\n",
       "      <td>MB Street</td>\n",
       "      <td>Kondapi</td>\n",
       "      <td>Andhra</td>\n",
       "      <td>500002</td>\n",
       "      <td>18</td>\n",
       "      <td>8</td>\n",
       "      <td>2022</td>\n",
       "      <td>14</td>\n",
       "      <td>45</td>\n",
       "      <td>30</td>\n",
       "    </tr>\n",
       "  </tbody>\n",
       "</table>\n",
       "</div>"
      ],
      "text/plain": [
       "   Name House No.            Building      Street      City            State  \\\n",
       "0   Ram       101   RamRaj Apartments     MG Road    Ongole   Andhra Pradesh   \n",
       "1  Anji       202           MB Towers   MB Street   Kondapi           Andhra   \n",
       "\n",
       "   Pincode Day Month  Year  Hr Min Sec  \n",
       "0   500001  12     5  2023  10  15  45  \n",
       "1   500002  18     8  2022  14  45  30  "
      ]
     },
     "execution_count": 26,
     "metadata": {},
     "output_type": "execute_result"
    }
   ],
   "source": [
    "df_final"
   ]
  },
  {
   "cell_type": "markdown",
   "id": "fa52aab3-7bf2-48dd-8378-7b34a0074596",
   "metadata": {},
   "source": [
    "# -----------************------------"
   ]
  },
  {
   "cell_type": "markdown",
   "id": "77bef7af-a92c-418b-86ff-1dec0932fedc",
   "metadata": {},
   "source": [
    "# Task 18 ----->  Reading Excel,HTML,XML Files"
   ]
  },
  {
   "cell_type": "markdown",
   "id": "287a67dc-e1a7-4bf0-81a8-7f6197d900f0",
   "metadata": {},
   "source": [
    "# HTML file"
   ]
  },
  {
   "cell_type": "code",
   "execution_count": 30,
   "id": "8cbe12ec-70c9-4d5a-8df8-9785bd866a7d",
   "metadata": {},
   "outputs": [],
   "source": [
    "import pandas as pd"
   ]
  },
  {
   "cell_type": "code",
   "execution_count": 31,
   "id": "12bcc7b0-9b23-472b-b1c8-bc61ad86cbf4",
   "metadata": {},
   "outputs": [],
   "source": [
    "tables = pd.read_html(r\"E:\\FSDS&AI\\task18.html\")"
   ]
  },
  {
   "cell_type": "code",
   "execution_count": 32,
   "id": "8d74a208-1100-453b-8753-45a822e88950",
   "metadata": {},
   "outputs": [
    {
     "data": {
      "text/plain": [
       "[   Name  Age      City\n",
       " 0   Ram   20    Ongole\n",
       " 1  Anji   21  Prakasam]"
      ]
     },
     "execution_count": 32,
     "metadata": {},
     "output_type": "execute_result"
    }
   ],
   "source": [
    "tables"
   ]
  },
  {
   "cell_type": "code",
   "execution_count": 33,
   "id": "dd07d979-701c-4bab-9a9f-46221880e21a",
   "metadata": {},
   "outputs": [
    {
     "data": {
      "text/html": [
       "<div>\n",
       "<style scoped>\n",
       "    .dataframe tbody tr th:only-of-type {\n",
       "        vertical-align: middle;\n",
       "    }\n",
       "\n",
       "    .dataframe tbody tr th {\n",
       "        vertical-align: top;\n",
       "    }\n",
       "\n",
       "    .dataframe thead th {\n",
       "        text-align: right;\n",
       "    }\n",
       "</style>\n",
       "<table border=\"1\" class=\"dataframe\">\n",
       "  <thead>\n",
       "    <tr style=\"text-align: right;\">\n",
       "      <th></th>\n",
       "      <th>Name</th>\n",
       "      <th>Age</th>\n",
       "      <th>City</th>\n",
       "    </tr>\n",
       "  </thead>\n",
       "  <tbody>\n",
       "    <tr>\n",
       "      <th>0</th>\n",
       "      <td>Ram</td>\n",
       "      <td>20</td>\n",
       "      <td>Ongole</td>\n",
       "    </tr>\n",
       "    <tr>\n",
       "      <th>1</th>\n",
       "      <td>Anji</td>\n",
       "      <td>21</td>\n",
       "      <td>Prakasam</td>\n",
       "    </tr>\n",
       "  </tbody>\n",
       "</table>\n",
       "</div>"
      ],
      "text/plain": [
       "   Name  Age      City\n",
       "0   Ram   20    Ongole\n",
       "1  Anji   21  Prakasam"
      ]
     },
     "execution_count": 33,
     "metadata": {},
     "output_type": "execute_result"
    }
   ],
   "source": [
    "tables[0]\n"
   ]
  },
  {
   "cell_type": "markdown",
   "id": "e689550f-b0d9-4d2c-976d-5775792ceceb",
   "metadata": {},
   "source": [
    "# XML file"
   ]
  },
  {
   "cell_type": "code",
   "execution_count": 35,
   "id": "7e127c67-6d54-4683-a153-1fda4eca5f40",
   "metadata": {},
   "outputs": [],
   "source": [
    "import xml.etree.ElementTree as ET"
   ]
  },
  {
   "cell_type": "code",
   "execution_count": 36,
   "id": "aa62ed1a-08aa-4e35-81b1-56300b6f75b9",
   "metadata": {},
   "outputs": [],
   "source": [
    "tree = ET.parse(r\"E:\\FSDS&AI\\task18.xml\")\n",
    "root = tree.getroot()"
   ]
  },
  {
   "cell_type": "code",
   "execution_count": 37,
   "id": "869d34dd-4089-4c72-9a1e-a693e1ad85ce",
   "metadata": {},
   "outputs": [
    {
     "name": "stdout",
     "output_type": "stream",
     "text": [
      "Name: RamAnji, Age: 20, City: Ongole\n",
      "Name: Pokuri, Age: 21, City: Prakasam\n"
     ]
    }
   ],
   "source": [
    "for person in root.findall(\"person\"):\n",
    "    name = person.find(\"name\").text\n",
    "    age = person.find(\"age\").text\n",
    "    city = person.find(\"city\").text\n",
    "    print(f\"Name: {name}, Age: {age}, City: {city}\")"
   ]
  },
  {
   "cell_type": "markdown",
   "id": "b3cf7907-04f4-4afd-b0b6-8a6b4e75bade",
   "metadata": {},
   "source": [
    "# Excel file (xlsx)"
   ]
  },
  {
   "cell_type": "code",
   "execution_count": 39,
   "id": "e005c82d-9f87-40d2-9160-29a81394efda",
   "metadata": {},
   "outputs": [],
   "source": [
    "import pandas as pd"
   ]
  },
  {
   "cell_type": "code",
   "execution_count": 40,
   "id": "2bfc2dd9-3b51-4ef2-ad68-f45b9387475e",
   "metadata": {},
   "outputs": [],
   "source": [
    "df=pd.read_excel(r'E:\\Datasets\\car data.xlsx')"
   ]
  },
  {
   "cell_type": "code",
   "execution_count": 41,
   "id": "4fa14507-c050-4286-8aaf-1cc2a83a2b80",
   "metadata": {},
   "outputs": [
    {
     "data": {
      "text/html": [
       "<div>\n",
       "<style scoped>\n",
       "    .dataframe tbody tr th:only-of-type {\n",
       "        vertical-align: middle;\n",
       "    }\n",
       "\n",
       "    .dataframe tbody tr th {\n",
       "        vertical-align: top;\n",
       "    }\n",
       "\n",
       "    .dataframe thead th {\n",
       "        text-align: right;\n",
       "    }\n",
       "</style>\n",
       "<table border=\"1\" class=\"dataframe\">\n",
       "  <thead>\n",
       "    <tr style=\"text-align: right;\">\n",
       "      <th></th>\n",
       "      <th>Car_Name</th>\n",
       "      <th>Year</th>\n",
       "      <th>Selling_Price</th>\n",
       "      <th>Present_Price</th>\n",
       "      <th>Kms_Driven</th>\n",
       "      <th>Fuel_Type</th>\n",
       "      <th>Seller_Type</th>\n",
       "      <th>Transmission</th>\n",
       "      <th>Owner</th>\n",
       "    </tr>\n",
       "  </thead>\n",
       "  <tbody>\n",
       "    <tr>\n",
       "      <th>0</th>\n",
       "      <td>ritz</td>\n",
       "      <td>2014</td>\n",
       "      <td>3.35</td>\n",
       "      <td>5.59</td>\n",
       "      <td>27000</td>\n",
       "      <td>Petrol</td>\n",
       "      <td>Dealer</td>\n",
       "      <td>Manual</td>\n",
       "      <td>0</td>\n",
       "    </tr>\n",
       "    <tr>\n",
       "      <th>1</th>\n",
       "      <td>sx4</td>\n",
       "      <td>2013</td>\n",
       "      <td>4.75</td>\n",
       "      <td>9.54</td>\n",
       "      <td>43000</td>\n",
       "      <td>Diesel</td>\n",
       "      <td>Dealer</td>\n",
       "      <td>Manual</td>\n",
       "      <td>0</td>\n",
       "    </tr>\n",
       "    <tr>\n",
       "      <th>2</th>\n",
       "      <td>ciaz</td>\n",
       "      <td>2017</td>\n",
       "      <td>7.25</td>\n",
       "      <td>9.85</td>\n",
       "      <td>6900</td>\n",
       "      <td>Petrol</td>\n",
       "      <td>Dealer</td>\n",
       "      <td>Manual</td>\n",
       "      <td>0</td>\n",
       "    </tr>\n",
       "    <tr>\n",
       "      <th>3</th>\n",
       "      <td>wagon r</td>\n",
       "      <td>2011</td>\n",
       "      <td>2.85</td>\n",
       "      <td>4.15</td>\n",
       "      <td>5200</td>\n",
       "      <td>Petrol</td>\n",
       "      <td>Dealer</td>\n",
       "      <td>Manual</td>\n",
       "      <td>0</td>\n",
       "    </tr>\n",
       "    <tr>\n",
       "      <th>4</th>\n",
       "      <td>swift</td>\n",
       "      <td>2014</td>\n",
       "      <td>4.60</td>\n",
       "      <td>6.87</td>\n",
       "      <td>42450</td>\n",
       "      <td>Diesel</td>\n",
       "      <td>Dealer</td>\n",
       "      <td>Manual</td>\n",
       "      <td>0</td>\n",
       "    </tr>\n",
       "    <tr>\n",
       "      <th>...</th>\n",
       "      <td>...</td>\n",
       "      <td>...</td>\n",
       "      <td>...</td>\n",
       "      <td>...</td>\n",
       "      <td>...</td>\n",
       "      <td>...</td>\n",
       "      <td>...</td>\n",
       "      <td>...</td>\n",
       "      <td>...</td>\n",
       "    </tr>\n",
       "    <tr>\n",
       "      <th>296</th>\n",
       "      <td>city</td>\n",
       "      <td>2016</td>\n",
       "      <td>9.50</td>\n",
       "      <td>11.60</td>\n",
       "      <td>33988</td>\n",
       "      <td>Diesel</td>\n",
       "      <td>Dealer</td>\n",
       "      <td>Manual</td>\n",
       "      <td>0</td>\n",
       "    </tr>\n",
       "    <tr>\n",
       "      <th>297</th>\n",
       "      <td>brio</td>\n",
       "      <td>2015</td>\n",
       "      <td>4.00</td>\n",
       "      <td>5.90</td>\n",
       "      <td>60000</td>\n",
       "      <td>Petrol</td>\n",
       "      <td>Dealer</td>\n",
       "      <td>Manual</td>\n",
       "      <td>0</td>\n",
       "    </tr>\n",
       "    <tr>\n",
       "      <th>298</th>\n",
       "      <td>city</td>\n",
       "      <td>2009</td>\n",
       "      <td>3.35</td>\n",
       "      <td>11.00</td>\n",
       "      <td>87934</td>\n",
       "      <td>Petrol</td>\n",
       "      <td>Dealer</td>\n",
       "      <td>Manual</td>\n",
       "      <td>0</td>\n",
       "    </tr>\n",
       "    <tr>\n",
       "      <th>299</th>\n",
       "      <td>city</td>\n",
       "      <td>2017</td>\n",
       "      <td>11.50</td>\n",
       "      <td>12.50</td>\n",
       "      <td>9000</td>\n",
       "      <td>Diesel</td>\n",
       "      <td>Dealer</td>\n",
       "      <td>Manual</td>\n",
       "      <td>0</td>\n",
       "    </tr>\n",
       "    <tr>\n",
       "      <th>300</th>\n",
       "      <td>brio</td>\n",
       "      <td>2016</td>\n",
       "      <td>5.30</td>\n",
       "      <td>5.90</td>\n",
       "      <td>5464</td>\n",
       "      <td>Petrol</td>\n",
       "      <td>Dealer</td>\n",
       "      <td>Manual</td>\n",
       "      <td>0</td>\n",
       "    </tr>\n",
       "  </tbody>\n",
       "</table>\n",
       "<p>301 rows × 9 columns</p>\n",
       "</div>"
      ],
      "text/plain": [
       "    Car_Name  Year  Selling_Price  Present_Price  Kms_Driven Fuel_Type  \\\n",
       "0       ritz  2014           3.35           5.59       27000    Petrol   \n",
       "1        sx4  2013           4.75           9.54       43000    Diesel   \n",
       "2       ciaz  2017           7.25           9.85        6900    Petrol   \n",
       "3    wagon r  2011           2.85           4.15        5200    Petrol   \n",
       "4      swift  2014           4.60           6.87       42450    Diesel   \n",
       "..       ...   ...            ...            ...         ...       ...   \n",
       "296     city  2016           9.50          11.60       33988    Diesel   \n",
       "297     brio  2015           4.00           5.90       60000    Petrol   \n",
       "298     city  2009           3.35          11.00       87934    Petrol   \n",
       "299     city  2017          11.50          12.50        9000    Diesel   \n",
       "300     brio  2016           5.30           5.90        5464    Petrol   \n",
       "\n",
       "    Seller_Type Transmission  Owner  \n",
       "0        Dealer       Manual      0  \n",
       "1        Dealer       Manual      0  \n",
       "2        Dealer       Manual      0  \n",
       "3        Dealer       Manual      0  \n",
       "4        Dealer       Manual      0  \n",
       "..          ...          ...    ...  \n",
       "296      Dealer       Manual      0  \n",
       "297      Dealer       Manual      0  \n",
       "298      Dealer       Manual      0  \n",
       "299      Dealer       Manual      0  \n",
       "300      Dealer       Manual      0  \n",
       "\n",
       "[301 rows x 9 columns]"
      ]
     },
     "execution_count": 41,
     "metadata": {},
     "output_type": "execute_result"
    }
   ],
   "source": [
    "df"
   ]
  },
  {
   "cell_type": "code",
   "execution_count": 42,
   "id": "d3cb5a54-29e3-4f0b-985e-bf1ad76c9057",
   "metadata": {},
   "outputs": [
    {
     "data": {
      "text/plain": [
       "<bound method NDFrame.describe of     Car_Name  Year  Selling_Price  Present_Price  Kms_Driven Fuel_Type  \\\n",
       "0       ritz  2014           3.35           5.59       27000    Petrol   \n",
       "1        sx4  2013           4.75           9.54       43000    Diesel   \n",
       "2       ciaz  2017           7.25           9.85        6900    Petrol   \n",
       "3    wagon r  2011           2.85           4.15        5200    Petrol   \n",
       "4      swift  2014           4.60           6.87       42450    Diesel   \n",
       "..       ...   ...            ...            ...         ...       ...   \n",
       "296     city  2016           9.50          11.60       33988    Diesel   \n",
       "297     brio  2015           4.00           5.90       60000    Petrol   \n",
       "298     city  2009           3.35          11.00       87934    Petrol   \n",
       "299     city  2017          11.50          12.50        9000    Diesel   \n",
       "300     brio  2016           5.30           5.90        5464    Petrol   \n",
       "\n",
       "    Seller_Type Transmission  Owner  \n",
       "0        Dealer       Manual      0  \n",
       "1        Dealer       Manual      0  \n",
       "2        Dealer       Manual      0  \n",
       "3        Dealer       Manual      0  \n",
       "4        Dealer       Manual      0  \n",
       "..          ...          ...    ...  \n",
       "296      Dealer       Manual      0  \n",
       "297      Dealer       Manual      0  \n",
       "298      Dealer       Manual      0  \n",
       "299      Dealer       Manual      0  \n",
       "300      Dealer       Manual      0  \n",
       "\n",
       "[301 rows x 9 columns]>"
      ]
     },
     "execution_count": 42,
     "metadata": {},
     "output_type": "execute_result"
    }
   ],
   "source": [
    "df.describe"
   ]
  },
  {
   "cell_type": "code",
   "execution_count": 43,
   "id": "fc118a3f-22ca-47c9-873f-0605a5e62564",
   "metadata": {},
   "outputs": [
    {
     "data": {
      "text/html": [
       "<div>\n",
       "<style scoped>\n",
       "    .dataframe tbody tr th:only-of-type {\n",
       "        vertical-align: middle;\n",
       "    }\n",
       "\n",
       "    .dataframe tbody tr th {\n",
       "        vertical-align: top;\n",
       "    }\n",
       "\n",
       "    .dataframe thead th {\n",
       "        text-align: right;\n",
       "    }\n",
       "</style>\n",
       "<table border=\"1\" class=\"dataframe\">\n",
       "  <thead>\n",
       "    <tr style=\"text-align: right;\">\n",
       "      <th></th>\n",
       "      <th>Year</th>\n",
       "      <th>Selling_Price</th>\n",
       "      <th>Present_Price</th>\n",
       "      <th>Kms_Driven</th>\n",
       "      <th>Owner</th>\n",
       "    </tr>\n",
       "  </thead>\n",
       "  <tbody>\n",
       "    <tr>\n",
       "      <th>count</th>\n",
       "      <td>301.000000</td>\n",
       "      <td>301.000000</td>\n",
       "      <td>301.000000</td>\n",
       "      <td>301.000000</td>\n",
       "      <td>301.000000</td>\n",
       "    </tr>\n",
       "    <tr>\n",
       "      <th>mean</th>\n",
       "      <td>2013.627907</td>\n",
       "      <td>4.661296</td>\n",
       "      <td>7.628472</td>\n",
       "      <td>36947.205980</td>\n",
       "      <td>0.043189</td>\n",
       "    </tr>\n",
       "    <tr>\n",
       "      <th>std</th>\n",
       "      <td>2.891554</td>\n",
       "      <td>5.082812</td>\n",
       "      <td>8.644115</td>\n",
       "      <td>38886.883882</td>\n",
       "      <td>0.247915</td>\n",
       "    </tr>\n",
       "    <tr>\n",
       "      <th>min</th>\n",
       "      <td>2003.000000</td>\n",
       "      <td>0.100000</td>\n",
       "      <td>0.320000</td>\n",
       "      <td>500.000000</td>\n",
       "      <td>0.000000</td>\n",
       "    </tr>\n",
       "    <tr>\n",
       "      <th>25%</th>\n",
       "      <td>2012.000000</td>\n",
       "      <td>0.900000</td>\n",
       "      <td>1.200000</td>\n",
       "      <td>15000.000000</td>\n",
       "      <td>0.000000</td>\n",
       "    </tr>\n",
       "    <tr>\n",
       "      <th>50%</th>\n",
       "      <td>2014.000000</td>\n",
       "      <td>3.600000</td>\n",
       "      <td>6.400000</td>\n",
       "      <td>32000.000000</td>\n",
       "      <td>0.000000</td>\n",
       "    </tr>\n",
       "    <tr>\n",
       "      <th>75%</th>\n",
       "      <td>2016.000000</td>\n",
       "      <td>6.000000</td>\n",
       "      <td>9.900000</td>\n",
       "      <td>48767.000000</td>\n",
       "      <td>0.000000</td>\n",
       "    </tr>\n",
       "    <tr>\n",
       "      <th>max</th>\n",
       "      <td>2018.000000</td>\n",
       "      <td>35.000000</td>\n",
       "      <td>92.600000</td>\n",
       "      <td>500000.000000</td>\n",
       "      <td>3.000000</td>\n",
       "    </tr>\n",
       "  </tbody>\n",
       "</table>\n",
       "</div>"
      ],
      "text/plain": [
       "              Year  Selling_Price  Present_Price     Kms_Driven       Owner\n",
       "count   301.000000     301.000000     301.000000     301.000000  301.000000\n",
       "mean   2013.627907       4.661296       7.628472   36947.205980    0.043189\n",
       "std       2.891554       5.082812       8.644115   38886.883882    0.247915\n",
       "min    2003.000000       0.100000       0.320000     500.000000    0.000000\n",
       "25%    2012.000000       0.900000       1.200000   15000.000000    0.000000\n",
       "50%    2014.000000       3.600000       6.400000   32000.000000    0.000000\n",
       "75%    2016.000000       6.000000       9.900000   48767.000000    0.000000\n",
       "max    2018.000000      35.000000      92.600000  500000.000000    3.000000"
      ]
     },
     "execution_count": 43,
     "metadata": {},
     "output_type": "execute_result"
    }
   ],
   "source": [
    "df.describe()"
   ]
  },
  {
   "cell_type": "code",
   "execution_count": 44,
   "id": "d3e91585-269b-465b-a077-7f204f23a397",
   "metadata": {},
   "outputs": [
    {
     "data": {
      "text/html": [
       "<div>\n",
       "<style scoped>\n",
       "    .dataframe tbody tr th:only-of-type {\n",
       "        vertical-align: middle;\n",
       "    }\n",
       "\n",
       "    .dataframe tbody tr th {\n",
       "        vertical-align: top;\n",
       "    }\n",
       "\n",
       "    .dataframe thead th {\n",
       "        text-align: right;\n",
       "    }\n",
       "</style>\n",
       "<table border=\"1\" class=\"dataframe\">\n",
       "  <thead>\n",
       "    <tr style=\"text-align: right;\">\n",
       "      <th></th>\n",
       "      <th>Car_Name</th>\n",
       "      <th>Year</th>\n",
       "      <th>Selling_Price</th>\n",
       "      <th>Present_Price</th>\n",
       "      <th>Kms_Driven</th>\n",
       "      <th>Fuel_Type</th>\n",
       "      <th>Seller_Type</th>\n",
       "      <th>Transmission</th>\n",
       "      <th>Owner</th>\n",
       "    </tr>\n",
       "  </thead>\n",
       "  <tbody>\n",
       "    <tr>\n",
       "      <th>0</th>\n",
       "      <td>False</td>\n",
       "      <td>False</td>\n",
       "      <td>False</td>\n",
       "      <td>False</td>\n",
       "      <td>False</td>\n",
       "      <td>False</td>\n",
       "      <td>False</td>\n",
       "      <td>False</td>\n",
       "      <td>False</td>\n",
       "    </tr>\n",
       "    <tr>\n",
       "      <th>1</th>\n",
       "      <td>False</td>\n",
       "      <td>False</td>\n",
       "      <td>False</td>\n",
       "      <td>False</td>\n",
       "      <td>False</td>\n",
       "      <td>False</td>\n",
       "      <td>False</td>\n",
       "      <td>False</td>\n",
       "      <td>False</td>\n",
       "    </tr>\n",
       "    <tr>\n",
       "      <th>2</th>\n",
       "      <td>False</td>\n",
       "      <td>False</td>\n",
       "      <td>False</td>\n",
       "      <td>False</td>\n",
       "      <td>False</td>\n",
       "      <td>False</td>\n",
       "      <td>False</td>\n",
       "      <td>False</td>\n",
       "      <td>False</td>\n",
       "    </tr>\n",
       "    <tr>\n",
       "      <th>3</th>\n",
       "      <td>False</td>\n",
       "      <td>False</td>\n",
       "      <td>False</td>\n",
       "      <td>False</td>\n",
       "      <td>False</td>\n",
       "      <td>False</td>\n",
       "      <td>False</td>\n",
       "      <td>False</td>\n",
       "      <td>False</td>\n",
       "    </tr>\n",
       "    <tr>\n",
       "      <th>4</th>\n",
       "      <td>False</td>\n",
       "      <td>False</td>\n",
       "      <td>False</td>\n",
       "      <td>False</td>\n",
       "      <td>False</td>\n",
       "      <td>False</td>\n",
       "      <td>False</td>\n",
       "      <td>False</td>\n",
       "      <td>False</td>\n",
       "    </tr>\n",
       "    <tr>\n",
       "      <th>...</th>\n",
       "      <td>...</td>\n",
       "      <td>...</td>\n",
       "      <td>...</td>\n",
       "      <td>...</td>\n",
       "      <td>...</td>\n",
       "      <td>...</td>\n",
       "      <td>...</td>\n",
       "      <td>...</td>\n",
       "      <td>...</td>\n",
       "    </tr>\n",
       "    <tr>\n",
       "      <th>296</th>\n",
       "      <td>False</td>\n",
       "      <td>False</td>\n",
       "      <td>False</td>\n",
       "      <td>False</td>\n",
       "      <td>False</td>\n",
       "      <td>False</td>\n",
       "      <td>False</td>\n",
       "      <td>False</td>\n",
       "      <td>False</td>\n",
       "    </tr>\n",
       "    <tr>\n",
       "      <th>297</th>\n",
       "      <td>False</td>\n",
       "      <td>False</td>\n",
       "      <td>False</td>\n",
       "      <td>False</td>\n",
       "      <td>False</td>\n",
       "      <td>False</td>\n",
       "      <td>False</td>\n",
       "      <td>False</td>\n",
       "      <td>False</td>\n",
       "    </tr>\n",
       "    <tr>\n",
       "      <th>298</th>\n",
       "      <td>False</td>\n",
       "      <td>False</td>\n",
       "      <td>False</td>\n",
       "      <td>False</td>\n",
       "      <td>False</td>\n",
       "      <td>False</td>\n",
       "      <td>False</td>\n",
       "      <td>False</td>\n",
       "      <td>False</td>\n",
       "    </tr>\n",
       "    <tr>\n",
       "      <th>299</th>\n",
       "      <td>False</td>\n",
       "      <td>False</td>\n",
       "      <td>False</td>\n",
       "      <td>False</td>\n",
       "      <td>False</td>\n",
       "      <td>False</td>\n",
       "      <td>False</td>\n",
       "      <td>False</td>\n",
       "      <td>False</td>\n",
       "    </tr>\n",
       "    <tr>\n",
       "      <th>300</th>\n",
       "      <td>False</td>\n",
       "      <td>False</td>\n",
       "      <td>False</td>\n",
       "      <td>False</td>\n",
       "      <td>False</td>\n",
       "      <td>False</td>\n",
       "      <td>False</td>\n",
       "      <td>False</td>\n",
       "      <td>False</td>\n",
       "    </tr>\n",
       "  </tbody>\n",
       "</table>\n",
       "<p>301 rows × 9 columns</p>\n",
       "</div>"
      ],
      "text/plain": [
       "     Car_Name   Year  Selling_Price  Present_Price  Kms_Driven  Fuel_Type  \\\n",
       "0       False  False          False          False       False      False   \n",
       "1       False  False          False          False       False      False   \n",
       "2       False  False          False          False       False      False   \n",
       "3       False  False          False          False       False      False   \n",
       "4       False  False          False          False       False      False   \n",
       "..        ...    ...            ...            ...         ...        ...   \n",
       "296     False  False          False          False       False      False   \n",
       "297     False  False          False          False       False      False   \n",
       "298     False  False          False          False       False      False   \n",
       "299     False  False          False          False       False      False   \n",
       "300     False  False          False          False       False      False   \n",
       "\n",
       "     Seller_Type  Transmission  Owner  \n",
       "0          False         False  False  \n",
       "1          False         False  False  \n",
       "2          False         False  False  \n",
       "3          False         False  False  \n",
       "4          False         False  False  \n",
       "..           ...           ...    ...  \n",
       "296        False         False  False  \n",
       "297        False         False  False  \n",
       "298        False         False  False  \n",
       "299        False         False  False  \n",
       "300        False         False  False  \n",
       "\n",
       "[301 rows x 9 columns]"
      ]
     },
     "execution_count": 44,
     "metadata": {},
     "output_type": "execute_result"
    }
   ],
   "source": [
    "df.isnull()"
   ]
  },
  {
   "cell_type": "code",
   "execution_count": 45,
   "id": "908a4f3f-6266-4ccb-a46c-61c81c6a734d",
   "metadata": {},
   "outputs": [
    {
     "data": {
      "text/plain": [
       "Car_Name         0\n",
       "Year             0\n",
       "Selling_Price    0\n",
       "Present_Price    0\n",
       "Kms_Driven       0\n",
       "Fuel_Type        0\n",
       "Seller_Type      0\n",
       "Transmission     0\n",
       "Owner            0\n",
       "dtype: int64"
      ]
     },
     "execution_count": 45,
     "metadata": {},
     "output_type": "execute_result"
    }
   ],
   "source": [
    "df.isnull().sum()"
   ]
  },
  {
   "cell_type": "code",
   "execution_count": 46,
   "id": "bd88cca2-4a5d-42ad-8fd1-933e91764bfd",
   "metadata": {},
   "outputs": [
    {
     "data": {
      "text/plain": [
       "Index(['Car_Name', 'Year', 'Selling_Price', 'Present_Price', 'Kms_Driven',\n",
       "       'Fuel_Type', 'Seller_Type', 'Transmission', 'Owner'],\n",
       "      dtype='object')"
      ]
     },
     "execution_count": 46,
     "metadata": {},
     "output_type": "execute_result"
    }
   ],
   "source": [
    "df.columns"
   ]
  },
  {
   "cell_type": "code",
   "execution_count": 47,
   "id": "036cfca2-f324-4e8d-a1d0-d9ba962f1217",
   "metadata": {},
   "outputs": [],
   "source": [
    "import matplotlib.pyplot as plt"
   ]
  },
  {
   "cell_type": "code",
   "execution_count": 48,
   "id": "d6aa6701-f443-4779-b817-99835b26de38",
   "metadata": {},
   "outputs": [],
   "source": [
    "import seaborn as sns"
   ]
  },
  {
   "cell_type": "code",
   "execution_count": 49,
   "id": "4a67ed4d-ebdb-4ebe-ac1c-e5224bef6829",
   "metadata": {},
   "outputs": [],
   "source": [
    "sns.set(style=\"whitegrid\")"
   ]
  },
  {
   "cell_type": "code",
   "execution_count": 50,
   "id": "705b502b-beb6-4b6e-abb4-c870784908dd",
   "metadata": {},
   "outputs": [
    {
     "name": "stderr",
     "output_type": "stream",
     "text": [
      "C:\\Users\\raman\\AppData\\Local\\Temp\\ipykernel_8496\\3371570762.py:2: FutureWarning: \n",
      "\n",
      "Passing `palette` without assigning `hue` is deprecated and will be removed in v0.14.0. Assign the `x` variable to `hue` and set `legend=False` for the same effect.\n",
      "\n",
      "  sns.countplot(x=df[\"Fuel_Type\"], palette=\"coolwarm\")\n"
     ]
    },
    {
     "data": {
      "image/png": "[encoded data removed]",
      "text/plain": [
       "<Figure size 700x700 with 1 Axes>"
      ]
     },
     "metadata": {},
     "output_type": "display_data"
    }
   ],
   "source": [
    "plt.figure(figsize=(7,7))\n",
    "sns.countplot(x=df[\"Fuel_Type\"], palette=\"coolwarm\")\n",
    "plt.title(\"Car Count by Fuel Type\")\n",
    "plt.show()"
   ]
  },
  {
   "cell_type": "code",
   "execution_count": 51,
   "id": "1e7904ee-0ff8-49ed-9ae2-5107db7a3916",
   "metadata": {},
   "outputs": [
    {
     "data": {
      "image/png": "[encoded data removed]",
      "text/plain": [
       "<Figure size 700x700 with 1 Axes>"
      ]
     },
     "metadata": {},
     "output_type": "display_data"
    }
   ],
   "source": [
    "plt.figure(figsize=(7,7))\n",
    "sns.histplot(df[\"Selling_Price\"], bins=30, kde=True, color=\"blue\")\n",
    "plt.title(\"Distribution of Selling Price\")\n",
    "plt.show()"
   ]
  },
  {
   "cell_type": "code",
   "execution_count": 52,
   "id": "fcda3119-277a-4586-a0c8-e3a2c8ac11d5",
   "metadata": {},
   "outputs": [
    {
     "data": {
      "image/png": "[encoded data removed]",
      "text/plain": [
       "<Figure size 800x500 with 1 Axes>"
      ]
     },
     "metadata": {},
     "output_type": "display_data"
    }
   ],
   "source": [
    "plt.figure(figsize=(8,5))\n",
    "sns.scatterplot(x=df[\"Present_Price\"], y=df[\"Selling_Price\"], hue=df[\"Fuel_Type\"])\n",
    "plt.title(\"Selling Price vs Present Price\")\n",
    "plt.show()"
   ]
  }
 ],
 "metadata": {
  "kernelspec": {
   "display_name": "Python (myenv)",
   "language": "python",
   "name": "myenv"
  },
  "language_info": {
   "codemirror_mode": {
    "name": "ipython",
    "version": 3
   },
   "file_extension": ".py",
   "mimetype": "text/x-python",
   "name": "python",
   "nbconvert_exporter": "python",
   "pygments_lexer": "ipython3",
   "version": "3.9.21"
  }
 },
 "nbformat": 4,
 "nbformat_minor": 5
}
